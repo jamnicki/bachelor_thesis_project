{
 "cells": [
  {
   "cell_type": "code",
   "execution_count": 1,
   "metadata": {},
   "outputs": [],
   "source": [
    "from spacy.lang.pl import Polish\n",
    "from spacy.tokens import DocBin\n",
    "\n",
    "import argilla as rg\n",
    "\n",
    "from pathlib import Path"
   ]
  },
  {
   "cell_type": "code",
   "execution_count": 2,
   "metadata": {},
   "outputs": [],
   "source": [
    "TRAIN_DS_NAME = \"inzynierka-kpwr-train-3\"\n",
    "TEST_DS_NAME = \"inzynierka-kpwr-test-3\"\n",
    "\n",
    "DATA_DIR = Path(\"data\")\n",
    "\n",
    "DOCBIN_TRAIN_PATH = DATA_DIR / f\"{TRAIN_DS_NAME}.spacy\"\n",
    "DOCBIN_TEST_PATH = DATA_DIR / f\"{TEST_DS_NAME}.spacy\""
   ]
  },
  {
   "cell_type": "code",
   "execution_count": 3,
   "metadata": {},
   "outputs": [],
   "source": [
    "rg_dataset_train = rg.load(name=TRAIN_DS_NAME)\n",
    "rg_dataset_test = rg.load(name=TEST_DS_NAME)"
   ]
  },
  {
   "cell_type": "code",
   "execution_count": 4,
   "metadata": {},
   "outputs": [],
   "source": [
    "nlp = Polish()"
   ]
  },
  {
   "cell_type": "code",
   "execution_count": 5,
   "metadata": {},
   "outputs": [],
   "source": [
    "rg_docbin_train = rg_dataset_train.prepare_for_training(framework=\"spacy\", lang=nlp)\n",
    "rg_docbin_test = rg_dataset_test.prepare_for_training(framework=\"spacy\", lang=nlp)"
   ]
  },
  {
   "cell_type": "code",
   "execution_count": 6,
   "metadata": {},
   "outputs": [],
   "source": [
    "docbin_train_wspans = DocBin()\n",
    "for doc in rg_docbin_train.get_docs(nlp.vocab):\n",
    "    doc.spans[\"sc\"] = list(doc.ents)\n",
    "    docbin_train_wspans.add(doc)\n",
    "\n",
    "docbin_test_wspans = DocBin()\n",
    "for doc in rg_docbin_test.get_docs(nlp.vocab):\n",
    "    doc.spans[\"sc\"] = list(doc.ents)\n",
    "    docbin_test_wspans.add(doc)"
   ]
  },
  {
   "cell_type": "code",
   "execution_count": 7,
   "metadata": {},
   "outputs": [],
   "source": [
    "docbin_train_wspans.to_disk(DOCBIN_TRAIN_PATH)\n",
    "docbin_test_wspans.to_disk(DOCBIN_TEST_PATH)"
   ]
  }
 ],
 "metadata": {
  "kernelspec": {
   "display_name": "Python 3.8.13 ('inzynierka')",
   "language": "python",
   "name": "python3"
  },
  "language_info": {
   "codemirror_mode": {
    "name": "ipython",
    "version": 3
   },
   "file_extension": ".py",
   "mimetype": "text/x-python",
   "name": "python",
   "nbconvert_exporter": "python",
   "pygments_lexer": "ipython3",
   "version": "3.8.13"
  },
  "orig_nbformat": 4,
  "vscode": {
   "interpreter": {
    "hash": "f93f2a12df6eac11490746e2731e653b567b740467f1f6260fc82eafdd8ce6df"
   }
  }
 },
 "nbformat": 4,
 "nbformat_minor": 2
}

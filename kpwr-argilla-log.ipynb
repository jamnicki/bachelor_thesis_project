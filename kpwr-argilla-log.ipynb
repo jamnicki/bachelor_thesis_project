{
 "cells": [
  {
   "cell_type": "code",
   "execution_count": 1,
   "metadata": {},
   "outputs": [],
   "source": [
    "import argilla as rg\n",
    "from datasets import load_dataset"
   ]
  },
  {
   "cell_type": "code",
   "execution_count": 2,
   "metadata": {},
   "outputs": [],
   "source": [
    "SEED = 42\n",
    "TRAIN_NUM_SAMPLES = 400\n",
    "TEST_NUM_SAMPLES = 100"
   ]
  },
  {
   "cell_type": "code",
   "execution_count": 3,
   "metadata": {},
   "outputs": [
    {
     "name": "stderr",
     "output_type": "stream",
     "text": [
      "2022-11-14 13:24:28.786 | WARNING  | datasets.builder:download_and_prepare:739 - Found cached dataset kpwr-ner (/home/jjamnicki/.cache/huggingface/datasets/clarin-pl___kpwr-ner/default/0.0.0/001e3d471298007e8412e3a6ccc06bec000dec1bce0cf8e0ba7e5b7e105b1342)\n",
      "2022-11-14 13:24:31.090 | WARNING  | datasets.builder:download_and_prepare:739 - Found cached dataset kpwr-ner (/home/jjamnicki/.cache/huggingface/datasets/clarin-pl___kpwr-ner/default/0.0.0/001e3d471298007e8412e3a6ccc06bec000dec1bce0cf8e0ba7e5b7e105b1342)\n"
     ]
    }
   ],
   "source": [
    "test_ds_full = load_dataset(\"clarin-pl/kpwr-ner\", split=\"test\")\n",
    "train_ds_full = load_dataset(\"clarin-pl/kpwr-ner\", split=\"train\")"
   ]
  },
  {
   "cell_type": "code",
   "execution_count": 4,
   "metadata": {},
   "outputs": [],
   "source": [
    "def _contains_any_label(example, labels):\n",
    "    return any(map(lambda label: label in labels, example[\"ner\"]))\n",
    "\n",
    "# index: label (BIO)\n",
    "include_labels = {\n",
    "    20: \"B-nam_liv_person\", 98: \"I-nam_liv_person\",\n",
    "    27: \"B-nam_loc_gpe_city\", 105: \"I-nam_loc_gpe_city\",\n",
    "    29: \"B-nam_loc_gpe_country\", 107: \"I-nam_loc_gpe_country\"\n",
    "}\n",
    "\n",
    "assert len(include_labels) % 2 == 0\n",
    "\n",
    "labels_num = int(len(include_labels) / 2)"
   ]
  },
  {
   "cell_type": "code",
   "execution_count": 5,
   "metadata": {},
   "outputs": [],
   "source": [
    "TRAIN_DS_NAME = f\"inzynierka-kpwr-train-{labels_num}\"\n",
    "TEST_DS_NAME = f\"inzynierka-kpwr-test-{labels_num}\""
   ]
  },
  {
   "cell_type": "code",
   "execution_count": 6,
   "metadata": {},
   "outputs": [
    {
     "name": "stderr",
     "output_type": "stream",
     "text": [
      "2022-11-14 13:24:31.184 | WARNING  | datasets.arrow_dataset:_map_single:2793 - Loading cached processed dataset at /home/jjamnicki/.cache/huggingface/datasets/clarin-pl___kpwr-ner/default/0.0.0/001e3d471298007e8412e3a6ccc06bec000dec1bce0cf8e0ba7e5b7e105b1342/cache-d08129dee862fef8.arrow\n",
      "2022-11-14 13:24:31.190 | WARNING  | datasets.arrow_dataset:_map_single:2793 - Loading cached processed dataset at /home/jjamnicki/.cache/huggingface/datasets/clarin-pl___kpwr-ner/default/0.0.0/001e3d471298007e8412e3a6ccc06bec000dec1bce0cf8e0ba7e5b7e105b1342/cache-982a270873ba5bdd.arrow\n"
     ]
    }
   ],
   "source": [
    "train_dataset = train_ds_full \\\n",
    "                    .filter(lambda record: _contains_any_label(record, include_labels.keys()))\n",
    "test_dataset = test_ds_full \\\n",
    "                    .filter(lambda record: _contains_any_label(record, include_labels.keys()))"
   ]
  },
  {
   "cell_type": "code",
   "execution_count": 7,
   "metadata": {},
   "outputs": [
    {
     "data": {
      "text/plain": [
       "(3456, 1136)"
      ]
     },
     "execution_count": 7,
     "metadata": {},
     "output_type": "execute_result"
    }
   ],
   "source": [
    "len(train_dataset), len(test_dataset)"
   ]
  },
  {
   "cell_type": "code",
   "execution_count": 8,
   "metadata": {},
   "outputs": [
    {
     "name": "stdout",
     "output_type": "stream",
     "text": [
      "tokens: ['Roboty', 'mają', 'kilkanaście', 'lat', 'i', 'pochodzą', 'z', 'USA', ',', 'Wysokie', 'napięcie', 'jest', 'dużo', 'młodsze', ',', 'powstało', 'w', 'Niemczech', '.']\n",
      "\n",
      "lemmas: ['robota', 'maić', 'kilkanaście', 'rok', 'i', 'pochodzić', 'z', 'USA', ',', 'wysoki', 'napięcie', 'być', 'dużo', 'młody', ',', 'powstać', 'w', 'Niemcy', '.']\n",
      "\n",
      "orth: ['subst:pl:nom:f', 'fin:pl:ter:imperf', 'num:pl:acc:m3:rec', 'subst:pl:gen:m3', 'conj', 'fin:pl:ter:imperf', 'prep:gen:nwok', 'subst:pl:gen:n', 'interp', 'adj:sg:nom:n:pos', 'subst:sg:nom:n', 'fin:sg:ter:imperf', 'num:pl:nom:n:rec', 'adj:sg:nom:n:com', 'interp', 'praet:sg:n:perf', 'prep:loc:nwok', 'subst:pl:loc:n', 'interp']\n",
      "\n",
      "ner: [73, 160, 160, 160, 160, 160, 160, 29, 160, 73, 151, 160, 160, 160, 160, 160, 160, 29, 160]\n",
      "\n"
     ]
    }
   ],
   "source": [
    "record_sample = train_dataset[0]\n",
    "for key, item in record_sample.items():\n",
    "    print(f\"{key}: {item}\\n\")"
   ]
  },
  {
   "cell_type": "code",
   "execution_count": 9,
   "metadata": {},
   "outputs": [],
   "source": [
    "def map_idx_to_label(example, labels_dict):\n",
    "    # \"O\" if not in labels to be included\n",
    "    return [\n",
    "        labels_dict[idx] if idx in labels_dict.keys() else \"O\"\n",
    "        for idx in example[\"ner\"]\n",
    "    ]\n",
    "\n",
    "def datasets_to_rg(dataset):\n",
    "    rg_records = [\n",
    "        rg.TokenClassificationRecord(\n",
    "            tokens=example[\"tokens\"],\n",
    "            tags=map_idx_to_label(example, include_labels)\n",
    "        )\n",
    "        for example in dataset\n",
    "    ]\n",
    "    return rg.DatasetForTokenClassification(rg_records)"
   ]
  },
  {
   "cell_type": "code",
   "execution_count": 10,
   "metadata": {},
   "outputs": [
    {
     "name": "stderr",
     "output_type": "stream",
     "text": [
      "2022-11-14 13:24:31.365 | WARNING  | datasets.arrow_dataset:shuffle:3609 - Loading cached shuffled indices for dataset at /home/jjamnicki/.cache/huggingface/datasets/clarin-pl___kpwr-ner/default/0.0.0/001e3d471298007e8412e3a6ccc06bec000dec1bce0cf8e0ba7e5b7e105b1342/cache-a2efc0407f1556fe.arrow\n",
      "2022-11-14 13:24:31.371 | WARNING  | datasets.arrow_dataset:shuffle:3609 - Loading cached shuffled indices for dataset at /home/jjamnicki/.cache/huggingface/datasets/clarin-pl___kpwr-ner/default/0.0.0/001e3d471298007e8412e3a6ccc06bec000dec1bce0cf8e0ba7e5b7e105b1342/cache-1b197afce70d08b9.arrow\n"
     ]
    }
   ],
   "source": [
    "train_dataset_sample = train_dataset.shuffle(seed=SEED).select(range(TRAIN_NUM_SAMPLES))\n",
    "test_dataset_sample = test_dataset.shuffle(seed=SEED).select(range(TEST_NUM_SAMPLES))"
   ]
  },
  {
   "cell_type": "code",
   "execution_count": 11,
   "metadata": {},
   "outputs": [],
   "source": [
    "rg_records_train = datasets_to_rg(train_dataset_sample)\n",
    "rg_records_test = datasets_to_rg(test_dataset_sample)"
   ]
  },
  {
   "cell_type": "code",
   "execution_count": 12,
   "metadata": {},
   "outputs": [],
   "source": [
    "rg_dataset_train = rg.DatasetForTokenClassification(rg_records_train)\n",
    "rg_dataset_test = rg.DatasetForTokenClassification(rg_records_test)"
   ]
  },
  {
   "cell_type": "code",
   "execution_count": 13,
   "metadata": {},
   "outputs": [
    {
     "data": {
      "application/vnd.jupyter.widget-view+json": {
       "model_id": "56094ac9e24045a69bd8df9eadfcbf31",
       "version_major": 2,
       "version_minor": 0
      },
      "text/plain": [
       "  0%|          | 0/400 [00:00<?, ?it/s]"
      ]
     },
     "metadata": {},
     "output_type": "display_data"
    },
    {
     "name": "stdout",
     "output_type": "stream",
     "text": [
      "400 records logged to http://localhost:6900/datasets/argilla/inzynierka-kpwr-train-3\n"
     ]
    },
    {
     "data": {
      "application/vnd.jupyter.widget-view+json": {
       "model_id": "ba149dd5f5a94ef89272985d1daa6c08",
       "version_major": 2,
       "version_minor": 0
      },
      "text/plain": [
       "  0%|          | 0/100 [00:00<?, ?it/s]"
      ]
     },
     "metadata": {},
     "output_type": "display_data"
    },
    {
     "name": "stdout",
     "output_type": "stream",
     "text": [
      "100 records logged to http://localhost:6900/datasets/argilla/inzynierka-kpwr-test-3\n"
     ]
    },
    {
     "data": {
      "text/plain": [
       "BulkResponse(dataset='inzynierka-kpwr-test-3', processed=100, failed=0)"
      ]
     },
     "execution_count": 13,
     "metadata": {},
     "output_type": "execute_result"
    }
   ],
   "source": [
    "rg.log(rg_dataset_train, name=TRAIN_DS_NAME)\n",
    "rg.log(rg_dataset_test, name=TEST_DS_NAME)"
   ]
  },
  {
   "cell_type": "markdown",
   "metadata": {},
   "source": [
    "## dobry przykład do displacy ner"
   ]
  },
  {
   "cell_type": "code",
   "execution_count": 14,
   "metadata": {},
   "outputs": [
    {
     "name": "stdout",
     "output_type": "stream",
     "text": [
      "Prezydent Sudanu Omar al - Baszir już zapowiedział , że jego kraj nie będzie współpracował z trybunałem w Hadze .\n",
      "[('nam_loc_gpe_country', 10, 16), ('nam_liv_person', 17, 33), ('nam_loc_gpe_city', 106, 111)]\n"
     ]
    }
   ],
   "source": [
    "for record in rg_dataset_train:\n",
    "    if \"Hadze\" in record.text:\n",
    "        print(record.text)\n",
    "        print(record.annotation)"
   ]
  },
  {
   "cell_type": "code",
   "execution_count": null,
   "metadata": {},
   "outputs": [],
   "source": []
  },
  {
   "cell_type": "code",
   "execution_count": 15,
   "metadata": {},
   "outputs": [],
   "source": [
    "# !jupyter nbconvert --to pdf kpwr-argilla-log.ipynb --output ./misc/kpwr-argilla-log.pdf"
   ]
  },
  {
   "cell_type": "code",
   "execution_count": null,
   "metadata": {},
   "outputs": [],
   "source": []
  }
 ],
 "metadata": {
  "kernelspec": {
   "display_name": "Python 3.8.13 ('inzynierka')",
   "language": "python",
   "name": "python3"
  },
  "language_info": {
   "codemirror_mode": {
    "name": "ipython",
    "version": 3
   },
   "file_extension": ".py",
   "mimetype": "text/x-python",
   "name": "python",
   "nbconvert_exporter": "python",
   "pygments_lexer": "ipython3",
   "version": "3.8.13"
  },
  "orig_nbformat": 4,
  "vscode": {
   "interpreter": {
    "hash": "f93f2a12df6eac11490746e2731e653b567b740467f1f6260fc82eafdd8ce6df"
   }
  }
 },
 "nbformat": 4,
 "nbformat_minor": 2
}

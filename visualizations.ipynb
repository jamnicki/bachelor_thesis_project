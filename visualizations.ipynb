{
 "cells": [
  {
   "cell_type": "code",
   "execution_count": 1,
   "metadata": {},
   "outputs": [
    {
     "data": {
      "text/html": [
       "<style>\n",
       "        .bk-notebook-logo {\n",
       "            display: block;\n",
       "            width: 20px;\n",
       "            height: 20px;\n",
       "            background-image: url(data:image/png;base64,iVBORw0KGgoAAAANSUhEUgAAABQAAAAUCAYAAACNiR0NAAAABHNCSVQICAgIfAhkiAAAAAlwSFlzAAALEgAACxIB0t1+/AAAABx0RVh0U29mdHdhcmUAQWRvYmUgRmlyZXdvcmtzIENTNui8sowAAAOkSURBVDiNjZRtaJVlGMd/1/08zzln5zjP1LWcU9N0NkN8m2CYjpgQYQXqSs0I84OLIC0hkEKoPtiH3gmKoiJDU7QpLgoLjLIQCpEsNJ1vqUOdO7ppbuec5+V+rj4ctwzd8IIbbi6u+8f1539dt3A78eXC7QizUF7gyV1fD1Yqg4JWz84yffhm0qkFqBogB9rM8tZdtwVsPUhWhGcFJngGeWrPzHm5oaMmkfEg1usvLFyc8jLRqDOMru7AyC8saQr7GG7f5fvDeH7Ej8CM66nIF+8yngt6HWaKh7k49Soy9nXurCi1o3qUbS3zWfrYeQDTB/Qj6kX6Ybhw4B+bOYoLKCC9H3Nu/leUTZ1JdRWkkn2ldcCamzrcf47KKXdAJllSlxAOkRgyHsGC/zRday5Qld9DyoM4/q/rUoy/CXh3jzOu3bHUVZeU+DEn8FInkPBFlu3+nW3Nw0mk6vCDiWg8CeJaxEwuHS3+z5RgY+YBR6V1Z1nxSOfoaPa4LASWxxdNp+VWTk7+4vzaou8v8PN+xo+KY2xsw6une2frhw05CTYOmQvsEhjhWjn0bmXPjpE1+kplmmkP3suftwTubK9Vq22qKmrBhpY4jvd5afdRA3wGjFAgcnTK2s4hY0/GPNIb0nErGMCRxWOOX64Z8RAC4oCXdklmEvcL8o0BfkNK4lUg9HTl+oPlQxdNo3Mg4Nv175e/1LDGzZen30MEjRUtmXSfiTVu1kK8W4txyV6BMKlbgk3lMwYCiusNy9fVfvvwMxv8Ynl6vxoByANLTWplvuj/nF9m2+PDtt1eiHPBr1oIfhCChQMBw6Aw0UulqTKZdfVvfG7VcfIqLG9bcldL/+pdWTLxLUy8Qq38heUIjh4XlzZxzQm19lLFlr8vdQ97rjZVOLf8nclzckbcD4wxXMidpX30sFd37Fv/GtwwhzhxGVAprjbg0gCAEeIgwCZyTV2Z1REEW8O4py0wsjeloKoMr6iCY6dP92H6Vw/oTyICIthibxjm/DfN9lVz8IqtqKYLUXfoKVMVQVVJOElGjrnnUt9T9wbgp8AyYKaGlqingHZU/uG2NTZSVqwHQTWkx9hxjkpWDaCg6Ckj5qebgBVbT3V3NNXMSiWSDdGV3hrtzla7J+duwPOToIg42ChPQOQjspnSlp1V+Gjdged7+8UN5CRAV7a5EdFNwCjEaBR27b3W890TE7g24NAP/mMDXRWrGoFPQI9ls/MWO2dWFAar/xcOIImbbpA3zgAAAABJRU5ErkJggg==);\n",
       "        }\n",
       "    </style>\n",
       "    <div>\n",
       "        <a href=\"https://bokeh.org\" target=\"_blank\" class=\"bk-notebook-logo\"></a>\n",
       "        <span id=\"p1001\">Loading BokehJS ...</span>\n",
       "    </div>\n"
      ]
     },
     "metadata": {},
     "output_type": "display_data"
    },
    {
     "data": {
      "application/javascript": "(function(root) {\n  function now() {\n    return new Date();\n  }\n\n  const force = true;\n\n  if (typeof root._bokeh_onload_callbacks === \"undefined\" || force === true) {\n    root._bokeh_onload_callbacks = [];\n    root._bokeh_is_loading = undefined;\n  }\n\nconst JS_MIME_TYPE = 'application/javascript';\n  const HTML_MIME_TYPE = 'text/html';\n  const EXEC_MIME_TYPE = 'application/vnd.bokehjs_exec.v0+json';\n  const CLASS_NAME = 'output_bokeh rendered_html';\n\n  /**\n   * Render data to the DOM node\n   */\n  function render(props, node) {\n    const script = document.createElement(\"script\");\n    node.appendChild(script);\n  }\n\n  /**\n   * Handle when an output is cleared or removed\n   */\n  function handleClearOutput(event, handle) {\n    const cell = handle.cell;\n\n    const id = cell.output_area._bokeh_element_id;\n    const server_id = cell.output_area._bokeh_server_id;\n    // Clean up Bokeh references\n    if (id != null && id in Bokeh.index) {\n      Bokeh.index[id].model.document.clear();\n      delete Bokeh.index[id];\n    }\n\n    if (server_id !== undefined) {\n      // Clean up Bokeh references\n      const cmd_clean = \"from bokeh.io.state import curstate; print(curstate().uuid_to_server['\" + server_id + \"'].get_sessions()[0].document.roots[0]._id)\";\n      cell.notebook.kernel.execute(cmd_clean, {\n        iopub: {\n          output: function(msg) {\n            const id = msg.content.text.trim();\n            if (id in Bokeh.index) {\n              Bokeh.index[id].model.document.clear();\n              delete Bokeh.index[id];\n            }\n          }\n        }\n      });\n      // Destroy server and session\n      const cmd_destroy = \"import bokeh.io.notebook as ion; ion.destroy_server('\" + server_id + \"')\";\n      cell.notebook.kernel.execute(cmd_destroy);\n    }\n  }\n\n  /**\n   * Handle when a new output is added\n   */\n  function handleAddOutput(event, handle) {\n    const output_area = handle.output_area;\n    const output = handle.output;\n\n    // limit handleAddOutput to display_data with EXEC_MIME_TYPE content only\n    if ((output.output_type != \"display_data\") || (!Object.prototype.hasOwnProperty.call(output.data, EXEC_MIME_TYPE))) {\n      return\n    }\n\n    const toinsert = output_area.element.find(\".\" + CLASS_NAME.split(' ')[0]);\n\n    if (output.metadata[EXEC_MIME_TYPE][\"id\"] !== undefined) {\n      toinsert[toinsert.length - 1].firstChild.textContent = output.data[JS_MIME_TYPE];\n      // store reference to embed id on output_area\n      output_area._bokeh_element_id = output.metadata[EXEC_MIME_TYPE][\"id\"];\n    }\n    if (output.metadata[EXEC_MIME_TYPE][\"server_id\"] !== undefined) {\n      const bk_div = document.createElement(\"div\");\n      bk_div.innerHTML = output.data[HTML_MIME_TYPE];\n      const script_attrs = bk_div.children[0].attributes;\n      for (let i = 0; i < script_attrs.length; i++) {\n        toinsert[toinsert.length - 1].firstChild.setAttribute(script_attrs[i].name, script_attrs[i].value);\n        toinsert[toinsert.length - 1].firstChild.textContent = bk_div.children[0].textContent\n      }\n      // store reference to server id on output_area\n      output_area._bokeh_server_id = output.metadata[EXEC_MIME_TYPE][\"server_id\"];\n    }\n  }\n\n  function register_renderer(events, OutputArea) {\n\n    function append_mime(data, metadata, element) {\n      // create a DOM node to render to\n      const toinsert = this.create_output_subarea(\n        metadata,\n        CLASS_NAME,\n        EXEC_MIME_TYPE\n      );\n      this.keyboard_manager.register_events(toinsert);\n      // Render to node\n      const props = {data: data, metadata: metadata[EXEC_MIME_TYPE]};\n      render(props, toinsert[toinsert.length - 1]);\n      element.append(toinsert);\n      return toinsert\n    }\n\n    /* Handle when an output is cleared or removed */\n    events.on('clear_output.CodeCell', handleClearOutput);\n    events.on('delete.Cell', handleClearOutput);\n\n    /* Handle when a new output is added */\n    events.on('output_added.OutputArea', handleAddOutput);\n\n    /**\n     * Register the mime type and append_mime function with output_area\n     */\n    OutputArea.prototype.register_mime_type(EXEC_MIME_TYPE, append_mime, {\n      /* Is output safe? */\n      safe: true,\n      /* Index of renderer in `output_area.display_order` */\n      index: 0\n    });\n  }\n\n  // register the mime type if in Jupyter Notebook environment and previously unregistered\n  if (root.Jupyter !== undefined) {\n    const events = require('base/js/events');\n    const OutputArea = require('notebook/js/outputarea').OutputArea;\n\n    if (OutputArea.prototype.mime_types().indexOf(EXEC_MIME_TYPE) == -1) {\n      register_renderer(events, OutputArea);\n    }\n  }\n  if (typeof (root._bokeh_timeout) === \"undefined\" || force === true) {\n    root._bokeh_timeout = Date.now() + 5000;\n    root._bokeh_failed_load = false;\n  }\n\n  const NB_LOAD_WARNING = {'data': {'text/html':\n     \"<div style='background-color: #fdd'>\\n\"+\n     \"<p>\\n\"+\n     \"BokehJS does not appear to have successfully loaded. If loading BokehJS from CDN, this \\n\"+\n     \"may be due to a slow or bad network connection. Possible fixes:\\n\"+\n     \"</p>\\n\"+\n     \"<ul>\\n\"+\n     \"<li>re-rerun `output_notebook()` to attempt to load from CDN again, or</li>\\n\"+\n     \"<li>use INLINE resources instead, as so:</li>\\n\"+\n     \"</ul>\\n\"+\n     \"<code>\\n\"+\n     \"from bokeh.resources import INLINE\\n\"+\n     \"output_notebook(resources=INLINE)\\n\"+\n     \"</code>\\n\"+\n     \"</div>\"}};\n\n  function display_loaded() {\n    const el = document.getElementById(\"p1001\");\n    if (el != null) {\n      el.textContent = \"BokehJS is loading...\";\n    }\n    if (root.Bokeh !== undefined) {\n      if (el != null) {\n        el.textContent = \"BokehJS \" + root.Bokeh.version + \" successfully loaded.\";\n      }\n    } else if (Date.now() < root._bokeh_timeout) {\n      setTimeout(display_loaded, 100)\n    }\n  }\n\n  function run_callbacks() {\n    try {\n      root._bokeh_onload_callbacks.forEach(function(callback) {\n        if (callback != null)\n          callback();\n      });\n    } finally {\n      delete root._bokeh_onload_callbacks\n    }\n    console.debug(\"Bokeh: all callbacks have finished\");\n  }\n\n  function load_libs(css_urls, js_urls, callback) {\n    if (css_urls == null) css_urls = [];\n    if (js_urls == null) js_urls = [];\n\n    root._bokeh_onload_callbacks.push(callback);\n    if (root._bokeh_is_loading > 0) {\n      console.debug(\"Bokeh: BokehJS is being loaded, scheduling callback at\", now());\n      return null;\n    }\n    if (js_urls == null || js_urls.length === 0) {\n      run_callbacks();\n      return null;\n    }\n    console.debug(\"Bokeh: BokehJS not loaded, scheduling load and callback at\", now());\n    root._bokeh_is_loading = css_urls.length + js_urls.length;\n\n    function on_load() {\n      root._bokeh_is_loading--;\n      if (root._bokeh_is_loading === 0) {\n        console.debug(\"Bokeh: all BokehJS libraries/stylesheets loaded\");\n        run_callbacks()\n      }\n    }\n\n    function on_error(url) {\n      console.error(\"failed to load \" + url);\n    }\n\n    for (let i = 0; i < css_urls.length; i++) {\n      const url = css_urls[i];\n      const element = document.createElement(\"link\");\n      element.onload = on_load;\n      element.onerror = on_error.bind(null, url);\n      element.rel = \"stylesheet\";\n      element.type = \"text/css\";\n      element.href = url;\n      console.debug(\"Bokeh: injecting link tag for BokehJS stylesheet: \", url);\n      document.body.appendChild(element);\n    }\n\n    for (let i = 0; i < js_urls.length; i++) {\n      const url = js_urls[i];\n      const element = document.createElement('script');\n      element.onload = on_load;\n      element.onerror = on_error.bind(null, url);\n      element.async = false;\n      element.src = url;\n      console.debug(\"Bokeh: injecting script tag for BokehJS library: \", url);\n      document.head.appendChild(element);\n    }\n  };\n\n  function inject_raw_css(css) {\n    const element = document.createElement(\"style\");\n    element.appendChild(document.createTextNode(css));\n    document.body.appendChild(element);\n  }\n\n  const js_urls = [\"https://cdn.bokeh.org/bokeh/release/bokeh-3.0.2.min.js\", \"https://cdn.bokeh.org/bokeh/release/bokeh-gl-3.0.2.min.js\", \"https://cdn.bokeh.org/bokeh/release/bokeh-widgets-3.0.2.min.js\", \"https://cdn.bokeh.org/bokeh/release/bokeh-tables-3.0.2.min.js\", \"https://cdn.bokeh.org/bokeh/release/bokeh-mathjax-3.0.2.min.js\"];\n  const css_urls = [];\n\n  const inline_js = [    function(Bokeh) {\n      Bokeh.set_log_level(\"info\");\n    },\nfunction(Bokeh) {\n    }\n  ];\n\n  function run_inline_js() {\n    if (root.Bokeh !== undefined || force === true) {\n          for (let i = 0; i < inline_js.length; i++) {\n      inline_js[i].call(root, root.Bokeh);\n    }\nif (force === true) {\n        display_loaded();\n      }} else if (Date.now() < root._bokeh_timeout) {\n      setTimeout(run_inline_js, 100);\n    } else if (!root._bokeh_failed_load) {\n      console.log(\"Bokeh: BokehJS failed to load within specified timeout.\");\n      root._bokeh_failed_load = true;\n    } else if (force !== true) {\n      const cell = $(document.getElementById(\"p1001\")).parents('.cell').data().cell;\n      cell.output_area.append_execute_result(NB_LOAD_WARNING)\n    }\n  }\n\n  if (root._bokeh_is_loading === 0) {\n    console.debug(\"Bokeh: BokehJS loaded, going straight to plotting\");\n    run_inline_js();\n  } else {\n    load_libs(css_urls, js_urls, function() {\n      console.debug(\"Bokeh: BokehJS plotting callback run at\", now());\n      run_inline_js();\n    });\n  }\n}(window));",
      "application/vnd.bokehjs_load.v0+json": ""
     },
     "metadata": {},
     "output_type": "display_data"
    }
   ],
   "source": [
    "from bokeh.io import output_notebook, show, export_png\n",
    "from bokeh.plotting import figure\n",
    "from bokeh.models import NumeralTickFormatter\n",
    "\n",
    "output_notebook()\n",
    "\n",
    "from pathlib import Path\n",
    "from jsonlines import jsonlines\n",
    "from pprint import pprint\n",
    "from random import randint"
   ]
  },
  {
   "cell_type": "code",
   "execution_count": 2,
   "metadata": {},
   "outputs": [],
   "source": [
    "RANDOM_QUERY_LOG = \"logs/scripts/random_13i_200n_active_learned_kpwr-full__1669005233f0976288.metrics.jsonl\"\n",
    "LEAST_CONFIDENCE_LOG = \"logs/scripts/least_conf_13i_200n_active_learned_kpwr-full__1669005151f7778394.metrics.jsonl\"\n",
    "FIGURES_DIR = Path(\"figures\")\n",
    "FIGURES_DIR.mkdir(exist_ok=True)\n",
    "\n",
    "ITERATIONS = 13\n",
    "N_INSTANCES = 200\n",
    "\n",
    "VISUALS_NAME = \"final_v0\""
   ]
  },
  {
   "cell_type": "code",
   "execution_count": 3,
   "metadata": {},
   "outputs": [
    {
     "name": "stdout",
     "output_type": "stream",
     "text": [
      "{'_date': '21-11-2022 05:34:20',\n",
      " '_iteration': 4,\n",
      " '_iteration_time': 10.98777985572815,\n",
      " '_labels_count': {'_all': 1272,\n",
      "                   'nam_liv_person': 657,\n",
      "                   'nam_loc_gpe_city': 329,\n",
      "                   'nam_loc_gpe_country': 286},\n",
      " '_sc_loss': 1653.646856725216,\n",
      " '_spans_count': 1272,\n",
      " 'spans_sc_f': 0.38778107764106917,\n",
      " 'spans_sc_p': 0.744299674267101,\n",
      " 'spans_sc_per_type': {'nam_liv_person': {'f': 0.47174076865109266,\n",
      "                                          'p': 0.828042328042328,\n",
      "                                          'r': 0.32982086406743943},\n",
      "                       'nam_loc_gpe_city': {'f': 0.4279346210995542,\n",
      "                                            'p': 0.6101694915254238,\n",
      "                                            'r': 0.3295194508009153},\n",
      "                       'nam_loc_gpe_country': {'f': 0.0, 'p': 0.0, 'r': 0.0}},\n",
      " 'spans_sc_r': 0.2621916236374068,\n",
      " 'speed': 8436.974063345006,\n",
      " 'token_acc': 1.0,\n",
      " 'token_f': 1.0,\n",
      " 'token_p': 1.0,\n",
      " 'token_r': 1.0}\n"
     ]
    }
   ],
   "source": [
    "with jsonlines.open(RANDOM_QUERY_LOG) as reader_rand:\n",
    "    random_log_data = [j for j in reader_rand]\n",
    "rand_idx = randint(0, len(random_log_data) - 1)\n",
    "pprint(random_log_data[rand_idx], compact=True)"
   ]
  },
  {
   "cell_type": "code",
   "execution_count": 4,
   "metadata": {},
   "outputs": [
    {
     "name": "stdout",
     "output_type": "stream",
     "text": [
      "{'_date': '21-11-2022 05:33:42',\n",
      " '_iteration': 7,\n",
      " '_iteration_time': 21.49504065513611,\n",
      " '_labels_count': {'_all': 2191,\n",
      "                   'nam_liv_person': 1213,\n",
      "                   'nam_loc_gpe_city': 530,\n",
      "                   'nam_loc_gpe_country': 448},\n",
      " '_sc_loss': 2402.7629323005676,\n",
      " '_spans_count': 2191,\n",
      " 'spans_sc_f': 0.5034709535988308,\n",
      " 'spans_sc_p': 0.693158953722334,\n",
      " 'spans_sc_per_type': {'nam_liv_person': {'f': 0.6206475259621258,\n",
      "                                          'p': 0.7383720930232558,\n",
      "                                          'r': 0.5353003161222339},\n",
      "                       'nam_loc_gpe_city': {'f': 0.48313090418353577,\n",
      "                                            'p': 0.5888157894736842,\n",
      "                                            'r': 0.4096109839816934},\n",
      "                       'nam_loc_gpe_country': {'f': 0.011142061281337047,\n",
      "                                               'p': 1.0,\n",
      "                                               'r': 0.0056022408963585435}},\n",
      " 'spans_sc_r': 0.3952954675846242,\n",
      " 'speed': 9075.137053069288,\n",
      " 'token_acc': 1.0,\n",
      " 'token_f': 1.0,\n",
      " 'token_p': 1.0,\n",
      " 'token_r': 1.0}\n"
     ]
    }
   ],
   "source": [
    "with jsonlines.open(LEAST_CONFIDENCE_LOG) as reader_lc:\n",
    "    least_confidence_log_data = [j for j in reader_lc]\n",
    "rand_idx = randint(0, len(least_confidence_log_data) - 1)\n",
    "pprint(least_confidence_log_data[rand_idx], compact=True)"
   ]
  },
  {
   "cell_type": "code",
   "execution_count": 5,
   "metadata": {},
   "outputs": [],
   "source": [
    "random_iterations, random_entities_num, random_fscores, random_losses = [], [], [], []\n",
    "lc_iterations, lc_entities_num, lc_fscores, lc_losses = [], [], [], []\n",
    "assert len(random_log_data) == len(least_confidence_log_data)\n",
    "\n",
    "for rand_log_line, lc_log_line in zip(random_log_data, least_confidence_log_data):\n",
    "    random_iterations.append(rand_log_line[\"_iteration\"])\n",
    "    random_entities_num.append(rand_log_line[\"_spans_count\"])\n",
    "    random_fscores.append(rand_log_line[\"spans_sc_f\"])\n",
    "    random_losses.append(rand_log_line[\"_sc_loss\"])\n",
    "\n",
    "    lc_iterations.append(lc_log_line[\"_iteration\"])\n",
    "    lc_entities_num.append(lc_log_line[\"_spans_count\"])\n",
    "    lc_fscores.append(lc_log_line[\"spans_sc_f\"])\n",
    "    lc_losses.append(lc_log_line[\"_sc_loss\"])\n",
    "\n",
    "assert len(random_iterations) == len(lc_iterations)\n",
    "assert len(random_iterations) == len(random_fscores)\n",
    "assert len(lc_iterations) == len(lc_fscores)"
   ]
  },
  {
   "cell_type": "markdown",
   "metadata": {},
   "source": [
    "## SpanCategorizer F-score over iterations"
   ]
  },
  {
   "cell_type": "code",
   "execution_count": 6,
   "metadata": {},
   "outputs": [
    {
     "data": {
      "text/html": [
       "\n",
       "  <div id=\"51c1b553-6553-4242-9f8f-39d279986bea\" data-root-id=\"p1002\" style=\"display: contents;\"></div>\n"
      ]
     },
     "metadata": {},
     "output_type": "display_data"
    },
    {
     "data": {
      "application/javascript": "(function(root) {\n  function embed_document(root) {\n  const docs_json = {\"2bf97098-7607-496f-889f-722fe3300133\":{\"version\":\"3.0.2\",\"title\":\"Bokeh Application\",\"defs\":[],\"roots\":[{\"type\":\"object\",\"name\":\"Figure\",\"id\":\"p1002\",\"attributes\":{\"width\":700,\"height\":400,\"x_range\":{\"type\":\"object\",\"name\":\"DataRange1d\",\"id\":\"p1004\"},\"y_range\":{\"type\":\"object\",\"name\":\"DataRange1d\",\"id\":\"p1003\"},\"x_scale\":{\"type\":\"object\",\"name\":\"LinearScale\",\"id\":\"p1016\"},\"y_scale\":{\"type\":\"object\",\"name\":\"LinearScale\",\"id\":\"p1018\"},\"title\":{\"type\":\"object\",\"name\":\"Title\",\"id\":\"p1005\",\"attributes\":{\"text\":\"SpanCategorizer performance over iterations\",\"align\":\"center\"}},\"renderers\":[{\"type\":\"object\",\"name\":\"GlyphRenderer\",\"id\":\"p1057\",\"attributes\":{\"data_source\":{\"type\":\"object\",\"name\":\"ColumnDataSource\",\"id\":\"p1051\",\"attributes\":{\"selected\":{\"type\":\"object\",\"name\":\"Selection\",\"id\":\"p1053\",\"attributes\":{\"indices\":[],\"line_indices\":[]}},\"selection_policy\":{\"type\":\"object\",\"name\":\"UnionRenderers\",\"id\":\"p1052\"},\"data\":{\"type\":\"map\",\"entries\":[[\"x\",[1,2,3,4,5,6,7,8,9,10,11,12,13]],[\"y\",[0.0,0.02705749718151071,0.2216867469879518,0.38778107764106917,0.370757180156658,0.4689284514612026,0.4863813229571985,0.316166592028661,0.3964365256124721,0.5357142857142857,0.5331336578060653,0.5957004160887656,0.5519578313253012]]]}}},\"view\":{\"type\":\"object\",\"name\":\"CDSView\",\"id\":\"p1058\",\"attributes\":{\"filter\":{\"type\":\"object\",\"name\":\"AllIndices\",\"id\":\"p1059\"}}},\"glyph\":{\"type\":\"object\",\"name\":\"Line\",\"id\":\"p1054\",\"attributes\":{\"x\":{\"type\":\"field\",\"field\":\"x\"},\"y\":{\"type\":\"field\",\"field\":\"y\"},\"line_color\":\"#F6C85F\",\"line_width\":2}},\"nonselection_glyph\":{\"type\":\"object\",\"name\":\"Line\",\"id\":\"p1055\",\"attributes\":{\"x\":{\"type\":\"field\",\"field\":\"x\"},\"y\":{\"type\":\"field\",\"field\":\"y\"},\"line_color\":\"#F6C85F\",\"line_alpha\":0.1,\"line_width\":2}},\"muted_glyph\":{\"type\":\"object\",\"name\":\"Line\",\"id\":\"p1056\",\"attributes\":{\"x\":{\"type\":\"field\",\"field\":\"x\"},\"y\":{\"type\":\"field\",\"field\":\"y\"},\"line_color\":\"#F6C85F\",\"line_alpha\":0.2,\"line_width\":2}}}},{\"type\":\"object\",\"name\":\"GlyphRenderer\",\"id\":\"p1080\",\"attributes\":{\"data_source\":{\"type\":\"object\",\"name\":\"ColumnDataSource\",\"id\":\"p1074\",\"attributes\":{\"selected\":{\"type\":\"object\",\"name\":\"Selection\",\"id\":\"p1076\",\"attributes\":{\"indices\":[],\"line_indices\":[]}},\"selection_policy\":{\"type\":\"object\",\"name\":\"UnionRenderers\",\"id\":\"p1075\"},\"data\":{\"type\":\"map\",\"entries\":[[\"x\",[1,2,3,4,5,6,7,8,9,10,11,12,13]],[\"y\",[0.0,0.3013008812421318,0.14522821576763484,0.2920395666509656,0.4802071772105069,0.3505598621877692,0.5034709535988308,0.45474452554744527,0.49106803496769297,0.5361216730038022,0.4736415247364153,0.5326044513861773,0.5580131936360109]]]}}},\"view\":{\"type\":\"object\",\"name\":\"CDSView\",\"id\":\"p1081\",\"attributes\":{\"filter\":{\"type\":\"object\",\"name\":\"AllIndices\",\"id\":\"p1082\"}}},\"glyph\":{\"type\":\"object\",\"name\":\"Line\",\"id\":\"p1077\",\"attributes\":{\"x\":{\"type\":\"field\",\"field\":\"x\"},\"y\":{\"type\":\"field\",\"field\":\"y\"},\"line_color\":\"#0B84A5\",\"line_width\":2}},\"nonselection_glyph\":{\"type\":\"object\",\"name\":\"Line\",\"id\":\"p1078\",\"attributes\":{\"x\":{\"type\":\"field\",\"field\":\"x\"},\"y\":{\"type\":\"field\",\"field\":\"y\"},\"line_color\":\"#0B84A5\",\"line_alpha\":0.1,\"line_width\":2}},\"muted_glyph\":{\"type\":\"object\",\"name\":\"Line\",\"id\":\"p1079\",\"attributes\":{\"x\":{\"type\":\"field\",\"field\":\"x\"},\"y\":{\"type\":\"field\",\"field\":\"y\"},\"line_color\":\"#0B84A5\",\"line_alpha\":0.2,\"line_width\":2}}}},{\"type\":\"object\",\"name\":\"GlyphRenderer\",\"id\":\"p1107\",\"attributes\":{\"data_source\":{\"type\":\"object\",\"name\":\"ColumnDataSource\",\"id\":\"p1101\",\"attributes\":{\"selected\":{\"type\":\"object\",\"name\":\"Selection\",\"id\":\"p1103\",\"attributes\":{\"indices\":[],\"line_indices\":[]}},\"selection_policy\":{\"type\":\"object\",\"name\":\"UnionRenderers\",\"id\":\"p1102\"},\"data\":{\"type\":\"map\",\"entries\":[[\"x\",[1,2,3,4,5,6,7,8,9,10,11,12,13]],[\"y\",[0.5957004160887656,0.5957004160887656,0.5957004160887656,0.5957004160887656,0.5957004160887656,0.5957004160887656,0.5957004160887656,0.5957004160887656,0.5957004160887656,0.5957004160887656,0.5957004160887656,0.5957004160887656,0.5957004160887656]]]}}},\"view\":{\"type\":\"object\",\"name\":\"CDSView\",\"id\":\"p1108\",\"attributes\":{\"filter\":{\"type\":\"object\",\"name\":\"AllIndices\",\"id\":\"p1109\"}}},\"glyph\":{\"type\":\"object\",\"name\":\"Line\",\"id\":\"p1104\",\"attributes\":{\"x\":{\"type\":\"field\",\"field\":\"x\"},\"y\":{\"type\":\"field\",\"field\":\"y\"},\"line_alpha\":0.5,\"line_dash\":[6]}},\"nonselection_glyph\":{\"type\":\"object\",\"name\":\"Line\",\"id\":\"p1105\",\"attributes\":{\"x\":{\"type\":\"field\",\"field\":\"x\"},\"y\":{\"type\":\"field\",\"field\":\"y\"},\"line_alpha\":0.1,\"line_dash\":[6]}},\"muted_glyph\":{\"type\":\"object\",\"name\":\"Line\",\"id\":\"p1106\",\"attributes\":{\"x\":{\"type\":\"field\",\"field\":\"x\"},\"y\":{\"type\":\"field\",\"field\":\"y\"},\"line_alpha\":0.2,\"line_dash\":[6]}}}}],\"toolbar\":{\"type\":\"object\",\"name\":\"Toolbar\",\"id\":\"p1008\",\"attributes\":{\"tools\":[{\"type\":\"object\",\"name\":\"PanTool\",\"id\":\"p1034\"},{\"type\":\"object\",\"name\":\"WheelZoomTool\",\"id\":\"p1035\"},{\"type\":\"object\",\"name\":\"BoxZoomTool\",\"id\":\"p1036\",\"attributes\":{\"overlay\":{\"type\":\"object\",\"name\":\"BoxAnnotation\",\"id\":\"p1037\",\"attributes\":{\"syncable\":false,\"level\":\"overlay\",\"visible\":false,\"left_units\":\"canvas\",\"right_units\":\"canvas\",\"bottom_units\":\"canvas\",\"top_units\":\"canvas\",\"line_color\":\"black\",\"line_alpha\":1.0,\"line_width\":2,\"line_dash\":[4,4],\"fill_color\":\"lightgrey\",\"fill_alpha\":0.5}}}},{\"type\":\"object\",\"name\":\"SaveTool\",\"id\":\"p1038\"},{\"type\":\"object\",\"name\":\"ResetTool\",\"id\":\"p1039\"},{\"type\":\"object\",\"name\":\"HelpTool\",\"id\":\"p1040\"}]}},\"left\":[{\"type\":\"object\",\"name\":\"LinearAxis\",\"id\":\"p1027\",\"attributes\":{\"ticker\":{\"type\":\"object\",\"name\":\"BasicTicker\",\"id\":\"p1030\",\"attributes\":{\"mantissas\":[1,2,5]}},\"formatter\":{\"type\":\"object\",\"name\":\"NumeralTickFormatter\",\"id\":\"p1049\",\"attributes\":{\"format\":\"0.000\"}},\"axis_label\":\"F-score\",\"major_label_policy\":{\"type\":\"object\",\"name\":\"AllLabels\",\"id\":\"p1029\"}}}],\"right\":[{\"type\":\"object\",\"name\":\"Legend\",\"id\":\"p1072\",\"attributes\":{\"items\":[{\"type\":\"object\",\"name\":\"LegendItem\",\"id\":\"p1073\",\"attributes\":{\"label\":{\"type\":\"value\",\"value\":\"random\"},\"renderers\":[{\"id\":\"p1057\"}]}},{\"type\":\"object\",\"name\":\"LegendItem\",\"id\":\"p1100\",\"attributes\":{\"label\":{\"type\":\"value\",\"value\":\"least-confidence\"},\"renderers\":[{\"id\":\"p1080\"}]}}]}}],\"below\":[{\"type\":\"object\",\"name\":\"LinearAxis\",\"id\":\"p1020\",\"attributes\":{\"ticker\":{\"type\":\"object\",\"name\":\"BasicTicker\",\"id\":\"p1023\",\"attributes\":{\"mantissas\":[1,2,5]}},\"formatter\":{\"type\":\"object\",\"name\":\"BasicTickFormatter\",\"id\":\"p1021\"},\"axis_label\":\"Iteration\",\"major_label_policy\":{\"type\":\"object\",\"name\":\"AllLabels\",\"id\":\"p1022\"}}}],\"center\":[{\"type\":\"object\",\"name\":\"Grid\",\"id\":\"p1026\",\"attributes\":{\"axis\":{\"id\":\"p1020\"}}},{\"type\":\"object\",\"name\":\"Grid\",\"id\":\"p1033\",\"attributes\":{\"dimension\":1,\"axis\":{\"id\":\"p1027\"}}},{\"id\":\"p1072\"}]}}]}};\n  const render_items = [{\"docid\":\"2bf97098-7607-496f-889f-722fe3300133\",\"roots\":{\"p1002\":\"51c1b553-6553-4242-9f8f-39d279986bea\"},\"root_ids\":[\"p1002\"]}];\n  root.Bokeh.embed.embed_items_notebook(docs_json, render_items);\n  }\n  if (root.Bokeh !== undefined) {\n    embed_document(root);\n  } else {\n    let attempts = 0;\n    const timer = setInterval(function(root) {\n      if (root.Bokeh !== undefined) {\n        clearInterval(timer);\n        embed_document(root);\n      } else {\n        attempts++;\n        if (attempts > 100) {\n          clearInterval(timer);\n          console.log(\"Bokeh: ERROR: Unable to run BokehJS code because BokehJS library is missing\");\n        }\n      }\n    }, 10, root)\n  }\n})(window);",
      "application/vnd.bokehjs_exec.v0+json": ""
     },
     "metadata": {
      "application/vnd.bokehjs_exec.v0+json": {
       "id": "p1002"
      }
     },
     "output_type": "display_data"
    },
    {
     "data": {
      "text/plain": [
       "'/home/jjamnicki/Documents/INZYNIERKA/figures/final_v0_fscore_on_iters_rand_vs_lc_13it_200n.png'"
      ]
     },
     "execution_count": 6,
     "metadata": {},
     "output_type": "execute_result"
    }
   ],
   "source": [
    "p = figure(title=\"SpanCategorizer performance over iterations\",\n",
    "           x_axis_label=\"Iteration\",\n",
    "           y_axis_label=\"F-score\",\n",
    "           width=700,\n",
    "           height=400)\n",
    "p.title.align = \"center\"\n",
    "p.yaxis[0].formatter = NumeralTickFormatter(format=\"0.000\")\n",
    "\n",
    "p.line(random_iterations, random_fscores, legend_label=\"random\", color=\"#F6C85F\", line_width=2)\n",
    "p.line(lc_iterations, lc_fscores, legend_label=\"least-confidence\", color=\"#0B84A5\", line_width=2)\n",
    "\n",
    "max_rand_fscore = max(random_fscores)\n",
    "p.line(random_iterations, [max_rand_fscore]*len(random_iterations), color=\"black\", line_dash=\"dashed\", line_alpha=0.5)\n",
    "\n",
    "p.add_layout(p.legend[0], \"right\")\n",
    "\n",
    "show(p)\n",
    "\n",
    "out_path = FIGURES_DIR / f\"{VISUALS_NAME}_fscore_on_iters_rand_vs_lc_{ITERATIONS}it_{N_INSTANCES}n.png\"\n",
    "p.toolbar_location = None\n",
    "export_png(p, filename=out_path)"
   ]
  },
  {
   "cell_type": "markdown",
   "metadata": {},
   "source": [
    "## SpanCategorizer training loss over iterations"
   ]
  },
  {
   "cell_type": "code",
   "execution_count": 7,
   "metadata": {},
   "outputs": [
    {
     "data": {
      "text/html": [
       "\n",
       "  <div id=\"d2253bff-b90b-42d0-8ddb-3bf829b34f3a\" data-root-id=\"p1569\" style=\"display: contents;\"></div>\n"
      ]
     },
     "metadata": {},
     "output_type": "display_data"
    },
    {
     "data": {
      "application/javascript": "(function(root) {\n  function embed_document(root) {\n  const docs_json = {\"1e5ef7f5-8a7f-4d72-b341-2a6e07a2749e\":{\"version\":\"3.0.2\",\"title\":\"Bokeh Application\",\"defs\":[],\"roots\":[{\"type\":\"object\",\"name\":\"Figure\",\"id\":\"p1569\",\"attributes\":{\"width\":700,\"height\":400,\"x_range\":{\"type\":\"object\",\"name\":\"DataRange1d\",\"id\":\"p1571\"},\"y_range\":{\"type\":\"object\",\"name\":\"DataRange1d\",\"id\":\"p1570\"},\"x_scale\":{\"type\":\"object\",\"name\":\"LinearScale\",\"id\":\"p1583\"},\"y_scale\":{\"type\":\"object\",\"name\":\"LinearScale\",\"id\":\"p1585\"},\"title\":{\"type\":\"object\",\"name\":\"Title\",\"id\":\"p1572\",\"attributes\":{\"text\":\"SpanCategorizer training loss over number of iterations\",\"align\":\"center\"}},\"renderers\":[{\"type\":\"object\",\"name\":\"GlyphRenderer\",\"id\":\"p1624\",\"attributes\":{\"data_source\":{\"type\":\"object\",\"name\":\"ColumnDataSource\",\"id\":\"p1618\",\"attributes\":{\"selected\":{\"type\":\"object\",\"name\":\"Selection\",\"id\":\"p1620\",\"attributes\":{\"indices\":[],\"line_indices\":[]}},\"selection_policy\":{\"type\":\"object\",\"name\":\"UnionRenderers\",\"id\":\"p1619\"},\"data\":{\"type\":\"map\",\"entries\":[[\"x\",[1,2,3,4,5,6,7,8,9,10,11,12,13]],[\"y\",[852.210905790329,1229.2870528697968,1621.026297569275,1653.646856725216,1941.225658416748,2079.9987086057663,2325.9119570851326,2323.1212324500084,2844.807081282139,2893.7711580097675,3122.143611252308,3306.7781026363373,3231.684756219387]]]}}},\"view\":{\"type\":\"object\",\"name\":\"CDSView\",\"id\":\"p1625\",\"attributes\":{\"filter\":{\"type\":\"object\",\"name\":\"AllIndices\",\"id\":\"p1626\"}}},\"glyph\":{\"type\":\"object\",\"name\":\"Line\",\"id\":\"p1621\",\"attributes\":{\"x\":{\"type\":\"field\",\"field\":\"x\"},\"y\":{\"type\":\"field\",\"field\":\"y\"},\"line_color\":\"#F6C85F\",\"line_width\":2}},\"nonselection_glyph\":{\"type\":\"object\",\"name\":\"Line\",\"id\":\"p1622\",\"attributes\":{\"x\":{\"type\":\"field\",\"field\":\"x\"},\"y\":{\"type\":\"field\",\"field\":\"y\"},\"line_color\":\"#F6C85F\",\"line_alpha\":0.1,\"line_width\":2}},\"muted_glyph\":{\"type\":\"object\",\"name\":\"Line\",\"id\":\"p1623\",\"attributes\":{\"x\":{\"type\":\"field\",\"field\":\"x\"},\"y\":{\"type\":\"field\",\"field\":\"y\"},\"line_color\":\"#F6C85F\",\"line_alpha\":0.2,\"line_width\":2}}}},{\"type\":\"object\",\"name\":\"GlyphRenderer\",\"id\":\"p1647\",\"attributes\":{\"data_source\":{\"type\":\"object\",\"name\":\"ColumnDataSource\",\"id\":\"p1641\",\"attributes\":{\"selected\":{\"type\":\"object\",\"name\":\"Selection\",\"id\":\"p1643\",\"attributes\":{\"indices\":[],\"line_indices\":[]}},\"selection_policy\":{\"type\":\"object\",\"name\":\"UnionRenderers\",\"id\":\"p1642\"},\"data\":{\"type\":\"map\",\"entries\":[[\"x\",[1,2,3,4,5,6,7,8,9,10,11,12,13]],[\"y\",[852.210905790329,1227.4743239879608,1584.3659579753876,1594.943156003952,1910.9878484606743,2037.626596212387,2402.7629323005676,2301.615481734276,2832.694857120514,2840.8090192079544,3074.7287715673447,3351.0214737653732,3315.041678726673]]]}}},\"view\":{\"type\":\"object\",\"name\":\"CDSView\",\"id\":\"p1648\",\"attributes\":{\"filter\":{\"type\":\"object\",\"name\":\"AllIndices\",\"id\":\"p1649\"}}},\"glyph\":{\"type\":\"object\",\"name\":\"Line\",\"id\":\"p1644\",\"attributes\":{\"x\":{\"type\":\"field\",\"field\":\"x\"},\"y\":{\"type\":\"field\",\"field\":\"y\"},\"line_color\":\"#0B84A5\",\"line_width\":2}},\"nonselection_glyph\":{\"type\":\"object\",\"name\":\"Line\",\"id\":\"p1645\",\"attributes\":{\"x\":{\"type\":\"field\",\"field\":\"x\"},\"y\":{\"type\":\"field\",\"field\":\"y\"},\"line_color\":\"#0B84A5\",\"line_alpha\":0.1,\"line_width\":2}},\"muted_glyph\":{\"type\":\"object\",\"name\":\"Line\",\"id\":\"p1646\",\"attributes\":{\"x\":{\"type\":\"field\",\"field\":\"x\"},\"y\":{\"type\":\"field\",\"field\":\"y\"},\"line_color\":\"#0B84A5\",\"line_alpha\":0.2,\"line_width\":2}}}},{\"type\":\"object\",\"name\":\"GlyphRenderer\",\"id\":\"p1674\",\"attributes\":{\"data_source\":{\"type\":\"object\",\"name\":\"ColumnDataSource\",\"id\":\"p1668\",\"attributes\":{\"selected\":{\"type\":\"object\",\"name\":\"Selection\",\"id\":\"p1670\",\"attributes\":{\"indices\":[],\"line_indices\":[]}},\"selection_policy\":{\"type\":\"object\",\"name\":\"UnionRenderers\",\"id\":\"p1669\"},\"data\":{\"type\":\"map\",\"entries\":[[\"x\",[1,2,3,4,5,6,7,8,9,10,11,12,13]],[\"y\",[852.210905790329,852.210905790329,852.210905790329,852.210905790329,852.210905790329,852.210905790329,852.210905790329,852.210905790329,852.210905790329,852.210905790329,852.210905790329,852.210905790329,852.210905790329]]]}}},\"view\":{\"type\":\"object\",\"name\":\"CDSView\",\"id\":\"p1675\",\"attributes\":{\"filter\":{\"type\":\"object\",\"name\":\"AllIndices\",\"id\":\"p1676\"}}},\"glyph\":{\"type\":\"object\",\"name\":\"Line\",\"id\":\"p1671\",\"attributes\":{\"x\":{\"type\":\"field\",\"field\":\"x\"},\"y\":{\"type\":\"field\",\"field\":\"y\"},\"line_alpha\":0.5,\"line_dash\":[6]}},\"nonselection_glyph\":{\"type\":\"object\",\"name\":\"Line\",\"id\":\"p1672\",\"attributes\":{\"x\":{\"type\":\"field\",\"field\":\"x\"},\"y\":{\"type\":\"field\",\"field\":\"y\"},\"line_alpha\":0.1,\"line_dash\":[6]}},\"muted_glyph\":{\"type\":\"object\",\"name\":\"Line\",\"id\":\"p1673\",\"attributes\":{\"x\":{\"type\":\"field\",\"field\":\"x\"},\"y\":{\"type\":\"field\",\"field\":\"y\"},\"line_alpha\":0.2,\"line_dash\":[6]}}}}],\"toolbar\":{\"type\":\"object\",\"name\":\"Toolbar\",\"id\":\"p1575\",\"attributes\":{\"tools\":[{\"type\":\"object\",\"name\":\"PanTool\",\"id\":\"p1601\"},{\"type\":\"object\",\"name\":\"WheelZoomTool\",\"id\":\"p1602\"},{\"type\":\"object\",\"name\":\"BoxZoomTool\",\"id\":\"p1603\",\"attributes\":{\"overlay\":{\"type\":\"object\",\"name\":\"BoxAnnotation\",\"id\":\"p1604\",\"attributes\":{\"syncable\":false,\"level\":\"overlay\",\"visible\":false,\"left_units\":\"canvas\",\"right_units\":\"canvas\",\"bottom_units\":\"canvas\",\"top_units\":\"canvas\",\"line_color\":\"black\",\"line_alpha\":1.0,\"line_width\":2,\"line_dash\":[4,4],\"fill_color\":\"lightgrey\",\"fill_alpha\":0.5}}}},{\"type\":\"object\",\"name\":\"SaveTool\",\"id\":\"p1605\"},{\"type\":\"object\",\"name\":\"ResetTool\",\"id\":\"p1606\"},{\"type\":\"object\",\"name\":\"HelpTool\",\"id\":\"p1607\"}]}},\"left\":[{\"type\":\"object\",\"name\":\"LinearAxis\",\"id\":\"p1594\",\"attributes\":{\"ticker\":{\"type\":\"object\",\"name\":\"BasicTicker\",\"id\":\"p1597\",\"attributes\":{\"mantissas\":[1,2,5]}},\"formatter\":{\"type\":\"object\",\"name\":\"NumeralTickFormatter\",\"id\":\"p1616\",\"attributes\":{\"format\":\"0\"}},\"axis_label\":\"Loss\",\"major_label_policy\":{\"type\":\"object\",\"name\":\"AllLabels\",\"id\":\"p1596\"}}}],\"right\":[{\"type\":\"object\",\"name\":\"Legend\",\"id\":\"p1639\",\"attributes\":{\"items\":[{\"type\":\"object\",\"name\":\"LegendItem\",\"id\":\"p1640\",\"attributes\":{\"label\":{\"type\":\"value\",\"value\":\"random\"},\"renderers\":[{\"id\":\"p1624\"}]}},{\"type\":\"object\",\"name\":\"LegendItem\",\"id\":\"p1667\",\"attributes\":{\"label\":{\"type\":\"value\",\"value\":\"least-confidence\"},\"renderers\":[{\"id\":\"p1647\"}]}}]}}],\"below\":[{\"type\":\"object\",\"name\":\"LinearAxis\",\"id\":\"p1587\",\"attributes\":{\"ticker\":{\"type\":\"object\",\"name\":\"BasicTicker\",\"id\":\"p1590\",\"attributes\":{\"mantissas\":[1,2,5]}},\"formatter\":{\"type\":\"object\",\"name\":\"BasicTickFormatter\",\"id\":\"p1588\"},\"axis_label\":\"Iteration\",\"major_label_policy\":{\"type\":\"object\",\"name\":\"AllLabels\",\"id\":\"p1589\"}}}],\"center\":[{\"type\":\"object\",\"name\":\"Grid\",\"id\":\"p1593\",\"attributes\":{\"axis\":{\"id\":\"p1587\"}}},{\"type\":\"object\",\"name\":\"Grid\",\"id\":\"p1600\",\"attributes\":{\"dimension\":1,\"axis\":{\"id\":\"p1594\"}}},{\"id\":\"p1639\"}]}}]}};\n  const render_items = [{\"docid\":\"1e5ef7f5-8a7f-4d72-b341-2a6e07a2749e\",\"roots\":{\"p1569\":\"d2253bff-b90b-42d0-8ddb-3bf829b34f3a\"},\"root_ids\":[\"p1569\"]}];\n  root.Bokeh.embed.embed_items_notebook(docs_json, render_items);\n  }\n  if (root.Bokeh !== undefined) {\n    embed_document(root);\n  } else {\n    let attempts = 0;\n    const timer = setInterval(function(root) {\n      if (root.Bokeh !== undefined) {\n        clearInterval(timer);\n        embed_document(root);\n      } else {\n        attempts++;\n        if (attempts > 100) {\n          clearInterval(timer);\n          console.log(\"Bokeh: ERROR: Unable to run BokehJS code because BokehJS library is missing\");\n        }\n      }\n    }, 10, root)\n  }\n})(window);",
      "application/vnd.bokehjs_exec.v0+json": ""
     },
     "metadata": {
      "application/vnd.bokehjs_exec.v0+json": {
       "id": "p1569"
      }
     },
     "output_type": "display_data"
    },
    {
     "data": {
      "text/plain": [
       "'/home/jjamnicki/Documents/INZYNIERKA/figures/final_v0_loss_on_iters_rand_vs_lc_13it_200n.png'"
      ]
     },
     "execution_count": 7,
     "metadata": {},
     "output_type": "execute_result"
    }
   ],
   "source": [
    "p = figure(title=\"SpanCategorizer training loss over number of iterations\",\n",
    "           x_axis_label=\"Iteration\",\n",
    "           y_axis_label=\"Loss\",\n",
    "           width=700,\n",
    "           height=400)\n",
    "p.title.align = \"center\"\n",
    "p.yaxis[0].formatter = NumeralTickFormatter(format=\"0\")\n",
    "\n",
    "p.line(random_iterations, random_losses, legend_label=\"random\", color=\"#F6C85F\", line_width=2)\n",
    "p.line(lc_iterations, lc_losses, legend_label=\"least-confidence\", color=\"#0B84A5\", line_width=2)\n",
    "\n",
    "min_rand_loss = min(random_losses)\n",
    "p.line(random_iterations, [min_rand_loss]*len(random_iterations), color=\"black\", line_dash=\"dashed\", line_alpha=0.5)\n",
    "\n",
    "p.add_layout(p.legend[0], \"right\")\n",
    "\n",
    "show(p)\n",
    "\n",
    "out_path = FIGURES_DIR / f\"{VISUALS_NAME}_loss_on_iters_rand_vs_lc_{ITERATIONS}it_{N_INSTANCES}n.png\"\n",
    "p.toolbar_location = None\n",
    "export_png(p, filename=out_path)"
   ]
  },
  {
   "cell_type": "markdown",
   "metadata": {},
   "source": [
    "## SpanCategorizer F-score over number of entities"
   ]
  },
  {
   "cell_type": "code",
   "execution_count": 8,
   "metadata": {},
   "outputs": [
    {
     "data": {
      "text/html": [
       "\n",
       "  <div id=\"1988f45f-6170-4ecd-b03d-e37e6d79c982\" data-root-id=\"p2158\" style=\"display: contents;\"></div>\n"
      ]
     },
     "metadata": {},
     "output_type": "display_data"
    },
    {
     "data": {
      "application/javascript": "(function(root) {\n  function embed_document(root) {\n  const docs_json = {\"90be76f6-d4ee-43fe-b3fd-994227872fa1\":{\"version\":\"3.0.2\",\"title\":\"Bokeh Application\",\"defs\":[],\"roots\":[{\"type\":\"object\",\"name\":\"Figure\",\"id\":\"p2158\",\"attributes\":{\"width\":700,\"height\":400,\"x_range\":{\"type\":\"object\",\"name\":\"DataRange1d\",\"id\":\"p2160\"},\"y_range\":{\"type\":\"object\",\"name\":\"DataRange1d\",\"id\":\"p2159\"},\"x_scale\":{\"type\":\"object\",\"name\":\"LinearScale\",\"id\":\"p2172\"},\"y_scale\":{\"type\":\"object\",\"name\":\"LinearScale\",\"id\":\"p2174\"},\"title\":{\"type\":\"object\",\"name\":\"Title\",\"id\":\"p2161\",\"attributes\":{\"text\":\"SpanCategorizer performance over number of entities\",\"align\":\"center\"}},\"renderers\":[{\"type\":\"object\",\"name\":\"GlyphRenderer\",\"id\":\"p2213\",\"attributes\":{\"data_source\":{\"type\":\"object\",\"name\":\"ColumnDataSource\",\"id\":\"p2207\",\"attributes\":{\"selected\":{\"type\":\"object\",\"name\":\"Selection\",\"id\":\"p2209\",\"attributes\":{\"indices\":[],\"line_indices\":[]}},\"selection_policy\":{\"type\":\"object\",\"name\":\"UnionRenderers\",\"id\":\"p2208\"},\"data\":{\"type\":\"map\",\"entries\":[[\"x\",[331,634,947,1272,1550,1854,2168,2475,2795,3088,3410,3694,3986]],[\"y\",[0.0,0.02705749718151071,0.2216867469879518,0.38778107764106917,0.370757180156658,0.4689284514612026,0.4863813229571985,0.316166592028661,0.3964365256124721,0.5357142857142857,0.5331336578060653,0.5957004160887656,0.5519578313253012]]]}}},\"view\":{\"type\":\"object\",\"name\":\"CDSView\",\"id\":\"p2214\",\"attributes\":{\"filter\":{\"type\":\"object\",\"name\":\"AllIndices\",\"id\":\"p2215\"}}},\"glyph\":{\"type\":\"object\",\"name\":\"Line\",\"id\":\"p2210\",\"attributes\":{\"x\":{\"type\":\"field\",\"field\":\"x\"},\"y\":{\"type\":\"field\",\"field\":\"y\"},\"line_color\":\"#F6C85F\",\"line_width\":2}},\"nonselection_glyph\":{\"type\":\"object\",\"name\":\"Line\",\"id\":\"p2211\",\"attributes\":{\"x\":{\"type\":\"field\",\"field\":\"x\"},\"y\":{\"type\":\"field\",\"field\":\"y\"},\"line_color\":\"#F6C85F\",\"line_alpha\":0.1,\"line_width\":2}},\"muted_glyph\":{\"type\":\"object\",\"name\":\"Line\",\"id\":\"p2212\",\"attributes\":{\"x\":{\"type\":\"field\",\"field\":\"x\"},\"y\":{\"type\":\"field\",\"field\":\"y\"},\"line_color\":\"#F6C85F\",\"line_alpha\":0.2,\"line_width\":2}}}},{\"type\":\"object\",\"name\":\"GlyphRenderer\",\"id\":\"p2236\",\"attributes\":{\"data_source\":{\"type\":\"object\",\"name\":\"ColumnDataSource\",\"id\":\"p2230\",\"attributes\":{\"selected\":{\"type\":\"object\",\"name\":\"Selection\",\"id\":\"p2232\",\"attributes\":{\"indices\":[],\"line_indices\":[]}},\"selection_policy\":{\"type\":\"object\",\"name\":\"UnionRenderers\",\"id\":\"p2231\"},\"data\":{\"type\":\"map\",\"entries\":[[\"x\",[331,659,946,1247,1553,1884,2191,2487,2752,3060,3368,3689,3984]],[\"y\",[0.0,0.3013008812421318,0.14522821576763484,0.2920395666509656,0.4802071772105069,0.3505598621877692,0.5034709535988308,0.45474452554744527,0.49106803496769297,0.5361216730038022,0.4736415247364153,0.5326044513861773,0.5580131936360109]]]}}},\"view\":{\"type\":\"object\",\"name\":\"CDSView\",\"id\":\"p2237\",\"attributes\":{\"filter\":{\"type\":\"object\",\"name\":\"AllIndices\",\"id\":\"p2238\"}}},\"glyph\":{\"type\":\"object\",\"name\":\"Line\",\"id\":\"p2233\",\"attributes\":{\"x\":{\"type\":\"field\",\"field\":\"x\"},\"y\":{\"type\":\"field\",\"field\":\"y\"},\"line_color\":\"#0B84A5\",\"line_width\":2}},\"nonselection_glyph\":{\"type\":\"object\",\"name\":\"Line\",\"id\":\"p2234\",\"attributes\":{\"x\":{\"type\":\"field\",\"field\":\"x\"},\"y\":{\"type\":\"field\",\"field\":\"y\"},\"line_color\":\"#0B84A5\",\"line_alpha\":0.1,\"line_width\":2}},\"muted_glyph\":{\"type\":\"object\",\"name\":\"Line\",\"id\":\"p2235\",\"attributes\":{\"x\":{\"type\":\"field\",\"field\":\"x\"},\"y\":{\"type\":\"field\",\"field\":\"y\"},\"line_color\":\"#0B84A5\",\"line_alpha\":0.2,\"line_width\":2}}}},{\"type\":\"object\",\"name\":\"GlyphRenderer\",\"id\":\"p2263\",\"attributes\":{\"data_source\":{\"type\":\"object\",\"name\":\"ColumnDataSource\",\"id\":\"p2257\",\"attributes\":{\"selected\":{\"type\":\"object\",\"name\":\"Selection\",\"id\":\"p2259\",\"attributes\":{\"indices\":[],\"line_indices\":[]}},\"selection_policy\":{\"type\":\"object\",\"name\":\"UnionRenderers\",\"id\":\"p2258\"},\"data\":{\"type\":\"map\",\"entries\":[[\"x\",[331,634,947,1272,1550,1854,2168,2475,2795,3088,3410,3694,3986]],[\"y\",[0.5957004160887656,0.5957004160887656,0.5957004160887656,0.5957004160887656,0.5957004160887656,0.5957004160887656,0.5957004160887656,0.5957004160887656,0.5957004160887656,0.5957004160887656,0.5957004160887656,0.5957004160887656,0.5957004160887656]]]}}},\"view\":{\"type\":\"object\",\"name\":\"CDSView\",\"id\":\"p2264\",\"attributes\":{\"filter\":{\"type\":\"object\",\"name\":\"AllIndices\",\"id\":\"p2265\"}}},\"glyph\":{\"type\":\"object\",\"name\":\"Line\",\"id\":\"p2260\",\"attributes\":{\"x\":{\"type\":\"field\",\"field\":\"x\"},\"y\":{\"type\":\"field\",\"field\":\"y\"},\"line_alpha\":0.5,\"line_dash\":[6]}},\"nonselection_glyph\":{\"type\":\"object\",\"name\":\"Line\",\"id\":\"p2261\",\"attributes\":{\"x\":{\"type\":\"field\",\"field\":\"x\"},\"y\":{\"type\":\"field\",\"field\":\"y\"},\"line_alpha\":0.1,\"line_dash\":[6]}},\"muted_glyph\":{\"type\":\"object\",\"name\":\"Line\",\"id\":\"p2262\",\"attributes\":{\"x\":{\"type\":\"field\",\"field\":\"x\"},\"y\":{\"type\":\"field\",\"field\":\"y\"},\"line_alpha\":0.2,\"line_dash\":[6]}}}}],\"toolbar\":{\"type\":\"object\",\"name\":\"Toolbar\",\"id\":\"p2164\",\"attributes\":{\"tools\":[{\"type\":\"object\",\"name\":\"PanTool\",\"id\":\"p2190\"},{\"type\":\"object\",\"name\":\"WheelZoomTool\",\"id\":\"p2191\"},{\"type\":\"object\",\"name\":\"BoxZoomTool\",\"id\":\"p2192\",\"attributes\":{\"overlay\":{\"type\":\"object\",\"name\":\"BoxAnnotation\",\"id\":\"p2193\",\"attributes\":{\"syncable\":false,\"level\":\"overlay\",\"visible\":false,\"left_units\":\"canvas\",\"right_units\":\"canvas\",\"bottom_units\":\"canvas\",\"top_units\":\"canvas\",\"line_color\":\"black\",\"line_alpha\":1.0,\"line_width\":2,\"line_dash\":[4,4],\"fill_color\":\"lightgrey\",\"fill_alpha\":0.5}}}},{\"type\":\"object\",\"name\":\"SaveTool\",\"id\":\"p2194\"},{\"type\":\"object\",\"name\":\"ResetTool\",\"id\":\"p2195\"},{\"type\":\"object\",\"name\":\"HelpTool\",\"id\":\"p2196\"}]}},\"left\":[{\"type\":\"object\",\"name\":\"LinearAxis\",\"id\":\"p2183\",\"attributes\":{\"ticker\":{\"type\":\"object\",\"name\":\"BasicTicker\",\"id\":\"p2186\",\"attributes\":{\"mantissas\":[1,2,5]}},\"formatter\":{\"type\":\"object\",\"name\":\"NumeralTickFormatter\",\"id\":\"p2205\",\"attributes\":{\"format\":\"0.000\"}},\"axis_label\":\"F-score\",\"major_label_policy\":{\"type\":\"object\",\"name\":\"AllLabels\",\"id\":\"p2185\"}}}],\"right\":[{\"type\":\"object\",\"name\":\"Legend\",\"id\":\"p2228\",\"attributes\":{\"items\":[{\"type\":\"object\",\"name\":\"LegendItem\",\"id\":\"p2229\",\"attributes\":{\"label\":{\"type\":\"value\",\"value\":\"random\"},\"renderers\":[{\"id\":\"p2213\"}]}},{\"type\":\"object\",\"name\":\"LegendItem\",\"id\":\"p2256\",\"attributes\":{\"label\":{\"type\":\"value\",\"value\":\"least-confidence\"},\"renderers\":[{\"id\":\"p2236\"}]}}]}}],\"below\":[{\"type\":\"object\",\"name\":\"LinearAxis\",\"id\":\"p2176\",\"attributes\":{\"ticker\":{\"type\":\"object\",\"name\":\"BasicTicker\",\"id\":\"p2179\",\"attributes\":{\"mantissas\":[1,2,5]}},\"formatter\":{\"type\":\"object\",\"name\":\"BasicTickFormatter\",\"id\":\"p2177\"},\"axis_label\":\"Entities\",\"major_label_policy\":{\"type\":\"object\",\"name\":\"AllLabels\",\"id\":\"p2178\"}}}],\"center\":[{\"type\":\"object\",\"name\":\"Grid\",\"id\":\"p2182\",\"attributes\":{\"axis\":{\"id\":\"p2176\"}}},{\"type\":\"object\",\"name\":\"Grid\",\"id\":\"p2189\",\"attributes\":{\"dimension\":1,\"axis\":{\"id\":\"p2183\"}}},{\"id\":\"p2228\"}]}}]}};\n  const render_items = [{\"docid\":\"90be76f6-d4ee-43fe-b3fd-994227872fa1\",\"roots\":{\"p2158\":\"1988f45f-6170-4ecd-b03d-e37e6d79c982\"},\"root_ids\":[\"p2158\"]}];\n  root.Bokeh.embed.embed_items_notebook(docs_json, render_items);\n  }\n  if (root.Bokeh !== undefined) {\n    embed_document(root);\n  } else {\n    let attempts = 0;\n    const timer = setInterval(function(root) {\n      if (root.Bokeh !== undefined) {\n        clearInterval(timer);\n        embed_document(root);\n      } else {\n        attempts++;\n        if (attempts > 100) {\n          clearInterval(timer);\n          console.log(\"Bokeh: ERROR: Unable to run BokehJS code because BokehJS library is missing\");\n        }\n      }\n    }, 10, root)\n  }\n})(window);",
      "application/vnd.bokehjs_exec.v0+json": ""
     },
     "metadata": {
      "application/vnd.bokehjs_exec.v0+json": {
       "id": "p2158"
      }
     },
     "output_type": "display_data"
    },
    {
     "data": {
      "text/plain": [
       "'/home/jjamnicki/Documents/INZYNIERKA/figures/final_v0_fscore_on_ents_rand_vs_lc_13it_200n.png'"
      ]
     },
     "execution_count": 8,
     "metadata": {},
     "output_type": "execute_result"
    }
   ],
   "source": [
    "p = figure(title=\"SpanCategorizer performance over number of entities\",\n",
    "           x_axis_label=\"Entities\",\n",
    "           y_axis_label=\"F-score\",\n",
    "           width=700,\n",
    "           height=400)\n",
    "p.title.align = \"center\"\n",
    "p.yaxis[0].formatter = NumeralTickFormatter(format=\"0.000\")\n",
    "\n",
    "p.line(random_entities_num, random_fscores, legend_label=\"random\", color=\"#F6C85F\", line_width=2)\n",
    "p.line(lc_entities_num, lc_fscores, legend_label=\"least-confidence\", color=\"#0B84A5\", line_width=2)\n",
    "\n",
    "max_rand_fscore = max(random_fscores)\n",
    "p.line(random_entities_num, [max_rand_fscore]*len(random_entities_num), color=\"black\", line_dash=\"dashed\", line_alpha=0.5)\n",
    "\n",
    "p.add_layout(p.legend[0], \"right\")\n",
    "\n",
    "show(p)\n",
    "\n",
    "out_path = FIGURES_DIR / f\"{VISUALS_NAME}_fscore_on_ents_rand_vs_lc_{ITERATIONS}it_{N_INSTANCES}n.png\"\n",
    "p.toolbar_location = None\n",
    "export_png(p, filename=out_path)"
   ]
  },
  {
   "cell_type": "markdown",
   "metadata": {},
   "source": [
    "## SpanCategorizer training loss over number of entities"
   ]
  },
  {
   "cell_type": "code",
   "execution_count": 9,
   "metadata": {},
   "outputs": [
    {
     "data": {
      "text/html": [
       "\n",
       "  <div id=\"8cc8bb63-567a-4ca2-94db-b528696ccc70\" data-root-id=\"p2769\" style=\"display: contents;\"></div>\n"
      ]
     },
     "metadata": {},
     "output_type": "display_data"
    },
    {
     "data": {
      "application/javascript": "(function(root) {\n  function embed_document(root) {\n  const docs_json = {\"3670d2f4-126d-45e5-9cad-3f4bc23e238a\":{\"version\":\"3.0.2\",\"title\":\"Bokeh Application\",\"defs\":[],\"roots\":[{\"type\":\"object\",\"name\":\"Figure\",\"id\":\"p2769\",\"attributes\":{\"width\":700,\"height\":400,\"x_range\":{\"type\":\"object\",\"name\":\"DataRange1d\",\"id\":\"p2771\"},\"y_range\":{\"type\":\"object\",\"name\":\"DataRange1d\",\"id\":\"p2770\"},\"x_scale\":{\"type\":\"object\",\"name\":\"LinearScale\",\"id\":\"p2783\"},\"y_scale\":{\"type\":\"object\",\"name\":\"LinearScale\",\"id\":\"p2785\"},\"title\":{\"type\":\"object\",\"name\":\"Title\",\"id\":\"p2772\",\"attributes\":{\"text\":\"SpanCategorizer training loss over number of entities\",\"align\":\"center\"}},\"renderers\":[{\"type\":\"object\",\"name\":\"GlyphRenderer\",\"id\":\"p2824\",\"attributes\":{\"data_source\":{\"type\":\"object\",\"name\":\"ColumnDataSource\",\"id\":\"p2818\",\"attributes\":{\"selected\":{\"type\":\"object\",\"name\":\"Selection\",\"id\":\"p2820\",\"attributes\":{\"indices\":[],\"line_indices\":[]}},\"selection_policy\":{\"type\":\"object\",\"name\":\"UnionRenderers\",\"id\":\"p2819\"},\"data\":{\"type\":\"map\",\"entries\":[[\"x\",[331,634,947,1272,1550,1854,2168,2475,2795,3088,3410,3694,3986]],[\"y\",[852.210905790329,1229.2870528697968,1621.026297569275,1653.646856725216,1941.225658416748,2079.9987086057663,2325.9119570851326,2323.1212324500084,2844.807081282139,2893.7711580097675,3122.143611252308,3306.7781026363373,3231.684756219387]]]}}},\"view\":{\"type\":\"object\",\"name\":\"CDSView\",\"id\":\"p2825\",\"attributes\":{\"filter\":{\"type\":\"object\",\"name\":\"AllIndices\",\"id\":\"p2826\"}}},\"glyph\":{\"type\":\"object\",\"name\":\"Line\",\"id\":\"p2821\",\"attributes\":{\"x\":{\"type\":\"field\",\"field\":\"x\"},\"y\":{\"type\":\"field\",\"field\":\"y\"},\"line_color\":\"#F6C85F\",\"line_width\":2}},\"nonselection_glyph\":{\"type\":\"object\",\"name\":\"Line\",\"id\":\"p2822\",\"attributes\":{\"x\":{\"type\":\"field\",\"field\":\"x\"},\"y\":{\"type\":\"field\",\"field\":\"y\"},\"line_color\":\"#F6C85F\",\"line_alpha\":0.1,\"line_width\":2}},\"muted_glyph\":{\"type\":\"object\",\"name\":\"Line\",\"id\":\"p2823\",\"attributes\":{\"x\":{\"type\":\"field\",\"field\":\"x\"},\"y\":{\"type\":\"field\",\"field\":\"y\"},\"line_color\":\"#F6C85F\",\"line_alpha\":0.2,\"line_width\":2}}}},{\"type\":\"object\",\"name\":\"GlyphRenderer\",\"id\":\"p2847\",\"attributes\":{\"data_source\":{\"type\":\"object\",\"name\":\"ColumnDataSource\",\"id\":\"p2841\",\"attributes\":{\"selected\":{\"type\":\"object\",\"name\":\"Selection\",\"id\":\"p2843\",\"attributes\":{\"indices\":[],\"line_indices\":[]}},\"selection_policy\":{\"type\":\"object\",\"name\":\"UnionRenderers\",\"id\":\"p2842\"},\"data\":{\"type\":\"map\",\"entries\":[[\"x\",[331,659,946,1247,1553,1884,2191,2487,2752,3060,3368,3689,3984]],[\"y\",[852.210905790329,1227.4743239879608,1584.3659579753876,1594.943156003952,1910.9878484606743,2037.626596212387,2402.7629323005676,2301.615481734276,2832.694857120514,2840.8090192079544,3074.7287715673447,3351.0214737653732,3315.041678726673]]]}}},\"view\":{\"type\":\"object\",\"name\":\"CDSView\",\"id\":\"p2848\",\"attributes\":{\"filter\":{\"type\":\"object\",\"name\":\"AllIndices\",\"id\":\"p2849\"}}},\"glyph\":{\"type\":\"object\",\"name\":\"Line\",\"id\":\"p2844\",\"attributes\":{\"x\":{\"type\":\"field\",\"field\":\"x\"},\"y\":{\"type\":\"field\",\"field\":\"y\"},\"line_color\":\"#0B84A5\",\"line_width\":2}},\"nonselection_glyph\":{\"type\":\"object\",\"name\":\"Line\",\"id\":\"p2845\",\"attributes\":{\"x\":{\"type\":\"field\",\"field\":\"x\"},\"y\":{\"type\":\"field\",\"field\":\"y\"},\"line_color\":\"#0B84A5\",\"line_alpha\":0.1,\"line_width\":2}},\"muted_glyph\":{\"type\":\"object\",\"name\":\"Line\",\"id\":\"p2846\",\"attributes\":{\"x\":{\"type\":\"field\",\"field\":\"x\"},\"y\":{\"type\":\"field\",\"field\":\"y\"},\"line_color\":\"#0B84A5\",\"line_alpha\":0.2,\"line_width\":2}}}},{\"type\":\"object\",\"name\":\"GlyphRenderer\",\"id\":\"p2874\",\"attributes\":{\"data_source\":{\"type\":\"object\",\"name\":\"ColumnDataSource\",\"id\":\"p2868\",\"attributes\":{\"selected\":{\"type\":\"object\",\"name\":\"Selection\",\"id\":\"p2870\",\"attributes\":{\"indices\":[],\"line_indices\":[]}},\"selection_policy\":{\"type\":\"object\",\"name\":\"UnionRenderers\",\"id\":\"p2869\"},\"data\":{\"type\":\"map\",\"entries\":[[\"x\",[331,634,947,1272,1550,1854,2168,2475,2795,3088,3410,3694,3986]],[\"y\",[0.5957004160887656,0.5957004160887656,0.5957004160887656,0.5957004160887656,0.5957004160887656,0.5957004160887656,0.5957004160887656,0.5957004160887656,0.5957004160887656,0.5957004160887656,0.5957004160887656,0.5957004160887656,0.5957004160887656]]]}}},\"view\":{\"type\":\"object\",\"name\":\"CDSView\",\"id\":\"p2875\",\"attributes\":{\"filter\":{\"type\":\"object\",\"name\":\"AllIndices\",\"id\":\"p2876\"}}},\"glyph\":{\"type\":\"object\",\"name\":\"Line\",\"id\":\"p2871\",\"attributes\":{\"x\":{\"type\":\"field\",\"field\":\"x\"},\"y\":{\"type\":\"field\",\"field\":\"y\"},\"line_alpha\":0.5,\"line_dash\":[6]}},\"nonselection_glyph\":{\"type\":\"object\",\"name\":\"Line\",\"id\":\"p2872\",\"attributes\":{\"x\":{\"type\":\"field\",\"field\":\"x\"},\"y\":{\"type\":\"field\",\"field\":\"y\"},\"line_alpha\":0.1,\"line_dash\":[6]}},\"muted_glyph\":{\"type\":\"object\",\"name\":\"Line\",\"id\":\"p2873\",\"attributes\":{\"x\":{\"type\":\"field\",\"field\":\"x\"},\"y\":{\"type\":\"field\",\"field\":\"y\"},\"line_alpha\":0.2,\"line_dash\":[6]}}}}],\"toolbar\":{\"type\":\"object\",\"name\":\"Toolbar\",\"id\":\"p2775\",\"attributes\":{\"tools\":[{\"type\":\"object\",\"name\":\"PanTool\",\"id\":\"p2801\"},{\"type\":\"object\",\"name\":\"WheelZoomTool\",\"id\":\"p2802\"},{\"type\":\"object\",\"name\":\"BoxZoomTool\",\"id\":\"p2803\",\"attributes\":{\"overlay\":{\"type\":\"object\",\"name\":\"BoxAnnotation\",\"id\":\"p2804\",\"attributes\":{\"syncable\":false,\"level\":\"overlay\",\"visible\":false,\"left_units\":\"canvas\",\"right_units\":\"canvas\",\"bottom_units\":\"canvas\",\"top_units\":\"canvas\",\"line_color\":\"black\",\"line_alpha\":1.0,\"line_width\":2,\"line_dash\":[4,4],\"fill_color\":\"lightgrey\",\"fill_alpha\":0.5}}}},{\"type\":\"object\",\"name\":\"SaveTool\",\"id\":\"p2805\"},{\"type\":\"object\",\"name\":\"ResetTool\",\"id\":\"p2806\"},{\"type\":\"object\",\"name\":\"HelpTool\",\"id\":\"p2807\"}]}},\"left\":[{\"type\":\"object\",\"name\":\"LinearAxis\",\"id\":\"p2794\",\"attributes\":{\"ticker\":{\"type\":\"object\",\"name\":\"BasicTicker\",\"id\":\"p2797\",\"attributes\":{\"mantissas\":[1,2,5]}},\"formatter\":{\"type\":\"object\",\"name\":\"NumeralTickFormatter\",\"id\":\"p2816\",\"attributes\":{\"format\":\"0\"}},\"axis_label\":\"Loss\",\"major_label_policy\":{\"type\":\"object\",\"name\":\"AllLabels\",\"id\":\"p2796\"}}}],\"right\":[{\"type\":\"object\",\"name\":\"Legend\",\"id\":\"p2839\",\"attributes\":{\"items\":[{\"type\":\"object\",\"name\":\"LegendItem\",\"id\":\"p2840\",\"attributes\":{\"label\":{\"type\":\"value\",\"value\":\"random\"},\"renderers\":[{\"id\":\"p2824\"}]}},{\"type\":\"object\",\"name\":\"LegendItem\",\"id\":\"p2867\",\"attributes\":{\"label\":{\"type\":\"value\",\"value\":\"least-confidence\"},\"renderers\":[{\"id\":\"p2847\"}]}}]}}],\"below\":[{\"type\":\"object\",\"name\":\"LinearAxis\",\"id\":\"p2787\",\"attributes\":{\"ticker\":{\"type\":\"object\",\"name\":\"BasicTicker\",\"id\":\"p2790\",\"attributes\":{\"mantissas\":[1,2,5]}},\"formatter\":{\"type\":\"object\",\"name\":\"BasicTickFormatter\",\"id\":\"p2788\"},\"axis_label\":\"Entities\",\"major_label_policy\":{\"type\":\"object\",\"name\":\"AllLabels\",\"id\":\"p2789\"}}}],\"center\":[{\"type\":\"object\",\"name\":\"Grid\",\"id\":\"p2793\",\"attributes\":{\"axis\":{\"id\":\"p2787\"}}},{\"type\":\"object\",\"name\":\"Grid\",\"id\":\"p2800\",\"attributes\":{\"dimension\":1,\"axis\":{\"id\":\"p2794\"}}},{\"id\":\"p2839\"}]}}]}};\n  const render_items = [{\"docid\":\"3670d2f4-126d-45e5-9cad-3f4bc23e238a\",\"roots\":{\"p2769\":\"8cc8bb63-567a-4ca2-94db-b528696ccc70\"},\"root_ids\":[\"p2769\"]}];\n  root.Bokeh.embed.embed_items_notebook(docs_json, render_items);\n  }\n  if (root.Bokeh !== undefined) {\n    embed_document(root);\n  } else {\n    let attempts = 0;\n    const timer = setInterval(function(root) {\n      if (root.Bokeh !== undefined) {\n        clearInterval(timer);\n        embed_document(root);\n      } else {\n        attempts++;\n        if (attempts > 100) {\n          clearInterval(timer);\n          console.log(\"Bokeh: ERROR: Unable to run BokehJS code because BokehJS library is missing\");\n        }\n      }\n    }, 10, root)\n  }\n})(window);",
      "application/vnd.bokehjs_exec.v0+json": ""
     },
     "metadata": {
      "application/vnd.bokehjs_exec.v0+json": {
       "id": "p2769"
      }
     },
     "output_type": "display_data"
    },
    {
     "data": {
      "text/plain": [
       "'/home/jjamnicki/Documents/INZYNIERKA/figures/final_v0_loss_on_ents_rand_vs_lc_13it_200n.png'"
      ]
     },
     "execution_count": 9,
     "metadata": {},
     "output_type": "execute_result"
    }
   ],
   "source": [
    "p = figure(title=\"SpanCategorizer training loss over number of entities\",\n",
    "           x_axis_label=\"Entities\",\n",
    "           y_axis_label=\"Loss\",\n",
    "           width=700,\n",
    "           height=400)\n",
    "p.title.align = \"center\"\n",
    "p.yaxis[0].formatter = NumeralTickFormatter(format=\"0\")\n",
    "\n",
    "p.line(random_entities_num, random_losses, legend_label=\"random\", color=\"#F6C85F\", line_width=2)\n",
    "p.line(lc_entities_num, lc_losses, legend_label=\"least-confidence\", color=\"#0B84A5\", line_width=2)\n",
    "\n",
    "max_rand_fscore = max(random_fscores)\n",
    "p.line(random_entities_num, [max_rand_fscore]*len(random_entities_num), color=\"black\", line_dash=\"dashed\", line_alpha=0.5)\n",
    "\n",
    "p.add_layout(p.legend[0], \"right\")\n",
    "\n",
    "show(p)\n",
    "\n",
    "out_path = FIGURES_DIR / f\"{VISUALS_NAME}_loss_on_ents_rand_vs_lc_{ITERATIONS}it_{N_INSTANCES}n.png\"\n",
    "p.toolbar_location = None\n",
    "export_png(p, filename=out_path)"
   ]
  },
  {
   "cell_type": "code",
   "execution_count": null,
   "metadata": {},
   "outputs": [],
   "source": []
  }
 ],
 "metadata": {
  "kernelspec": {
   "display_name": "Python 3.8.0 ('bachelor_tp_visuals')",
   "language": "python",
   "name": "python3"
  },
  "language_info": {
   "codemirror_mode": {
    "name": "ipython",
    "version": 3
   },
   "file_extension": ".py",
   "mimetype": "text/x-python",
   "name": "python",
   "nbconvert_exporter": "python",
   "pygments_lexer": "ipython3",
   "version": "3.8.0"
  },
  "orig_nbformat": 4,
  "vscode": {
   "interpreter": {
    "hash": "f990454114ec40012f61138adc3fdd606994f0e49c1ee311f2e2638563ceaf32"
   }
  }
 },
 "nbformat": 4,
 "nbformat_minor": 2
}

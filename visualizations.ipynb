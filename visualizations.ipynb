{
 "cells": [
  {
   "cell_type": "code",
   "execution_count": 1,
   "metadata": {},
   "outputs": [
    {
     "data": {
      "application/javascript": "(function(root) {\n  function now() {\n    return new Date();\n  }\n\n  const force = true;\n\n  if (typeof root._bokeh_onload_callbacks === \"undefined\" || force === true) {\n    root._bokeh_onload_callbacks = [];\n    root._bokeh_is_loading = undefined;\n  }\n\nconst JS_MIME_TYPE = 'application/javascript';\n  const HTML_MIME_TYPE = 'text/html';\n  const EXEC_MIME_TYPE = 'application/vnd.bokehjs_exec.v0+json';\n  const CLASS_NAME = 'output_bokeh rendered_html';\n\n  /**\n   * Render data to the DOM node\n   */\n  function render(props, node) {\n    const script = document.createElement(\"script\");\n    node.appendChild(script);\n  }\n\n  /**\n   * Handle when an output is cleared or removed\n   */\n  function handleClearOutput(event, handle) {\n    const cell = handle.cell;\n\n    const id = cell.output_area._bokeh_element_id;\n    const server_id = cell.output_area._bokeh_server_id;\n    // Clean up Bokeh references\n    if (id != null && id in Bokeh.index) {\n      Bokeh.index[id].model.document.clear();\n      delete Bokeh.index[id];\n    }\n\n    if (server_id !== undefined) {\n      // Clean up Bokeh references\n      const cmd_clean = \"from bokeh.io.state import curstate; print(curstate().uuid_to_server['\" + server_id + \"'].get_sessions()[0].document.roots[0]._id)\";\n      cell.notebook.kernel.execute(cmd_clean, {\n        iopub: {\n          output: function(msg) {\n            const id = msg.content.text.trim();\n            if (id in Bokeh.index) {\n              Bokeh.index[id].model.document.clear();\n              delete Bokeh.index[id];\n            }\n          }\n        }\n      });\n      // Destroy server and session\n      const cmd_destroy = \"import bokeh.io.notebook as ion; ion.destroy_server('\" + server_id + \"')\";\n      cell.notebook.kernel.execute(cmd_destroy);\n    }\n  }\n\n  /**\n   * Handle when a new output is added\n   */\n  function handleAddOutput(event, handle) {\n    const output_area = handle.output_area;\n    const output = handle.output;\n\n    // limit handleAddOutput to display_data with EXEC_MIME_TYPE content only\n    if ((output.output_type != \"display_data\") || (!Object.prototype.hasOwnProperty.call(output.data, EXEC_MIME_TYPE))) {\n      return\n    }\n\n    const toinsert = output_area.element.find(\".\" + CLASS_NAME.split(' ')[0]);\n\n    if (output.metadata[EXEC_MIME_TYPE][\"id\"] !== undefined) {\n      toinsert[toinsert.length - 1].firstChild.textContent = output.data[JS_MIME_TYPE];\n      // store reference to embed id on output_area\n      output_area._bokeh_element_id = output.metadata[EXEC_MIME_TYPE][\"id\"];\n    }\n    if (output.metadata[EXEC_MIME_TYPE][\"server_id\"] !== undefined) {\n      const bk_div = document.createElement(\"div\");\n      bk_div.innerHTML = output.data[HTML_MIME_TYPE];\n      const script_attrs = bk_div.children[0].attributes;\n      for (let i = 0; i < script_attrs.length; i++) {\n        toinsert[toinsert.length - 1].firstChild.setAttribute(script_attrs[i].name, script_attrs[i].value);\n        toinsert[toinsert.length - 1].firstChild.textContent = bk_div.children[0].textContent\n      }\n      // store reference to server id on output_area\n      output_area._bokeh_server_id = output.metadata[EXEC_MIME_TYPE][\"server_id\"];\n    }\n  }\n\n  function register_renderer(events, OutputArea) {\n\n    function append_mime(data, metadata, element) {\n      // create a DOM node to render to\n      const toinsert = this.create_output_subarea(\n        metadata,\n        CLASS_NAME,\n        EXEC_MIME_TYPE\n      );\n      this.keyboard_manager.register_events(toinsert);\n      // Render to node\n      const props = {data: data, metadata: metadata[EXEC_MIME_TYPE]};\n      render(props, toinsert[toinsert.length - 1]);\n      element.append(toinsert);\n      return toinsert\n    }\n\n    /* Handle when an output is cleared or removed */\n    events.on('clear_output.CodeCell', handleClearOutput);\n    events.on('delete.Cell', handleClearOutput);\n\n    /* Handle when a new output is added */\n    events.on('output_added.OutputArea', handleAddOutput);\n\n    /**\n     * Register the mime type and append_mime function with output_area\n     */\n    OutputArea.prototype.register_mime_type(EXEC_MIME_TYPE, append_mime, {\n      /* Is output safe? */\n      safe: true,\n      /* Index of renderer in `output_area.display_order` */\n      index: 0\n    });\n  }\n\n  // register the mime type if in Jupyter Notebook environment and previously unregistered\n  if (root.Jupyter !== undefined) {\n    const events = require('base/js/events');\n    const OutputArea = require('notebook/js/outputarea').OutputArea;\n\n    if (OutputArea.prototype.mime_types().indexOf(EXEC_MIME_TYPE) == -1) {\n      register_renderer(events, OutputArea);\n    }\n  }\n  if (typeof (root._bokeh_timeout) === \"undefined\" || force === true) {\n    root._bokeh_timeout = Date.now() + 5000;\n    root._bokeh_failed_load = false;\n  }\n\n  const NB_LOAD_WARNING = {'data': {'text/html':\n     \"<div style='background-color: #fdd'>\\n\"+\n     \"<p>\\n\"+\n     \"BokehJS does not appear to have successfully loaded. If loading BokehJS from CDN, this \\n\"+\n     \"may be due to a slow or bad network connection. Possible fixes:\\n\"+\n     \"</p>\\n\"+\n     \"<ul>\\n\"+\n     \"<li>re-rerun `output_notebook()` to attempt to load from CDN again, or</li>\\n\"+\n     \"<li>use INLINE resources instead, as so:</li>\\n\"+\n     \"</ul>\\n\"+\n     \"<code>\\n\"+\n     \"from bokeh.resources import INLINE\\n\"+\n     \"output_notebook(resources=INLINE)\\n\"+\n     \"</code>\\n\"+\n     \"</div>\"}};\n\n  function display_loaded() {\n    const el = document.getElementById(null);\n    if (el != null) {\n      el.textContent = \"BokehJS is loading...\";\n    }\n    if (root.Bokeh !== undefined) {\n      if (el != null) {\n        el.textContent = \"BokehJS \" + root.Bokeh.version + \" successfully loaded.\";\n      }\n    } else if (Date.now() < root._bokeh_timeout) {\n      setTimeout(display_loaded, 100)\n    }\n  }\n\n  function run_callbacks() {\n    try {\n      root._bokeh_onload_callbacks.forEach(function(callback) {\n        if (callback != null)\n          callback();\n      });\n    } finally {\n      delete root._bokeh_onload_callbacks\n    }\n    console.debug(\"Bokeh: all callbacks have finished\");\n  }\n\n  function load_libs(css_urls, js_urls, callback) {\n    if (css_urls == null) css_urls = [];\n    if (js_urls == null) js_urls = [];\n\n    root._bokeh_onload_callbacks.push(callback);\n    if (root._bokeh_is_loading > 0) {\n      console.debug(\"Bokeh: BokehJS is being loaded, scheduling callback at\", now());\n      return null;\n    }\n    if (js_urls == null || js_urls.length === 0) {\n      run_callbacks();\n      return null;\n    }\n    console.debug(\"Bokeh: BokehJS not loaded, scheduling load and callback at\", now());\n    root._bokeh_is_loading = css_urls.length + js_urls.length;\n\n    function on_load() {\n      root._bokeh_is_loading--;\n      if (root._bokeh_is_loading === 0) {\n        console.debug(\"Bokeh: all BokehJS libraries/stylesheets loaded\");\n        run_callbacks()\n      }\n    }\n\n    function on_error(url) {\n      console.error(\"failed to load \" + url);\n    }\n\n    for (let i = 0; i < css_urls.length; i++) {\n      const url = css_urls[i];\n      const element = document.createElement(\"link\");\n      element.onload = on_load;\n      element.onerror = on_error.bind(null, url);\n      element.rel = \"stylesheet\";\n      element.type = \"text/css\";\n      element.href = url;\n      console.debug(\"Bokeh: injecting link tag for BokehJS stylesheet: \", url);\n      document.body.appendChild(element);\n    }\n\n    for (let i = 0; i < js_urls.length; i++) {\n      const url = js_urls[i];\n      const element = document.createElement('script');\n      element.onload = on_load;\n      element.onerror = on_error.bind(null, url);\n      element.async = false;\n      element.src = url;\n      console.debug(\"Bokeh: injecting script tag for BokehJS library: \", url);\n      document.head.appendChild(element);\n    }\n  };\n\n  function inject_raw_css(css) {\n    const element = document.createElement(\"style\");\n    element.appendChild(document.createTextNode(css));\n    document.body.appendChild(element);\n  }\n\n  const js_urls = [\"https://cdn.bokeh.org/bokeh/release/bokeh-3.0.2.min.js\", \"https://cdn.bokeh.org/bokeh/release/bokeh-gl-3.0.2.min.js\", \"https://cdn.bokeh.org/bokeh/release/bokeh-widgets-3.0.2.min.js\", \"https://cdn.bokeh.org/bokeh/release/bokeh-tables-3.0.2.min.js\", \"https://cdn.bokeh.org/bokeh/release/bokeh-mathjax-3.0.2.min.js\"];\n  const css_urls = [];\n\n  const inline_js = [    function(Bokeh) {\n      Bokeh.set_log_level(\"info\");\n    },\nfunction(Bokeh) {\n    }\n  ];\n\n  function run_inline_js() {\n    if (root.Bokeh !== undefined || force === true) {\n          for (let i = 0; i < inline_js.length; i++) {\n      inline_js[i].call(root, root.Bokeh);\n    }\n} else if (Date.now() < root._bokeh_timeout) {\n      setTimeout(run_inline_js, 100);\n    } else if (!root._bokeh_failed_load) {\n      console.log(\"Bokeh: BokehJS failed to load within specified timeout.\");\n      root._bokeh_failed_load = true;\n    } else if (force !== true) {\n      const cell = $(document.getElementById(null)).parents('.cell').data().cell;\n      cell.output_area.append_execute_result(NB_LOAD_WARNING)\n    }\n  }\n\n  if (root._bokeh_is_loading === 0) {\n    console.debug(\"Bokeh: BokehJS loaded, going straight to plotting\");\n    run_inline_js();\n  } else {\n    load_libs(css_urls, js_urls, function() {\n      console.debug(\"Bokeh: BokehJS plotting callback run at\", now());\n      run_inline_js();\n    });\n  }\n}(window));",
      "application/vnd.bokehjs_load.v0+json": ""
     },
     "metadata": {},
     "output_type": "display_data"
    }
   ],
   "source": [
    "from bokeh.io import output_notebook, show, export_png\n",
    "from bokeh.plotting import figure\n",
    "from bokeh.models import NumeralTickFormatter\n",
    "\n",
    "output_notebook(hide_banner=True)\n",
    "\n",
    "from pathlib import Path\n",
    "from jsonlines import jsonlines\n",
    "from pprint import pprint\n",
    "from random import randint"
   ]
  },
  {
   "cell_type": "code",
   "execution_count": 2,
   "metadata": {},
   "outputs": [],
   "source": [
    "RANDOM_QUERY_LOG = \"logs_archive/rand_50i_50n_active_learned_kpwr-full.metrics.jsonl\"\n",
    "LEAST_CONFIDENCE_LOG = \"logs_archive/least_conf_50i_50n_active_learned_kpwr-full.metrics.jsonl\"\n",
    "FIGURES_DIR = Path(\"figures\")\n",
    "FIGURES_DIR.mkdir(exist_ok=True)\n",
    "\n",
    "ITERATIONS = 50\n",
    "N_INSTANCES = 50\n",
    "\n",
    "VISUALS_NAME = \"final_v0\""
   ]
  },
  {
   "cell_type": "code",
   "execution_count": 3,
   "metadata": {},
   "outputs": [
    {
     "name": "stdout",
     "output_type": "stream",
     "text": [
      "{'_date': '20-11-2022 18:44:43',\n",
      " '_iteration': 37,\n",
      " '_iteration_time': 15.336821794509888,\n",
      " '_labels_count': {'_all': 2864,\n",
      "                   'nam_liv_person': 1585,\n",
      "                   'nam_loc_gpe_city': 717,\n",
      "                   'nam_loc_gpe_country': 562},\n",
      " '_sc_loss': 2591.369528710842,\n",
      " '_spans_count': 2864,\n",
      " 'spans_sc_f': 0.5871104815864023,\n",
      " 'spans_sc_p': 0.7668825161887142,\n",
      " 'spans_sc_per_type': {'nam_liv_person': {'f': 0.6532305868405454,\n",
      "                                          'p': 0.7466124661246613,\n",
      "                                          'r': 0.5806111696522656},\n",
      "                       'nam_loc_gpe_city': {'f': 0.47384615384615386,\n",
      "                                            'p': 0.7230046948356808,\n",
      "                                            'r': 0.3524027459954233},\n",
      "                       'nam_loc_gpe_country': {'f': 0.5092402464065708,\n",
      "                                               'p': 0.9538461538461539,\n",
      "                                               'r': 0.3473389355742297}},\n",
      " 'spans_sc_r': 0.47561675272518644,\n",
      " 'speed': 11694.897179107369,\n",
      " 'token_acc': 1.0,\n",
      " 'token_f': 1.0,\n",
      " 'token_p': 1.0,\n",
      " 'token_r': 1.0}\n"
     ]
    }
   ],
   "source": [
    "with jsonlines.open(RANDOM_QUERY_LOG) as reader_rand:\n",
    "    random_log_data = [j for j in reader_rand]\n",
    "rand_idx = randint(0, len(random_log_data) - 1)\n",
    "pprint(random_log_data[rand_idx], compact=True)"
   ]
  },
  {
   "cell_type": "code",
   "execution_count": 4,
   "metadata": {},
   "outputs": [
    {
     "name": "stdout",
     "output_type": "stream",
     "text": [
      "{'_date': '20-11-2022 23:22:12',\n",
      " '_iteration': 27,\n",
      " '_iteration_time': 20.572356462478638,\n",
      " '_labels_count': {'_all': 2083,\n",
      "                   'nam_liv_person': 1173,\n",
      "                   'nam_loc_gpe_city': 489,\n",
      "                   'nam_loc_gpe_country': 421},\n",
      " '_sc_loss': 2270.155914545059,\n",
      " '_spans_count': 2083,\n",
      " 'spans_sc_f': 0.4120065789473685,\n",
      " 'spans_sc_p': 0.7271407837445574,\n",
      " 'spans_sc_per_type': {'nam_liv_person': {'f': 0.5742946708463949,\n",
      "                                          'p': 0.7089783281733746,\n",
      "                                          'r': 0.48261327713382507},\n",
      "                       'nam_loc_gpe_city': {'f': 0.0, 'p': 0.0, 'r': 0.0},\n",
      "                       'nam_loc_gpe_country': {'f': 0.215,\n",
      "                                               'p': 1.0,\n",
      "                                               'r': 0.12044817927170869}},\n",
      " 'spans_sc_r': 0.2874354561101549,\n",
      " 'speed': 8267.51479715888,\n",
      " 'token_acc': 1.0,\n",
      " 'token_f': 1.0,\n",
      " 'token_p': 1.0,\n",
      " 'token_r': 1.0}\n"
     ]
    }
   ],
   "source": [
    "with jsonlines.open(LEAST_CONFIDENCE_LOG) as reader_lc:\n",
    "    least_confidence_log_data = [j for j in reader_lc]\n",
    "rand_idx = randint(0, len(least_confidence_log_data) - 1)\n",
    "pprint(least_confidence_log_data[rand_idx], compact=True)"
   ]
  },
  {
   "cell_type": "code",
   "execution_count": 5,
   "metadata": {},
   "outputs": [],
   "source": [
    "random_iterations, random_entities_num, random_fscores, random_losses = [], [], [], []\n",
    "lc_iterations, lc_entities_num, lc_fscores, lc_losses = [], [], [], []\n",
    "assert len(random_log_data) == len(least_confidence_log_data)\n",
    "\n",
    "for rand_log_line, lc_log_line in zip(random_log_data, least_confidence_log_data):\n",
    "    random_iterations.append(rand_log_line[\"_iteration\"])\n",
    "    random_entities_num.append(rand_log_line[\"_spans_count\"])\n",
    "    random_fscores.append(rand_log_line[\"spans_sc_f\"])\n",
    "    random_losses.append(rand_log_line[\"_sc_loss\"])\n",
    "\n",
    "    lc_iterations.append(lc_log_line[\"_iteration\"])\n",
    "    lc_entities_num.append(lc_log_line[\"_spans_count\"])\n",
    "    lc_fscores.append(lc_log_line[\"spans_sc_f\"])\n",
    "    lc_losses.append(lc_log_line[\"_sc_loss\"])\n",
    "\n",
    "assert len(random_iterations) == len(lc_iterations)\n",
    "assert len(random_iterations) == len(random_fscores)\n",
    "assert len(lc_iterations) == len(lc_fscores)"
   ]
  },
  {
   "cell_type": "markdown",
   "metadata": {},
   "source": [
    "## SpanCategorizer F-score over iterations"
   ]
  },
  {
   "cell_type": "code",
   "execution_count": 6,
   "metadata": {},
   "outputs": [
    {
     "data": {
      "text/html": [
       "\n",
       "  <div id=\"96a03561-9120-440e-bc4c-38bb5eb54464\" data-root-id=\"p1001\" style=\"display: contents;\"></div>\n"
      ]
     },
     "metadata": {},
     "output_type": "display_data"
    },
    {
     "data": {
      "application/javascript": "(function(root) {\n  function embed_document(root) {\n  const docs_json = {\"735c24aa-8309-49eb-9ada-7b1cc95567f1\":{\"version\":\"3.0.2\",\"title\":\"Bokeh Application\",\"defs\":[],\"roots\":[{\"type\":\"object\",\"name\":\"Figure\",\"id\":\"p1001\",\"attributes\":{\"width\":700,\"height\":400,\"x_range\":{\"type\":\"object\",\"name\":\"DataRange1d\",\"id\":\"p1002\"},\"y_range\":{\"type\":\"object\",\"name\":\"DataRange1d\",\"id\":\"p1003\"},\"x_scale\":{\"type\":\"object\",\"name\":\"LinearScale\",\"id\":\"p1015\"},\"y_scale\":{\"type\":\"object\",\"name\":\"LinearScale\",\"id\":\"p1017\"},\"title\":{\"type\":\"object\",\"name\":\"Title\",\"id\":\"p1004\",\"attributes\":{\"text\":\"SpanCategorizer performance over iterations\",\"align\":\"center\"}},\"renderers\":[{\"type\":\"object\",\"name\":\"GlyphRenderer\",\"id\":\"p1056\",\"attributes\":{\"data_source\":{\"type\":\"object\",\"name\":\"ColumnDataSource\",\"id\":\"p1050\",\"attributes\":{\"selected\":{\"type\":\"object\",\"name\":\"Selection\",\"id\":\"p1051\",\"attributes\":{\"indices\":[],\"line_indices\":[]}},\"selection_policy\":{\"type\":\"object\",\"name\":\"UnionRenderers\",\"id\":\"p1052\"},\"data\":{\"type\":\"map\",\"entries\":[[\"x\",[1,2,3,4,5,6,7,8,9,10,11,12,13,14,15,16,17,18,19,20,21,22,23,24,25,26,27,28,29,30,31,32,33,34,35,36,37,38,39,40,41,42,43,44,45,46,47,48,49,50]],[\"y\",[0.0,0.0,0.018120045300113248,0.07567567567567568,0.002292263610315186,0.15089163237311387,0.0,0.005717552887364209,0.22667910447761191,0.09675704412546517,0.001146788990825688,0.23927550047664442,0.3194257514580529,0.11416262789445342,0.37183340489480465,0.19642857142857142,0.34397163120567376,0.37363596682671324,0.36109899694723074,0.2926601215521271,0.49665375132088757,0.4545786209412623,0.43878787878787884,0.5419432709716355,0.39026510212950893,0.25686274509803925,0.4697986577181208,0.477668672790624,0.4106529209621993,0.35843920145190555,0.4651911468812877,0.4195804195804196,0.4902267396403441,0.5915136162127929,0.48459383753501406,0.36263230556833875,0.5871104815864023,0.5593451568894953,0.48805327066196624,0.5871934604904633,0.5361101780315753,0.5226645644461962,0.6093264248704663,0.6250417362270452,0.5931612002791348,0.572928383952006,0.6327944572748267,0.6269633507853403,0.6256141500163774,0.5556670010030091]]]}}},\"view\":{\"type\":\"object\",\"name\":\"CDSView\",\"id\":\"p1057\",\"attributes\":{\"filter\":{\"type\":\"object\",\"name\":\"AllIndices\",\"id\":\"p1058\"}}},\"glyph\":{\"type\":\"object\",\"name\":\"Line\",\"id\":\"p1053\",\"attributes\":{\"x\":{\"type\":\"field\",\"field\":\"x\"},\"y\":{\"type\":\"field\",\"field\":\"y\"},\"line_color\":\"#F6C85F\",\"line_width\":2}},\"nonselection_glyph\":{\"type\":\"object\",\"name\":\"Line\",\"id\":\"p1054\",\"attributes\":{\"x\":{\"type\":\"field\",\"field\":\"x\"},\"y\":{\"type\":\"field\",\"field\":\"y\"},\"line_color\":\"#F6C85F\",\"line_alpha\":0.1,\"line_width\":2}},\"muted_glyph\":{\"type\":\"object\",\"name\":\"Line\",\"id\":\"p1055\",\"attributes\":{\"x\":{\"type\":\"field\",\"field\":\"x\"},\"y\":{\"type\":\"field\",\"field\":\"y\"},\"line_color\":\"#F6C85F\",\"line_alpha\":0.2,\"line_width\":2}}}},{\"type\":\"object\",\"name\":\"GlyphRenderer\",\"id\":\"p1079\",\"attributes\":{\"data_source\":{\"type\":\"object\",\"name\":\"ColumnDataSource\",\"id\":\"p1073\",\"attributes\":{\"selected\":{\"type\":\"object\",\"name\":\"Selection\",\"id\":\"p1074\",\"attributes\":{\"indices\":[],\"line_indices\":[]}},\"selection_policy\":{\"type\":\"object\",\"name\":\"UnionRenderers\",\"id\":\"p1075\"},\"data\":{\"type\":\"map\",\"entries\":[[\"x\",[1,2,3,4,5,6,7,8,9,10,11,12,13,14,15,16,17,18,19,20,21,22,23,24,25,26,27,28,29,30,31,32,33,34,35,36,37,38,39,40,41,42,43,44,45,46,47,48,49,50]],[\"y\",[0.0,0.0,0.0,0.16798732171156894,0.046563192904656325,0.07956240676280457,0.08424507658643327,0.1682600382409178,0.3417049876193845,0.33696563285834025,0.3683113273106324,0.17043121149897328,0.2837249782419495,0.1946001018848701,0.3555555555555555,0.39432297660145765,0.42467378410438905,0.39695550351288056,0.2828571428571428,0.3432109685979655,0.37752414398595263,0.3610493552690085,0.38636363636363635,0.17965926690758904,0.4188176519567028,0.4927428358764422,0.4120065789473685,0.4515612489991994,0.4636400160707112,0.47984644913627633,0.3481012658227848,0.5214165261382799,0.46820349761526237,0.39241052177662794,0.5278058645096056,0.5060863150129105,0.35511491662911215,0.5494584837545127,0.5794191466475439,0.5194412986032464,0.5428471493529207,0.5644551392231008,0.6346276257161043,0.6218543046357615,0.5768357305071916,0.5188755020080322,0.6436080027127841,0.5814285714285713,0.49155869650569295,0.4839228295819936]]]}}},\"view\":{\"type\":\"object\",\"name\":\"CDSView\",\"id\":\"p1080\",\"attributes\":{\"filter\":{\"type\":\"object\",\"name\":\"AllIndices\",\"id\":\"p1081\"}}},\"glyph\":{\"type\":\"object\",\"name\":\"Line\",\"id\":\"p1076\",\"attributes\":{\"x\":{\"type\":\"field\",\"field\":\"x\"},\"y\":{\"type\":\"field\",\"field\":\"y\"},\"line_color\":\"#0B84A5\",\"line_width\":2}},\"nonselection_glyph\":{\"type\":\"object\",\"name\":\"Line\",\"id\":\"p1077\",\"attributes\":{\"x\":{\"type\":\"field\",\"field\":\"x\"},\"y\":{\"type\":\"field\",\"field\":\"y\"},\"line_color\":\"#0B84A5\",\"line_alpha\":0.1,\"line_width\":2}},\"muted_glyph\":{\"type\":\"object\",\"name\":\"Line\",\"id\":\"p1078\",\"attributes\":{\"x\":{\"type\":\"field\",\"field\":\"x\"},\"y\":{\"type\":\"field\",\"field\":\"y\"},\"line_color\":\"#0B84A5\",\"line_alpha\":0.2,\"line_width\":2}}}},{\"type\":\"object\",\"name\":\"GlyphRenderer\",\"id\":\"p1106\",\"attributes\":{\"data_source\":{\"type\":\"object\",\"name\":\"ColumnDataSource\",\"id\":\"p1100\",\"attributes\":{\"selected\":{\"type\":\"object\",\"name\":\"Selection\",\"id\":\"p1101\",\"attributes\":{\"indices\":[],\"line_indices\":[]}},\"selection_policy\":{\"type\":\"object\",\"name\":\"UnionRenderers\",\"id\":\"p1102\"},\"data\":{\"type\":\"map\",\"entries\":[[\"x\",[1,2,3,4,5,6,7,8,9,10,11,12,13,14,15,16,17,18,19,20,21,22,23,24,25,26,27,28,29,30,31,32,33,34,35,36,37,38,39,40,41,42,43,44,45,46,47,48,49,50]],[\"y\",[0.6327944572748267,0.6327944572748267,0.6327944572748267,0.6327944572748267,0.6327944572748267,0.6327944572748267,0.6327944572748267,0.6327944572748267,0.6327944572748267,0.6327944572748267,0.6327944572748267,0.6327944572748267,0.6327944572748267,0.6327944572748267,0.6327944572748267,0.6327944572748267,0.6327944572748267,0.6327944572748267,0.6327944572748267,0.6327944572748267,0.6327944572748267,0.6327944572748267,0.6327944572748267,0.6327944572748267,0.6327944572748267,0.6327944572748267,0.6327944572748267,0.6327944572748267,0.6327944572748267,0.6327944572748267,0.6327944572748267,0.6327944572748267,0.6327944572748267,0.6327944572748267,0.6327944572748267,0.6327944572748267,0.6327944572748267,0.6327944572748267,0.6327944572748267,0.6327944572748267,0.6327944572748267,0.6327944572748267,0.6327944572748267,0.6327944572748267,0.6327944572748267,0.6327944572748267,0.6327944572748267,0.6327944572748267,0.6327944572748267,0.6327944572748267]]]}}},\"view\":{\"type\":\"object\",\"name\":\"CDSView\",\"id\":\"p1107\",\"attributes\":{\"filter\":{\"type\":\"object\",\"name\":\"AllIndices\",\"id\":\"p1108\"}}},\"glyph\":{\"type\":\"object\",\"name\":\"Line\",\"id\":\"p1103\",\"attributes\":{\"x\":{\"type\":\"field\",\"field\":\"x\"},\"y\":{\"type\":\"field\",\"field\":\"y\"},\"line_alpha\":0.5,\"line_dash\":[6]}},\"nonselection_glyph\":{\"type\":\"object\",\"name\":\"Line\",\"id\":\"p1104\",\"attributes\":{\"x\":{\"type\":\"field\",\"field\":\"x\"},\"y\":{\"type\":\"field\",\"field\":\"y\"},\"line_alpha\":0.1,\"line_dash\":[6]}},\"muted_glyph\":{\"type\":\"object\",\"name\":\"Line\",\"id\":\"p1105\",\"attributes\":{\"x\":{\"type\":\"field\",\"field\":\"x\"},\"y\":{\"type\":\"field\",\"field\":\"y\"},\"line_alpha\":0.2,\"line_dash\":[6]}}}}],\"toolbar\":{\"type\":\"object\",\"name\":\"Toolbar\",\"id\":\"p1010\",\"attributes\":{\"tools\":[{\"type\":\"object\",\"name\":\"PanTool\",\"id\":\"p1033\"},{\"type\":\"object\",\"name\":\"WheelZoomTool\",\"id\":\"p1034\"},{\"type\":\"object\",\"name\":\"BoxZoomTool\",\"id\":\"p1035\",\"attributes\":{\"overlay\":{\"type\":\"object\",\"name\":\"BoxAnnotation\",\"id\":\"p1036\",\"attributes\":{\"syncable\":false,\"level\":\"overlay\",\"visible\":false,\"left_units\":\"canvas\",\"right_units\":\"canvas\",\"bottom_units\":\"canvas\",\"top_units\":\"canvas\",\"line_color\":\"black\",\"line_alpha\":1.0,\"line_width\":2,\"line_dash\":[4,4],\"fill_color\":\"lightgrey\",\"fill_alpha\":0.5}}}},{\"type\":\"object\",\"name\":\"SaveTool\",\"id\":\"p1037\"},{\"type\":\"object\",\"name\":\"ResetTool\",\"id\":\"p1038\"},{\"type\":\"object\",\"name\":\"HelpTool\",\"id\":\"p1039\"}]}},\"left\":[{\"type\":\"object\",\"name\":\"LinearAxis\",\"id\":\"p1026\",\"attributes\":{\"ticker\":{\"type\":\"object\",\"name\":\"BasicTicker\",\"id\":\"p1027\",\"attributes\":{\"mantissas\":[1,2,5]}},\"formatter\":{\"type\":\"object\",\"name\":\"NumeralTickFormatter\",\"id\":\"p1048\",\"attributes\":{\"format\":\"0.000\"}},\"axis_label\":\"F-score\",\"major_label_policy\":{\"type\":\"object\",\"name\":\"AllLabels\",\"id\":\"p1028\"}}}],\"right\":[{\"type\":\"object\",\"name\":\"Legend\",\"id\":\"p1071\",\"attributes\":{\"items\":[{\"type\":\"object\",\"name\":\"LegendItem\",\"id\":\"p1072\",\"attributes\":{\"label\":{\"type\":\"value\",\"value\":\"random\"},\"renderers\":[{\"id\":\"p1056\"}]}},{\"type\":\"object\",\"name\":\"LegendItem\",\"id\":\"p1099\",\"attributes\":{\"label\":{\"type\":\"value\",\"value\":\"least-confidence\"},\"renderers\":[{\"id\":\"p1079\"}]}}]}}],\"below\":[{\"type\":\"object\",\"name\":\"LinearAxis\",\"id\":\"p1019\",\"attributes\":{\"ticker\":{\"type\":\"object\",\"name\":\"BasicTicker\",\"id\":\"p1020\",\"attributes\":{\"mantissas\":[1,2,5]}},\"formatter\":{\"type\":\"object\",\"name\":\"BasicTickFormatter\",\"id\":\"p1022\"},\"axis_label\":\"Iteration\",\"major_label_policy\":{\"type\":\"object\",\"name\":\"AllLabels\",\"id\":\"p1021\"}}}],\"center\":[{\"type\":\"object\",\"name\":\"Grid\",\"id\":\"p1025\",\"attributes\":{\"axis\":{\"id\":\"p1019\"}}},{\"type\":\"object\",\"name\":\"Grid\",\"id\":\"p1032\",\"attributes\":{\"dimension\":1,\"axis\":{\"id\":\"p1026\"}}},{\"id\":\"p1071\"}]}}]}};\n  const render_items = [{\"docid\":\"735c24aa-8309-49eb-9ada-7b1cc95567f1\",\"roots\":{\"p1001\":\"96a03561-9120-440e-bc4c-38bb5eb54464\"},\"root_ids\":[\"p1001\"]}];\n  root.Bokeh.embed.embed_items_notebook(docs_json, render_items);\n  }\n  if (root.Bokeh !== undefined) {\n    embed_document(root);\n  } else {\n    let attempts = 0;\n    const timer = setInterval(function(root) {\n      if (root.Bokeh !== undefined) {\n        clearInterval(timer);\n        embed_document(root);\n      } else {\n        attempts++;\n        if (attempts > 100) {\n          clearInterval(timer);\n          console.log(\"Bokeh: ERROR: Unable to run BokehJS code because BokehJS library is missing\");\n        }\n      }\n    }, 10, root)\n  }\n})(window);",
      "application/vnd.bokehjs_exec.v0+json": ""
     },
     "metadata": {
      "application/vnd.bokehjs_exec.v0+json": {
       "id": "p1001"
      }
     },
     "output_type": "display_data"
    }
   ],
   "source": [
    "p = figure(title=\"SpanCategorizer performance over iterations\",\n",
    "           x_axis_label=\"Iteration\",\n",
    "           y_axis_label=\"F-score\",\n",
    "           width=700,\n",
    "           height=400)\n",
    "p.title.align = \"center\"\n",
    "p.yaxis[0].formatter = NumeralTickFormatter(format=\"0.000\")\n",
    "\n",
    "p.line(random_iterations, random_fscores, legend_label=\"random\", color=\"#F6C85F\", line_width=2)\n",
    "p.line(lc_iterations, lc_fscores, legend_label=\"least-confidence\", color=\"#0B84A5\", line_width=2)\n",
    "\n",
    "max_rand_fscore = max(random_fscores)\n",
    "p.line(random_iterations, [max_rand_fscore]*len(random_iterations), color=\"black\", line_dash=\"dashed\", line_alpha=0.5)\n",
    "\n",
    "p.add_layout(p.legend[0], \"right\")\n",
    "\n",
    "show(p)"
   ]
  },
  {
   "cell_type": "code",
   "execution_count": 7,
   "metadata": {},
   "outputs": [
    {
     "data": {
      "text/plain": [
       "'/home/jjamnicki/Documents/bachelor_thesis_project/figures/final_v0_fscore_on_iters_rand_vs_lc_50it_50n.png'"
      ]
     },
     "execution_count": 7,
     "metadata": {},
     "output_type": "execute_result"
    }
   ],
   "source": [
    "out_path = FIGURES_DIR / f\"{VISUALS_NAME}_fscore_on_iters_rand_vs_lc_{ITERATIONS}it_{N_INSTANCES}n.png\"\n",
    "p.toolbar_location = None\n",
    "export_png(p, filename=out_path)"
   ]
  },
  {
   "cell_type": "markdown",
   "metadata": {},
   "source": [
    "## SpanCategorizer training loss over iterations"
   ]
  },
  {
   "cell_type": "code",
   "execution_count": 8,
   "metadata": {},
   "outputs": [
    {
     "data": {
      "text/html": [
       "\n",
       "  <div id=\"aba981ac-e895-4166-94a7-348ff7c8aba0\" data-root-id=\"p1568\" style=\"display: contents;\"></div>\n"
      ]
     },
     "metadata": {},
     "output_type": "display_data"
    },
    {
     "data": {
      "application/javascript": "(function(root) {\n  function embed_document(root) {\n  const docs_json = {\"fd00ce85-f607-4430-965f-921d1782269f\":{\"version\":\"3.0.2\",\"title\":\"Bokeh Application\",\"defs\":[],\"roots\":[{\"type\":\"object\",\"name\":\"Figure\",\"id\":\"p1568\",\"attributes\":{\"width\":700,\"height\":400,\"x_range\":{\"type\":\"object\",\"name\":\"DataRange1d\",\"id\":\"p1569\"},\"y_range\":{\"type\":\"object\",\"name\":\"DataRange1d\",\"id\":\"p1570\"},\"x_scale\":{\"type\":\"object\",\"name\":\"LinearScale\",\"id\":\"p1582\"},\"y_scale\":{\"type\":\"object\",\"name\":\"LinearScale\",\"id\":\"p1584\"},\"title\":{\"type\":\"object\",\"name\":\"Title\",\"id\":\"p1571\",\"attributes\":{\"text\":\"SpanCategorizer training loss over number of iterations\",\"align\":\"center\"}},\"renderers\":[{\"type\":\"object\",\"name\":\"GlyphRenderer\",\"id\":\"p1623\",\"attributes\":{\"data_source\":{\"type\":\"object\",\"name\":\"ColumnDataSource\",\"id\":\"p1617\",\"attributes\":{\"selected\":{\"type\":\"object\",\"name\":\"Selection\",\"id\":\"p1618\",\"attributes\":{\"indices\":[],\"line_indices\":[]}},\"selection_policy\":{\"type\":\"object\",\"name\":\"UnionRenderers\",\"id\":\"p1619\"},\"data\":{\"type\":\"map\",\"entries\":[[\"x\",[1,2,3,4,5,6,7,8,9,10,11,12,13,14,15,16,17,18,19,20,21,22,23,24,25,26,27,28,29,30,31,32,33,34,35,36,37,38,39,40,41,42,43,44,45,46,47,48,49,50]],[\"y\",[628.7508190870285,803.0393052101135,957.6098613739014,876.7214992046356,1067.452224969864,953.4817142486572,1217.045982837677,1010.3973391056061,1420.185909986496,1341.0580496788025,1506.386123418808,1495.5200819969177,1343.4805468916893,1440.818090081215,1651.1499786376953,1944.3994841575623,1641.584812939167,1757.0661883950233,1848.1858884692192,2040.980462193489,1858.7095019817352,2164.4464433193207,2247.945258438587,2294.6357349157333,2228.2814304232597,2459.860322713852,2275.093300461769,2451.081841945648,2234.1317529678345,2238.5119468569756,2751.112487077713,2448.9176589250565,2654.273724168539,2576.7941375374794,2696.931019425392,2771.4225347042084,2591.369528710842,2707.145678460598,2959.2199458777905,2770.9669201374054,3152.5611263513565,2942.2358947992325,2903.790060043335,2971.11581492424,2994.4973341822624,3154.450354605913,3221.1451092362404,3010.556604862213,3325.4355123639107,3317.7489735484123]]]}}},\"view\":{\"type\":\"object\",\"name\":\"CDSView\",\"id\":\"p1624\",\"attributes\":{\"filter\":{\"type\":\"object\",\"name\":\"AllIndices\",\"id\":\"p1625\"}}},\"glyph\":{\"type\":\"object\",\"name\":\"Line\",\"id\":\"p1620\",\"attributes\":{\"x\":{\"type\":\"field\",\"field\":\"x\"},\"y\":{\"type\":\"field\",\"field\":\"y\"},\"line_color\":\"#F6C85F\",\"line_width\":2}},\"nonselection_glyph\":{\"type\":\"object\",\"name\":\"Line\",\"id\":\"p1621\",\"attributes\":{\"x\":{\"type\":\"field\",\"field\":\"x\"},\"y\":{\"type\":\"field\",\"field\":\"y\"},\"line_color\":\"#F6C85F\",\"line_alpha\":0.1,\"line_width\":2}},\"muted_glyph\":{\"type\":\"object\",\"name\":\"Line\",\"id\":\"p1622\",\"attributes\":{\"x\":{\"type\":\"field\",\"field\":\"x\"},\"y\":{\"type\":\"field\",\"field\":\"y\"},\"line_color\":\"#F6C85F\",\"line_alpha\":0.2,\"line_width\":2}}}},{\"type\":\"object\",\"name\":\"GlyphRenderer\",\"id\":\"p1646\",\"attributes\":{\"data_source\":{\"type\":\"object\",\"name\":\"ColumnDataSource\",\"id\":\"p1640\",\"attributes\":{\"selected\":{\"type\":\"object\",\"name\":\"Selection\",\"id\":\"p1641\",\"attributes\":{\"indices\":[],\"line_indices\":[]}},\"selection_policy\":{\"type\":\"object\",\"name\":\"UnionRenderers\",\"id\":\"p1642\"},\"data\":{\"type\":\"map\",\"entries\":[[\"x\",[1,2,3,4,5,6,7,8,9,10,11,12,13,14,15,16,17,18,19,20,21,22,23,24,25,26,27,28,29,30,31,32,33,34,35,36,37,38,39,40,41,42,43,44,45,46,47,48,49,50]],[\"y\",[628.7508190870285,810.1929457187653,1001.27654504776,910.7594766616821,1066.8357436656952,966.361611366272,1208.6093623638153,1037.3176147937775,1419.7701222896576,1340.0238262414932,1470.3111853599548,1520.8740170001984,1378.0188884735107,1464.2879903316498,1642.4141760468483,1814.7369134426117,1612.2134174704552,1776.1338840723038,1824.919675707817,2009.2693139314651,1847.384678721428,2151.031758338213,2351.0470925569534,2357.7370973825455,2276.1279633045197,2307.034674823284,2270.155914545059,2259.518929898739,2214.822133600712,2229.5106048583984,2547.9480386972427,2465.2693300247192,2491.6069298386574,2556.976097404957,2611.0946472883224,2753.1142382621765,2772.113398194313,2653.372898340225,2885.116698741913,2885.189660847187,3086.749264538288,2966.507564842701,2861.6452998816967,2960.2515212893486,2951.0174188017845,3205.6590772271156,3260.507680758834,3318.558528780937,3353.1254247426987,3285.5051087737083]]]}}},\"view\":{\"type\":\"object\",\"name\":\"CDSView\",\"id\":\"p1647\",\"attributes\":{\"filter\":{\"type\":\"object\",\"name\":\"AllIndices\",\"id\":\"p1648\"}}},\"glyph\":{\"type\":\"object\",\"name\":\"Line\",\"id\":\"p1643\",\"attributes\":{\"x\":{\"type\":\"field\",\"field\":\"x\"},\"y\":{\"type\":\"field\",\"field\":\"y\"},\"line_color\":\"#0B84A5\",\"line_width\":2}},\"nonselection_glyph\":{\"type\":\"object\",\"name\":\"Line\",\"id\":\"p1644\",\"attributes\":{\"x\":{\"type\":\"field\",\"field\":\"x\"},\"y\":{\"type\":\"field\",\"field\":\"y\"},\"line_color\":\"#0B84A5\",\"line_alpha\":0.1,\"line_width\":2}},\"muted_glyph\":{\"type\":\"object\",\"name\":\"Line\",\"id\":\"p1645\",\"attributes\":{\"x\":{\"type\":\"field\",\"field\":\"x\"},\"y\":{\"type\":\"field\",\"field\":\"y\"},\"line_color\":\"#0B84A5\",\"line_alpha\":0.2,\"line_width\":2}}}},{\"type\":\"object\",\"name\":\"GlyphRenderer\",\"id\":\"p1673\",\"attributes\":{\"data_source\":{\"type\":\"object\",\"name\":\"ColumnDataSource\",\"id\":\"p1667\",\"attributes\":{\"selected\":{\"type\":\"object\",\"name\":\"Selection\",\"id\":\"p1668\",\"attributes\":{\"indices\":[],\"line_indices\":[]}},\"selection_policy\":{\"type\":\"object\",\"name\":\"UnionRenderers\",\"id\":\"p1669\"},\"data\":{\"type\":\"map\",\"entries\":[[\"x\",[1,2,3,4,5,6,7,8,9,10,11,12,13,14,15,16,17,18,19,20,21,22,23,24,25,26,27,28,29,30,31,32,33,34,35,36,37,38,39,40,41,42,43,44,45,46,47,48,49,50]],[\"y\",[628.7508190870285,628.7508190870285,628.7508190870285,628.7508190870285,628.7508190870285,628.7508190870285,628.7508190870285,628.7508190870285,628.7508190870285,628.7508190870285,628.7508190870285,628.7508190870285,628.7508190870285,628.7508190870285,628.7508190870285,628.7508190870285,628.7508190870285,628.7508190870285,628.7508190870285,628.7508190870285,628.7508190870285,628.7508190870285,628.7508190870285,628.7508190870285,628.7508190870285,628.7508190870285,628.7508190870285,628.7508190870285,628.7508190870285,628.7508190870285,628.7508190870285,628.7508190870285,628.7508190870285,628.7508190870285,628.7508190870285,628.7508190870285,628.7508190870285,628.7508190870285,628.7508190870285,628.7508190870285,628.7508190870285,628.7508190870285,628.7508190870285,628.7508190870285,628.7508190870285,628.7508190870285,628.7508190870285,628.7508190870285,628.7508190870285,628.7508190870285]]]}}},\"view\":{\"type\":\"object\",\"name\":\"CDSView\",\"id\":\"p1674\",\"attributes\":{\"filter\":{\"type\":\"object\",\"name\":\"AllIndices\",\"id\":\"p1675\"}}},\"glyph\":{\"type\":\"object\",\"name\":\"Line\",\"id\":\"p1670\",\"attributes\":{\"x\":{\"type\":\"field\",\"field\":\"x\"},\"y\":{\"type\":\"field\",\"field\":\"y\"},\"line_alpha\":0.5,\"line_dash\":[6]}},\"nonselection_glyph\":{\"type\":\"object\",\"name\":\"Line\",\"id\":\"p1671\",\"attributes\":{\"x\":{\"type\":\"field\",\"field\":\"x\"},\"y\":{\"type\":\"field\",\"field\":\"y\"},\"line_alpha\":0.1,\"line_dash\":[6]}},\"muted_glyph\":{\"type\":\"object\",\"name\":\"Line\",\"id\":\"p1672\",\"attributes\":{\"x\":{\"type\":\"field\",\"field\":\"x\"},\"y\":{\"type\":\"field\",\"field\":\"y\"},\"line_alpha\":0.2,\"line_dash\":[6]}}}}],\"toolbar\":{\"type\":\"object\",\"name\":\"Toolbar\",\"id\":\"p1577\",\"attributes\":{\"tools\":[{\"type\":\"object\",\"name\":\"PanTool\",\"id\":\"p1600\"},{\"type\":\"object\",\"name\":\"WheelZoomTool\",\"id\":\"p1601\"},{\"type\":\"object\",\"name\":\"BoxZoomTool\",\"id\":\"p1602\",\"attributes\":{\"overlay\":{\"type\":\"object\",\"name\":\"BoxAnnotation\",\"id\":\"p1603\",\"attributes\":{\"syncable\":false,\"level\":\"overlay\",\"visible\":false,\"left_units\":\"canvas\",\"right_units\":\"canvas\",\"bottom_units\":\"canvas\",\"top_units\":\"canvas\",\"line_color\":\"black\",\"line_alpha\":1.0,\"line_width\":2,\"line_dash\":[4,4],\"fill_color\":\"lightgrey\",\"fill_alpha\":0.5}}}},{\"type\":\"object\",\"name\":\"SaveTool\",\"id\":\"p1604\"},{\"type\":\"object\",\"name\":\"ResetTool\",\"id\":\"p1605\"},{\"type\":\"object\",\"name\":\"HelpTool\",\"id\":\"p1606\"}]}},\"left\":[{\"type\":\"object\",\"name\":\"LinearAxis\",\"id\":\"p1593\",\"attributes\":{\"ticker\":{\"type\":\"object\",\"name\":\"BasicTicker\",\"id\":\"p1594\",\"attributes\":{\"mantissas\":[1,2,5]}},\"formatter\":{\"type\":\"object\",\"name\":\"NumeralTickFormatter\",\"id\":\"p1615\",\"attributes\":{\"format\":\"0\"}},\"axis_label\":\"Loss\",\"major_label_policy\":{\"type\":\"object\",\"name\":\"AllLabels\",\"id\":\"p1595\"}}}],\"right\":[{\"type\":\"object\",\"name\":\"Legend\",\"id\":\"p1638\",\"attributes\":{\"items\":[{\"type\":\"object\",\"name\":\"LegendItem\",\"id\":\"p1639\",\"attributes\":{\"label\":{\"type\":\"value\",\"value\":\"random\"},\"renderers\":[{\"id\":\"p1623\"}]}},{\"type\":\"object\",\"name\":\"LegendItem\",\"id\":\"p1666\",\"attributes\":{\"label\":{\"type\":\"value\",\"value\":\"least-confidence\"},\"renderers\":[{\"id\":\"p1646\"}]}}]}}],\"below\":[{\"type\":\"object\",\"name\":\"LinearAxis\",\"id\":\"p1586\",\"attributes\":{\"ticker\":{\"type\":\"object\",\"name\":\"BasicTicker\",\"id\":\"p1587\",\"attributes\":{\"mantissas\":[1,2,5]}},\"formatter\":{\"type\":\"object\",\"name\":\"BasicTickFormatter\",\"id\":\"p1589\"},\"axis_label\":\"Iteration\",\"major_label_policy\":{\"type\":\"object\",\"name\":\"AllLabels\",\"id\":\"p1588\"}}}],\"center\":[{\"type\":\"object\",\"name\":\"Grid\",\"id\":\"p1592\",\"attributes\":{\"axis\":{\"id\":\"p1586\"}}},{\"type\":\"object\",\"name\":\"Grid\",\"id\":\"p1599\",\"attributes\":{\"dimension\":1,\"axis\":{\"id\":\"p1593\"}}},{\"id\":\"p1638\"}]}}]}};\n  const render_items = [{\"docid\":\"fd00ce85-f607-4430-965f-921d1782269f\",\"roots\":{\"p1568\":\"aba981ac-e895-4166-94a7-348ff7c8aba0\"},\"root_ids\":[\"p1568\"]}];\n  root.Bokeh.embed.embed_items_notebook(docs_json, render_items);\n  }\n  if (root.Bokeh !== undefined) {\n    embed_document(root);\n  } else {\n    let attempts = 0;\n    const timer = setInterval(function(root) {\n      if (root.Bokeh !== undefined) {\n        clearInterval(timer);\n        embed_document(root);\n      } else {\n        attempts++;\n        if (attempts > 100) {\n          clearInterval(timer);\n          console.log(\"Bokeh: ERROR: Unable to run BokehJS code because BokehJS library is missing\");\n        }\n      }\n    }, 10, root)\n  }\n})(window);",
      "application/vnd.bokehjs_exec.v0+json": ""
     },
     "metadata": {
      "application/vnd.bokehjs_exec.v0+json": {
       "id": "p1568"
      }
     },
     "output_type": "display_data"
    }
   ],
   "source": [
    "p = figure(title=\"SpanCategorizer training loss over number of iterations\",\n",
    "           x_axis_label=\"Iteration\",\n",
    "           y_axis_label=\"Loss\",\n",
    "           width=700,\n",
    "           height=400)\n",
    "p.title.align = \"center\"\n",
    "p.yaxis[0].formatter = NumeralTickFormatter(format=\"0\")\n",
    "\n",
    "p.line(random_iterations, random_losses, legend_label=\"random\", color=\"#F6C85F\", line_width=2)\n",
    "p.line(lc_iterations, lc_losses, legend_label=\"least-confidence\", color=\"#0B84A5\", line_width=2)\n",
    "\n",
    "min_rand_loss = min(random_losses)\n",
    "p.line(random_iterations, [min_rand_loss]*len(random_iterations), color=\"black\", line_dash=\"dashed\", line_alpha=0.5)\n",
    "\n",
    "p.add_layout(p.legend[0], \"right\")\n",
    "\n",
    "show(p)"
   ]
  },
  {
   "cell_type": "code",
   "execution_count": 9,
   "metadata": {},
   "outputs": [
    {
     "data": {
      "text/plain": [
       "'/home/jjamnicki/Documents/bachelor_thesis_project/figures/final_v0_loss_on_iters_rand_vs_lc_50it_50n.png'"
      ]
     },
     "execution_count": 9,
     "metadata": {},
     "output_type": "execute_result"
    }
   ],
   "source": [
    "out_path = FIGURES_DIR / f\"{VISUALS_NAME}_loss_on_iters_rand_vs_lc_{ITERATIONS}it_{N_INSTANCES}n.png\"\n",
    "p.toolbar_location = None\n",
    "export_png(p, filename=out_path)"
   ]
  },
  {
   "cell_type": "markdown",
   "metadata": {},
   "source": [
    "## SpanCategorizer F-score over number of entities"
   ]
  },
  {
   "cell_type": "code",
   "execution_count": 10,
   "metadata": {},
   "outputs": [
    {
     "data": {
      "text/html": [
       "\n",
       "  <div id=\"e2974a05-1e38-4798-aeb2-557c547a5399\" data-root-id=\"p2157\" style=\"display: contents;\"></div>\n"
      ]
     },
     "metadata": {},
     "output_type": "display_data"
    },
    {
     "data": {
      "application/javascript": "(function(root) {\n  function embed_document(root) {\n  const docs_json = {\"30b68eca-30a2-4781-83ad-a6e4f685dcf3\":{\"version\":\"3.0.2\",\"title\":\"Bokeh Application\",\"defs\":[],\"roots\":[{\"type\":\"object\",\"name\":\"Figure\",\"id\":\"p2157\",\"attributes\":{\"width\":700,\"height\":400,\"x_range\":{\"type\":\"object\",\"name\":\"DataRange1d\",\"id\":\"p2158\"},\"y_range\":{\"type\":\"object\",\"name\":\"DataRange1d\",\"id\":\"p2159\"},\"x_scale\":{\"type\":\"object\",\"name\":\"LinearScale\",\"id\":\"p2171\"},\"y_scale\":{\"type\":\"object\",\"name\":\"LinearScale\",\"id\":\"p2173\"},\"title\":{\"type\":\"object\",\"name\":\"Title\",\"id\":\"p2160\",\"attributes\":{\"text\":\"SpanCategorizer performance over number of entities\",\"align\":\"center\"}},\"renderers\":[{\"type\":\"object\",\"name\":\"GlyphRenderer\",\"id\":\"p2212\",\"attributes\":{\"data_source\":{\"type\":\"object\",\"name\":\"ColumnDataSource\",\"id\":\"p2206\",\"attributes\":{\"selected\":{\"type\":\"object\",\"name\":\"Selection\",\"id\":\"p2207\",\"attributes\":{\"indices\":[],\"line_indices\":[]}},\"selection_policy\":{\"type\":\"object\",\"name\":\"UnionRenderers\",\"id\":\"p2208\"},\"data\":{\"type\":\"map\",\"entries\":[[\"x\",[97,186,257,331,427,499,565,634,718,795,867,947,1023,1107,1198,1272,1341,1419,1484,1550,1635,1706,1778,1854,1933,2007,2098,2168,2244,2336,2405,2475,2542,2637,2724,2795,2864,2938,3005,3088,3164,3233,3316,3410,3482,3553,3621,3694,3769,3844]],[\"y\",[0.0,0.0,0.018120045300113248,0.07567567567567568,0.002292263610315186,0.15089163237311387,0.0,0.005717552887364209,0.22667910447761191,0.09675704412546517,0.001146788990825688,0.23927550047664442,0.3194257514580529,0.11416262789445342,0.37183340489480465,0.19642857142857142,0.34397163120567376,0.37363596682671324,0.36109899694723074,0.2926601215521271,0.49665375132088757,0.4545786209412623,0.43878787878787884,0.5419432709716355,0.39026510212950893,0.25686274509803925,0.4697986577181208,0.477668672790624,0.4106529209621993,0.35843920145190555,0.4651911468812877,0.4195804195804196,0.4902267396403441,0.5915136162127929,0.48459383753501406,0.36263230556833875,0.5871104815864023,0.5593451568894953,0.48805327066196624,0.5871934604904633,0.5361101780315753,0.5226645644461962,0.6093264248704663,0.6250417362270452,0.5931612002791348,0.572928383952006,0.6327944572748267,0.6269633507853403,0.6256141500163774,0.5556670010030091]]]}}},\"view\":{\"type\":\"object\",\"name\":\"CDSView\",\"id\":\"p2213\",\"attributes\":{\"filter\":{\"type\":\"object\",\"name\":\"AllIndices\",\"id\":\"p2214\"}}},\"glyph\":{\"type\":\"object\",\"name\":\"Line\",\"id\":\"p2209\",\"attributes\":{\"x\":{\"type\":\"field\",\"field\":\"x\"},\"y\":{\"type\":\"field\",\"field\":\"y\"},\"line_color\":\"#F6C85F\",\"line_width\":2}},\"nonselection_glyph\":{\"type\":\"object\",\"name\":\"Line\",\"id\":\"p2210\",\"attributes\":{\"x\":{\"type\":\"field\",\"field\":\"x\"},\"y\":{\"type\":\"field\",\"field\":\"y\"},\"line_color\":\"#F6C85F\",\"line_alpha\":0.1,\"line_width\":2}},\"muted_glyph\":{\"type\":\"object\",\"name\":\"Line\",\"id\":\"p2211\",\"attributes\":{\"x\":{\"type\":\"field\",\"field\":\"x\"},\"y\":{\"type\":\"field\",\"field\":\"y\"},\"line_color\":\"#F6C85F\",\"line_alpha\":0.2,\"line_width\":2}}}},{\"type\":\"object\",\"name\":\"GlyphRenderer\",\"id\":\"p2235\",\"attributes\":{\"data_source\":{\"type\":\"object\",\"name\":\"ColumnDataSource\",\"id\":\"p2229\",\"attributes\":{\"selected\":{\"type\":\"object\",\"name\":\"Selection\",\"id\":\"p2230\",\"attributes\":{\"indices\":[],\"line_indices\":[]}},\"selection_policy\":{\"type\":\"object\",\"name\":\"UnionRenderers\",\"id\":\"p2231\"},\"data\":{\"type\":\"map\",\"entries\":[[\"x\",[97,192,277,349,427,504,572,650,718,783,861,940,1020,1097,1179,1254,1322,1395,1467,1554,1654,1734,1801,1879,1955,2016,2083,2148,2217,2283,2365,2427,2501,2608,2684,2750,2819,2887,2957,3040,3121,3200,3269,3353,3443,3521,3588,3665,3733,3812]],[\"y\",[0.0,0.0,0.0,0.16798732171156894,0.046563192904656325,0.07956240676280457,0.08424507658643327,0.1682600382409178,0.3417049876193845,0.33696563285834025,0.3683113273106324,0.17043121149897328,0.2837249782419495,0.1946001018848701,0.3555555555555555,0.39432297660145765,0.42467378410438905,0.39695550351288056,0.2828571428571428,0.3432109685979655,0.37752414398595263,0.3610493552690085,0.38636363636363635,0.17965926690758904,0.4188176519567028,0.4927428358764422,0.4120065789473685,0.4515612489991994,0.4636400160707112,0.47984644913627633,0.3481012658227848,0.5214165261382799,0.46820349761526237,0.39241052177662794,0.5278058645096056,0.5060863150129105,0.35511491662911215,0.5494584837545127,0.5794191466475439,0.5194412986032464,0.5428471493529207,0.5644551392231008,0.6346276257161043,0.6218543046357615,0.5768357305071916,0.5188755020080322,0.6436080027127841,0.5814285714285713,0.49155869650569295,0.4839228295819936]]]}}},\"view\":{\"type\":\"object\",\"name\":\"CDSView\",\"id\":\"p2236\",\"attributes\":{\"filter\":{\"type\":\"object\",\"name\":\"AllIndices\",\"id\":\"p2237\"}}},\"glyph\":{\"type\":\"object\",\"name\":\"Line\",\"id\":\"p2232\",\"attributes\":{\"x\":{\"type\":\"field\",\"field\":\"x\"},\"y\":{\"type\":\"field\",\"field\":\"y\"},\"line_color\":\"#0B84A5\",\"line_width\":2}},\"nonselection_glyph\":{\"type\":\"object\",\"name\":\"Line\",\"id\":\"p2233\",\"attributes\":{\"x\":{\"type\":\"field\",\"field\":\"x\"},\"y\":{\"type\":\"field\",\"field\":\"y\"},\"line_color\":\"#0B84A5\",\"line_alpha\":0.1,\"line_width\":2}},\"muted_glyph\":{\"type\":\"object\",\"name\":\"Line\",\"id\":\"p2234\",\"attributes\":{\"x\":{\"type\":\"field\",\"field\":\"x\"},\"y\":{\"type\":\"field\",\"field\":\"y\"},\"line_color\":\"#0B84A5\",\"line_alpha\":0.2,\"line_width\":2}}}},{\"type\":\"object\",\"name\":\"GlyphRenderer\",\"id\":\"p2262\",\"attributes\":{\"data_source\":{\"type\":\"object\",\"name\":\"ColumnDataSource\",\"id\":\"p2256\",\"attributes\":{\"selected\":{\"type\":\"object\",\"name\":\"Selection\",\"id\":\"p2257\",\"attributes\":{\"indices\":[],\"line_indices\":[]}},\"selection_policy\":{\"type\":\"object\",\"name\":\"UnionRenderers\",\"id\":\"p2258\"},\"data\":{\"type\":\"map\",\"entries\":[[\"x\",[97,186,257,331,427,499,565,634,718,795,867,947,1023,1107,1198,1272,1341,1419,1484,1550,1635,1706,1778,1854,1933,2007,2098,2168,2244,2336,2405,2475,2542,2637,2724,2795,2864,2938,3005,3088,3164,3233,3316,3410,3482,3553,3621,3694,3769,3844]],[\"y\",[0.6327944572748267,0.6327944572748267,0.6327944572748267,0.6327944572748267,0.6327944572748267,0.6327944572748267,0.6327944572748267,0.6327944572748267,0.6327944572748267,0.6327944572748267,0.6327944572748267,0.6327944572748267,0.6327944572748267,0.6327944572748267,0.6327944572748267,0.6327944572748267,0.6327944572748267,0.6327944572748267,0.6327944572748267,0.6327944572748267,0.6327944572748267,0.6327944572748267,0.6327944572748267,0.6327944572748267,0.6327944572748267,0.6327944572748267,0.6327944572748267,0.6327944572748267,0.6327944572748267,0.6327944572748267,0.6327944572748267,0.6327944572748267,0.6327944572748267,0.6327944572748267,0.6327944572748267,0.6327944572748267,0.6327944572748267,0.6327944572748267,0.6327944572748267,0.6327944572748267,0.6327944572748267,0.6327944572748267,0.6327944572748267,0.6327944572748267,0.6327944572748267,0.6327944572748267,0.6327944572748267,0.6327944572748267,0.6327944572748267,0.6327944572748267]]]}}},\"view\":{\"type\":\"object\",\"name\":\"CDSView\",\"id\":\"p2263\",\"attributes\":{\"filter\":{\"type\":\"object\",\"name\":\"AllIndices\",\"id\":\"p2264\"}}},\"glyph\":{\"type\":\"object\",\"name\":\"Line\",\"id\":\"p2259\",\"attributes\":{\"x\":{\"type\":\"field\",\"field\":\"x\"},\"y\":{\"type\":\"field\",\"field\":\"y\"},\"line_alpha\":0.5,\"line_dash\":[6]}},\"nonselection_glyph\":{\"type\":\"object\",\"name\":\"Line\",\"id\":\"p2260\",\"attributes\":{\"x\":{\"type\":\"field\",\"field\":\"x\"},\"y\":{\"type\":\"field\",\"field\":\"y\"},\"line_alpha\":0.1,\"line_dash\":[6]}},\"muted_glyph\":{\"type\":\"object\",\"name\":\"Line\",\"id\":\"p2261\",\"attributes\":{\"x\":{\"type\":\"field\",\"field\":\"x\"},\"y\":{\"type\":\"field\",\"field\":\"y\"},\"line_alpha\":0.2,\"line_dash\":[6]}}}}],\"toolbar\":{\"type\":\"object\",\"name\":\"Toolbar\",\"id\":\"p2166\",\"attributes\":{\"tools\":[{\"type\":\"object\",\"name\":\"PanTool\",\"id\":\"p2189\"},{\"type\":\"object\",\"name\":\"WheelZoomTool\",\"id\":\"p2190\"},{\"type\":\"object\",\"name\":\"BoxZoomTool\",\"id\":\"p2191\",\"attributes\":{\"overlay\":{\"type\":\"object\",\"name\":\"BoxAnnotation\",\"id\":\"p2192\",\"attributes\":{\"syncable\":false,\"level\":\"overlay\",\"visible\":false,\"left_units\":\"canvas\",\"right_units\":\"canvas\",\"bottom_units\":\"canvas\",\"top_units\":\"canvas\",\"line_color\":\"black\",\"line_alpha\":1.0,\"line_width\":2,\"line_dash\":[4,4],\"fill_color\":\"lightgrey\",\"fill_alpha\":0.5}}}},{\"type\":\"object\",\"name\":\"SaveTool\",\"id\":\"p2193\"},{\"type\":\"object\",\"name\":\"ResetTool\",\"id\":\"p2194\"},{\"type\":\"object\",\"name\":\"HelpTool\",\"id\":\"p2195\"}]}},\"left\":[{\"type\":\"object\",\"name\":\"LinearAxis\",\"id\":\"p2182\",\"attributes\":{\"ticker\":{\"type\":\"object\",\"name\":\"BasicTicker\",\"id\":\"p2183\",\"attributes\":{\"mantissas\":[1,2,5]}},\"formatter\":{\"type\":\"object\",\"name\":\"NumeralTickFormatter\",\"id\":\"p2204\",\"attributes\":{\"format\":\"0.000\"}},\"axis_label\":\"F-score\",\"major_label_policy\":{\"type\":\"object\",\"name\":\"AllLabels\",\"id\":\"p2184\"}}}],\"right\":[{\"type\":\"object\",\"name\":\"Legend\",\"id\":\"p2227\",\"attributes\":{\"items\":[{\"type\":\"object\",\"name\":\"LegendItem\",\"id\":\"p2228\",\"attributes\":{\"label\":{\"type\":\"value\",\"value\":\"random\"},\"renderers\":[{\"id\":\"p2212\"}]}},{\"type\":\"object\",\"name\":\"LegendItem\",\"id\":\"p2255\",\"attributes\":{\"label\":{\"type\":\"value\",\"value\":\"least-confidence\"},\"renderers\":[{\"id\":\"p2235\"}]}}]}}],\"below\":[{\"type\":\"object\",\"name\":\"LinearAxis\",\"id\":\"p2175\",\"attributes\":{\"ticker\":{\"type\":\"object\",\"name\":\"BasicTicker\",\"id\":\"p2176\",\"attributes\":{\"mantissas\":[1,2,5]}},\"formatter\":{\"type\":\"object\",\"name\":\"BasicTickFormatter\",\"id\":\"p2178\"},\"axis_label\":\"Entities\",\"major_label_policy\":{\"type\":\"object\",\"name\":\"AllLabels\",\"id\":\"p2177\"}}}],\"center\":[{\"type\":\"object\",\"name\":\"Grid\",\"id\":\"p2181\",\"attributes\":{\"axis\":{\"id\":\"p2175\"}}},{\"type\":\"object\",\"name\":\"Grid\",\"id\":\"p2188\",\"attributes\":{\"dimension\":1,\"axis\":{\"id\":\"p2182\"}}},{\"id\":\"p2227\"}]}}]}};\n  const render_items = [{\"docid\":\"30b68eca-30a2-4781-83ad-a6e4f685dcf3\",\"roots\":{\"p2157\":\"e2974a05-1e38-4798-aeb2-557c547a5399\"},\"root_ids\":[\"p2157\"]}];\n  root.Bokeh.embed.embed_items_notebook(docs_json, render_items);\n  }\n  if (root.Bokeh !== undefined) {\n    embed_document(root);\n  } else {\n    let attempts = 0;\n    const timer = setInterval(function(root) {\n      if (root.Bokeh !== undefined) {\n        clearInterval(timer);\n        embed_document(root);\n      } else {\n        attempts++;\n        if (attempts > 100) {\n          clearInterval(timer);\n          console.log(\"Bokeh: ERROR: Unable to run BokehJS code because BokehJS library is missing\");\n        }\n      }\n    }, 10, root)\n  }\n})(window);",
      "application/vnd.bokehjs_exec.v0+json": ""
     },
     "metadata": {
      "application/vnd.bokehjs_exec.v0+json": {
       "id": "p2157"
      }
     },
     "output_type": "display_data"
    }
   ],
   "source": [
    "p = figure(title=\"SpanCategorizer performance over number of entities\",\n",
    "           x_axis_label=\"Entities\",\n",
    "           y_axis_label=\"F-score\",\n",
    "           width=700,\n",
    "           height=400)\n",
    "p.title.align = \"center\"\n",
    "p.yaxis[0].formatter = NumeralTickFormatter(format=\"0.000\")\n",
    "\n",
    "p.line(random_entities_num, random_fscores, legend_label=\"random\", color=\"#F6C85F\", line_width=2)\n",
    "p.line(lc_entities_num, lc_fscores, legend_label=\"least-confidence\", color=\"#0B84A5\", line_width=2)\n",
    "\n",
    "max_rand_fscore = max(random_fscores)\n",
    "p.line(random_entities_num, [max_rand_fscore]*len(random_entities_num), color=\"black\", line_dash=\"dashed\", line_alpha=0.5)\n",
    "\n",
    "p.add_layout(p.legend[0], \"right\")\n",
    "\n",
    "show(p)"
   ]
  },
  {
   "cell_type": "code",
   "execution_count": 11,
   "metadata": {},
   "outputs": [
    {
     "data": {
      "text/plain": [
       "'/tmp/tmptsvhs5w9.png'"
      ]
     },
     "execution_count": 11,
     "metadata": {},
     "output_type": "execute_result"
    }
   ],
   "source": [
    "out_path = FIGURES_DIR / f\"{VISUALS_NAME}_fscore_on_ents_rand_vs_lc_{ITERATIONS}it_{N_INSTANCES}n.png\"\n",
    "p.toolbar_location = None\n",
    "export_png(p)"
   ]
  },
  {
   "cell_type": "markdown",
   "metadata": {},
   "source": [
    "## SpanCategorizer training loss over number of entities"
   ]
  },
  {
   "cell_type": "code",
   "execution_count": 12,
   "metadata": {},
   "outputs": [
    {
     "data": {
      "text/html": [
       "\n",
       "  <div id=\"ebffcddf-1af2-4ed1-897f-fcfa71048291\" data-root-id=\"p2768\" style=\"display: contents;\"></div>\n"
      ]
     },
     "metadata": {},
     "output_type": "display_data"
    },
    {
     "data": {
      "application/javascript": "(function(root) {\n  function embed_document(root) {\n  const docs_json = {\"eddd0743-1990-43df-9a60-41f253d569a7\":{\"version\":\"3.0.2\",\"title\":\"Bokeh Application\",\"defs\":[],\"roots\":[{\"type\":\"object\",\"name\":\"Figure\",\"id\":\"p2768\",\"attributes\":{\"width\":700,\"height\":400,\"x_range\":{\"type\":\"object\",\"name\":\"DataRange1d\",\"id\":\"p2769\"},\"y_range\":{\"type\":\"object\",\"name\":\"DataRange1d\",\"id\":\"p2770\"},\"x_scale\":{\"type\":\"object\",\"name\":\"LinearScale\",\"id\":\"p2782\"},\"y_scale\":{\"type\":\"object\",\"name\":\"LinearScale\",\"id\":\"p2784\"},\"title\":{\"type\":\"object\",\"name\":\"Title\",\"id\":\"p2771\",\"attributes\":{\"text\":\"SpanCategorizer training loss over number of entities\",\"align\":\"center\"}},\"renderers\":[{\"type\":\"object\",\"name\":\"GlyphRenderer\",\"id\":\"p2823\",\"attributes\":{\"data_source\":{\"type\":\"object\",\"name\":\"ColumnDataSource\",\"id\":\"p2817\",\"attributes\":{\"selected\":{\"type\":\"object\",\"name\":\"Selection\",\"id\":\"p2818\",\"attributes\":{\"indices\":[],\"line_indices\":[]}},\"selection_policy\":{\"type\":\"object\",\"name\":\"UnionRenderers\",\"id\":\"p2819\"},\"data\":{\"type\":\"map\",\"entries\":[[\"x\",[97,186,257,331,427,499,565,634,718,795,867,947,1023,1107,1198,1272,1341,1419,1484,1550,1635,1706,1778,1854,1933,2007,2098,2168,2244,2336,2405,2475,2542,2637,2724,2795,2864,2938,3005,3088,3164,3233,3316,3410,3482,3553,3621,3694,3769,3844]],[\"y\",[628.7508190870285,803.0393052101135,957.6098613739014,876.7214992046356,1067.452224969864,953.4817142486572,1217.045982837677,1010.3973391056061,1420.185909986496,1341.0580496788025,1506.386123418808,1495.5200819969177,1343.4805468916893,1440.818090081215,1651.1499786376953,1944.3994841575623,1641.584812939167,1757.0661883950233,1848.1858884692192,2040.980462193489,1858.7095019817352,2164.4464433193207,2247.945258438587,2294.6357349157333,2228.2814304232597,2459.860322713852,2275.093300461769,2451.081841945648,2234.1317529678345,2238.5119468569756,2751.112487077713,2448.9176589250565,2654.273724168539,2576.7941375374794,2696.931019425392,2771.4225347042084,2591.369528710842,2707.145678460598,2959.2199458777905,2770.9669201374054,3152.5611263513565,2942.2358947992325,2903.790060043335,2971.11581492424,2994.4973341822624,3154.450354605913,3221.1451092362404,3010.556604862213,3325.4355123639107,3317.7489735484123]]]}}},\"view\":{\"type\":\"object\",\"name\":\"CDSView\",\"id\":\"p2824\",\"attributes\":{\"filter\":{\"type\":\"object\",\"name\":\"AllIndices\",\"id\":\"p2825\"}}},\"glyph\":{\"type\":\"object\",\"name\":\"Line\",\"id\":\"p2820\",\"attributes\":{\"x\":{\"type\":\"field\",\"field\":\"x\"},\"y\":{\"type\":\"field\",\"field\":\"y\"},\"line_color\":\"#F6C85F\",\"line_width\":2}},\"nonselection_glyph\":{\"type\":\"object\",\"name\":\"Line\",\"id\":\"p2821\",\"attributes\":{\"x\":{\"type\":\"field\",\"field\":\"x\"},\"y\":{\"type\":\"field\",\"field\":\"y\"},\"line_color\":\"#F6C85F\",\"line_alpha\":0.1,\"line_width\":2}},\"muted_glyph\":{\"type\":\"object\",\"name\":\"Line\",\"id\":\"p2822\",\"attributes\":{\"x\":{\"type\":\"field\",\"field\":\"x\"},\"y\":{\"type\":\"field\",\"field\":\"y\"},\"line_color\":\"#F6C85F\",\"line_alpha\":0.2,\"line_width\":2}}}},{\"type\":\"object\",\"name\":\"GlyphRenderer\",\"id\":\"p2846\",\"attributes\":{\"data_source\":{\"type\":\"object\",\"name\":\"ColumnDataSource\",\"id\":\"p2840\",\"attributes\":{\"selected\":{\"type\":\"object\",\"name\":\"Selection\",\"id\":\"p2841\",\"attributes\":{\"indices\":[],\"line_indices\":[]}},\"selection_policy\":{\"type\":\"object\",\"name\":\"UnionRenderers\",\"id\":\"p2842\"},\"data\":{\"type\":\"map\",\"entries\":[[\"x\",[97,192,277,349,427,504,572,650,718,783,861,940,1020,1097,1179,1254,1322,1395,1467,1554,1654,1734,1801,1879,1955,2016,2083,2148,2217,2283,2365,2427,2501,2608,2684,2750,2819,2887,2957,3040,3121,3200,3269,3353,3443,3521,3588,3665,3733,3812]],[\"y\",[628.7508190870285,810.1929457187653,1001.27654504776,910.7594766616821,1066.8357436656952,966.361611366272,1208.6093623638153,1037.3176147937775,1419.7701222896576,1340.0238262414932,1470.3111853599548,1520.8740170001984,1378.0188884735107,1464.2879903316498,1642.4141760468483,1814.7369134426117,1612.2134174704552,1776.1338840723038,1824.919675707817,2009.2693139314651,1847.384678721428,2151.031758338213,2351.0470925569534,2357.7370973825455,2276.1279633045197,2307.034674823284,2270.155914545059,2259.518929898739,2214.822133600712,2229.5106048583984,2547.9480386972427,2465.2693300247192,2491.6069298386574,2556.976097404957,2611.0946472883224,2753.1142382621765,2772.113398194313,2653.372898340225,2885.116698741913,2885.189660847187,3086.749264538288,2966.507564842701,2861.6452998816967,2960.2515212893486,2951.0174188017845,3205.6590772271156,3260.507680758834,3318.558528780937,3353.1254247426987,3285.5051087737083]]]}}},\"view\":{\"type\":\"object\",\"name\":\"CDSView\",\"id\":\"p2847\",\"attributes\":{\"filter\":{\"type\":\"object\",\"name\":\"AllIndices\",\"id\":\"p2848\"}}},\"glyph\":{\"type\":\"object\",\"name\":\"Line\",\"id\":\"p2843\",\"attributes\":{\"x\":{\"type\":\"field\",\"field\":\"x\"},\"y\":{\"type\":\"field\",\"field\":\"y\"},\"line_color\":\"#0B84A5\",\"line_width\":2}},\"nonselection_glyph\":{\"type\":\"object\",\"name\":\"Line\",\"id\":\"p2844\",\"attributes\":{\"x\":{\"type\":\"field\",\"field\":\"x\"},\"y\":{\"type\":\"field\",\"field\":\"y\"},\"line_color\":\"#0B84A5\",\"line_alpha\":0.1,\"line_width\":2}},\"muted_glyph\":{\"type\":\"object\",\"name\":\"Line\",\"id\":\"p2845\",\"attributes\":{\"x\":{\"type\":\"field\",\"field\":\"x\"},\"y\":{\"type\":\"field\",\"field\":\"y\"},\"line_color\":\"#0B84A5\",\"line_alpha\":0.2,\"line_width\":2}}}},{\"type\":\"object\",\"name\":\"GlyphRenderer\",\"id\":\"p2873\",\"attributes\":{\"data_source\":{\"type\":\"object\",\"name\":\"ColumnDataSource\",\"id\":\"p2867\",\"attributes\":{\"selected\":{\"type\":\"object\",\"name\":\"Selection\",\"id\":\"p2868\",\"attributes\":{\"indices\":[],\"line_indices\":[]}},\"selection_policy\":{\"type\":\"object\",\"name\":\"UnionRenderers\",\"id\":\"p2869\"},\"data\":{\"type\":\"map\",\"entries\":[[\"x\",[97,186,257,331,427,499,565,634,718,795,867,947,1023,1107,1198,1272,1341,1419,1484,1550,1635,1706,1778,1854,1933,2007,2098,2168,2244,2336,2405,2475,2542,2637,2724,2795,2864,2938,3005,3088,3164,3233,3316,3410,3482,3553,3621,3694,3769,3844]],[\"y\",[0.6327944572748267,0.6327944572748267,0.6327944572748267,0.6327944572748267,0.6327944572748267,0.6327944572748267,0.6327944572748267,0.6327944572748267,0.6327944572748267,0.6327944572748267,0.6327944572748267,0.6327944572748267,0.6327944572748267,0.6327944572748267,0.6327944572748267,0.6327944572748267,0.6327944572748267,0.6327944572748267,0.6327944572748267,0.6327944572748267,0.6327944572748267,0.6327944572748267,0.6327944572748267,0.6327944572748267,0.6327944572748267,0.6327944572748267,0.6327944572748267,0.6327944572748267,0.6327944572748267,0.6327944572748267,0.6327944572748267,0.6327944572748267,0.6327944572748267,0.6327944572748267,0.6327944572748267,0.6327944572748267,0.6327944572748267,0.6327944572748267,0.6327944572748267,0.6327944572748267,0.6327944572748267,0.6327944572748267,0.6327944572748267,0.6327944572748267,0.6327944572748267,0.6327944572748267,0.6327944572748267,0.6327944572748267,0.6327944572748267,0.6327944572748267]]]}}},\"view\":{\"type\":\"object\",\"name\":\"CDSView\",\"id\":\"p2874\",\"attributes\":{\"filter\":{\"type\":\"object\",\"name\":\"AllIndices\",\"id\":\"p2875\"}}},\"glyph\":{\"type\":\"object\",\"name\":\"Line\",\"id\":\"p2870\",\"attributes\":{\"x\":{\"type\":\"field\",\"field\":\"x\"},\"y\":{\"type\":\"field\",\"field\":\"y\"},\"line_alpha\":0.5,\"line_dash\":[6]}},\"nonselection_glyph\":{\"type\":\"object\",\"name\":\"Line\",\"id\":\"p2871\",\"attributes\":{\"x\":{\"type\":\"field\",\"field\":\"x\"},\"y\":{\"type\":\"field\",\"field\":\"y\"},\"line_alpha\":0.1,\"line_dash\":[6]}},\"muted_glyph\":{\"type\":\"object\",\"name\":\"Line\",\"id\":\"p2872\",\"attributes\":{\"x\":{\"type\":\"field\",\"field\":\"x\"},\"y\":{\"type\":\"field\",\"field\":\"y\"},\"line_alpha\":0.2,\"line_dash\":[6]}}}}],\"toolbar\":{\"type\":\"object\",\"name\":\"Toolbar\",\"id\":\"p2777\",\"attributes\":{\"tools\":[{\"type\":\"object\",\"name\":\"PanTool\",\"id\":\"p2800\"},{\"type\":\"object\",\"name\":\"WheelZoomTool\",\"id\":\"p2801\"},{\"type\":\"object\",\"name\":\"BoxZoomTool\",\"id\":\"p2802\",\"attributes\":{\"overlay\":{\"type\":\"object\",\"name\":\"BoxAnnotation\",\"id\":\"p2803\",\"attributes\":{\"syncable\":false,\"level\":\"overlay\",\"visible\":false,\"left_units\":\"canvas\",\"right_units\":\"canvas\",\"bottom_units\":\"canvas\",\"top_units\":\"canvas\",\"line_color\":\"black\",\"line_alpha\":1.0,\"line_width\":2,\"line_dash\":[4,4],\"fill_color\":\"lightgrey\",\"fill_alpha\":0.5}}}},{\"type\":\"object\",\"name\":\"SaveTool\",\"id\":\"p2804\"},{\"type\":\"object\",\"name\":\"ResetTool\",\"id\":\"p2805\"},{\"type\":\"object\",\"name\":\"HelpTool\",\"id\":\"p2806\"}]}},\"left\":[{\"type\":\"object\",\"name\":\"LinearAxis\",\"id\":\"p2793\",\"attributes\":{\"ticker\":{\"type\":\"object\",\"name\":\"BasicTicker\",\"id\":\"p2794\",\"attributes\":{\"mantissas\":[1,2,5]}},\"formatter\":{\"type\":\"object\",\"name\":\"NumeralTickFormatter\",\"id\":\"p2815\",\"attributes\":{\"format\":\"0\"}},\"axis_label\":\"Loss\",\"major_label_policy\":{\"type\":\"object\",\"name\":\"AllLabels\",\"id\":\"p2795\"}}}],\"right\":[{\"type\":\"object\",\"name\":\"Legend\",\"id\":\"p2838\",\"attributes\":{\"items\":[{\"type\":\"object\",\"name\":\"LegendItem\",\"id\":\"p2839\",\"attributes\":{\"label\":{\"type\":\"value\",\"value\":\"random\"},\"renderers\":[{\"id\":\"p2823\"}]}},{\"type\":\"object\",\"name\":\"LegendItem\",\"id\":\"p2866\",\"attributes\":{\"label\":{\"type\":\"value\",\"value\":\"least-confidence\"},\"renderers\":[{\"id\":\"p2846\"}]}}]}}],\"below\":[{\"type\":\"object\",\"name\":\"LinearAxis\",\"id\":\"p2786\",\"attributes\":{\"ticker\":{\"type\":\"object\",\"name\":\"BasicTicker\",\"id\":\"p2787\",\"attributes\":{\"mantissas\":[1,2,5]}},\"formatter\":{\"type\":\"object\",\"name\":\"BasicTickFormatter\",\"id\":\"p2789\"},\"axis_label\":\"Entities\",\"major_label_policy\":{\"type\":\"object\",\"name\":\"AllLabels\",\"id\":\"p2788\"}}}],\"center\":[{\"type\":\"object\",\"name\":\"Grid\",\"id\":\"p2792\",\"attributes\":{\"axis\":{\"id\":\"p2786\"}}},{\"type\":\"object\",\"name\":\"Grid\",\"id\":\"p2799\",\"attributes\":{\"dimension\":1,\"axis\":{\"id\":\"p2793\"}}},{\"id\":\"p2838\"}]}}]}};\n  const render_items = [{\"docid\":\"eddd0743-1990-43df-9a60-41f253d569a7\",\"roots\":{\"p2768\":\"ebffcddf-1af2-4ed1-897f-fcfa71048291\"},\"root_ids\":[\"p2768\"]}];\n  root.Bokeh.embed.embed_items_notebook(docs_json, render_items);\n  }\n  if (root.Bokeh !== undefined) {\n    embed_document(root);\n  } else {\n    let attempts = 0;\n    const timer = setInterval(function(root) {\n      if (root.Bokeh !== undefined) {\n        clearInterval(timer);\n        embed_document(root);\n      } else {\n        attempts++;\n        if (attempts > 100) {\n          clearInterval(timer);\n          console.log(\"Bokeh: ERROR: Unable to run BokehJS code because BokehJS library is missing\");\n        }\n      }\n    }, 10, root)\n  }\n})(window);",
      "application/vnd.bokehjs_exec.v0+json": ""
     },
     "metadata": {
      "application/vnd.bokehjs_exec.v0+json": {
       "id": "p2768"
      }
     },
     "output_type": "display_data"
    }
   ],
   "source": [
    "p = figure(title=\"SpanCategorizer training loss over number of entities\",\n",
    "           x_axis_label=\"Entities\",\n",
    "           y_axis_label=\"Loss\",\n",
    "           width=700,\n",
    "           height=400)\n",
    "p.title.align = \"center\"\n",
    "p.yaxis[0].formatter = NumeralTickFormatter(format=\"0\")\n",
    "\n",
    "p.line(random_entities_num, random_losses, legend_label=\"random\", color=\"#F6C85F\", line_width=2)\n",
    "p.line(lc_entities_num, lc_losses, legend_label=\"least-confidence\", color=\"#0B84A5\", line_width=2)\n",
    "\n",
    "max_rand_fscore = max(random_fscores)\n",
    "p.line(random_entities_num, [max_rand_fscore]*len(random_entities_num), color=\"black\", line_dash=\"dashed\", line_alpha=0.5)\n",
    "\n",
    "p.add_layout(p.legend[0], \"right\")\n",
    "\n",
    "show(p)"
   ]
  },
  {
   "cell_type": "code",
   "execution_count": 13,
   "metadata": {},
   "outputs": [
    {
     "data": {
      "text/plain": [
       "'/home/jjamnicki/Documents/bachelor_thesis_project/figures/final_v0_loss_on_ents_rand_vs_lc_50it_50n.png'"
      ]
     },
     "execution_count": 13,
     "metadata": {},
     "output_type": "execute_result"
    }
   ],
   "source": [
    "out_path = FIGURES_DIR / f\"{VISUALS_NAME}_loss_on_ents_rand_vs_lc_{ITERATIONS}it_{N_INSTANCES}n.png\"\n",
    "p.toolbar_location = None\n",
    "export_png(p, filename=out_path)"
   ]
  }
 ],
 "metadata": {
  "kernelspec": {
   "display_name": "Python 3.8.0 ('bachelor_tp_visuals')",
   "language": "python",
   "name": "python3"
  },
  "language_info": {
   "codemirror_mode": {
    "name": "ipython",
    "version": 3
   },
   "file_extension": ".py",
   "mimetype": "text/x-python",
   "name": "python",
   "nbconvert_exporter": "python",
   "pygments_lexer": "ipython3",
   "version": "3.8.0"
  },
  "orig_nbformat": 4,
  "vscode": {
   "interpreter": {
    "hash": "f990454114ec40012f61138adc3fdd606994f0e49c1ee311f2e2638563ceaf32"
   }
  }
 },
 "nbformat": 4,
 "nbformat_minor": 2
}

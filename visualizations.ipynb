{
 "cells": [
  {
   "cell_type": "code",
   "execution_count": 1,
   "metadata": {},
   "outputs": [
    {
     "data": {
      "text/html": [
       "<style>\n",
       "        .bk-notebook-logo {\n",
       "            display: block;\n",
       "            width: 20px;\n",
       "            height: 20px;\n",
       "            background-image: url(data:image/png;base64,iVBORw0KGgoAAAANSUhEUgAAABQAAAAUCAYAAACNiR0NAAAABHNCSVQICAgIfAhkiAAAAAlwSFlzAAALEgAACxIB0t1+/AAAABx0RVh0U29mdHdhcmUAQWRvYmUgRmlyZXdvcmtzIENTNui8sowAAAOkSURBVDiNjZRtaJVlGMd/1/08zzln5zjP1LWcU9N0NkN8m2CYjpgQYQXqSs0I84OLIC0hkEKoPtiH3gmKoiJDU7QpLgoLjLIQCpEsNJ1vqUOdO7ppbuec5+V+rj4ctwzd8IIbbi6u+8f1539dt3A78eXC7QizUF7gyV1fD1Yqg4JWz84yffhm0qkFqBogB9rM8tZdtwVsPUhWhGcFJngGeWrPzHm5oaMmkfEg1usvLFyc8jLRqDOMru7AyC8saQr7GG7f5fvDeH7Ej8CM66nIF+8yngt6HWaKh7k49Soy9nXurCi1o3qUbS3zWfrYeQDTB/Qj6kX6Ybhw4B+bOYoLKCC9H3Nu/leUTZ1JdRWkkn2ldcCamzrcf47KKXdAJllSlxAOkRgyHsGC/zRday5Qld9DyoM4/q/rUoy/CXh3jzOu3bHUVZeU+DEn8FInkPBFlu3+nW3Nw0mk6vCDiWg8CeJaxEwuHS3+z5RgY+YBR6V1Z1nxSOfoaPa4LASWxxdNp+VWTk7+4vzaou8v8PN+xo+KY2xsw6une2frhw05CTYOmQvsEhjhWjn0bmXPjpE1+kplmmkP3suftwTubK9Vq22qKmrBhpY4jvd5afdRA3wGjFAgcnTK2s4hY0/GPNIb0nErGMCRxWOOX64Z8RAC4oCXdklmEvcL8o0BfkNK4lUg9HTl+oPlQxdNo3Mg4Nv175e/1LDGzZen30MEjRUtmXSfiTVu1kK8W4txyV6BMKlbgk3lMwYCiusNy9fVfvvwMxv8Ynl6vxoByANLTWplvuj/nF9m2+PDtt1eiHPBr1oIfhCChQMBw6Aw0UulqTKZdfVvfG7VcfIqLG9bcldL/+pdWTLxLUy8Qq38heUIjh4XlzZxzQm19lLFlr8vdQ97rjZVOLf8nclzckbcD4wxXMidpX30sFd37Fv/GtwwhzhxGVAprjbg0gCAEeIgwCZyTV2Z1REEW8O4py0wsjeloKoMr6iCY6dP92H6Vw/oTyICIthibxjm/DfN9lVz8IqtqKYLUXfoKVMVQVVJOElGjrnnUt9T9wbgp8AyYKaGlqingHZU/uG2NTZSVqwHQTWkx9hxjkpWDaCg6Ckj5qebgBVbT3V3NNXMSiWSDdGV3hrtzla7J+duwPOToIg42ChPQOQjspnSlp1V+Gjdged7+8UN5CRAV7a5EdFNwCjEaBR27b3W890TE7g24NAP/mMDXRWrGoFPQI9ls/MWO2dWFAar/xcOIImbbpA3zgAAAABJRU5ErkJggg==);\n",
       "        }\n",
       "    </style>\n",
       "    <div>\n",
       "        <a href=\"https://bokeh.org\" target=\"_blank\" class=\"bk-notebook-logo\"></a>\n",
       "        <span id=\"p1001\">Loading BokehJS ...</span>\n",
       "    </div>\n"
      ]
     },
     "metadata": {},
     "output_type": "display_data"
    },
    {
     "data": {
      "application/javascript": "(function(root) {\n  function now() {\n    return new Date();\n  }\n\n  const force = true;\n\n  if (typeof root._bokeh_onload_callbacks === \"undefined\" || force === true) {\n    root._bokeh_onload_callbacks = [];\n    root._bokeh_is_loading = undefined;\n  }\n\nconst JS_MIME_TYPE = 'application/javascript';\n  const HTML_MIME_TYPE = 'text/html';\n  const EXEC_MIME_TYPE = 'application/vnd.bokehjs_exec.v0+json';\n  const CLASS_NAME = 'output_bokeh rendered_html';\n\n  /**\n   * Render data to the DOM node\n   */\n  function render(props, node) {\n    const script = document.createElement(\"script\");\n    node.appendChild(script);\n  }\n\n  /**\n   * Handle when an output is cleared or removed\n   */\n  function handleClearOutput(event, handle) {\n    const cell = handle.cell;\n\n    const id = cell.output_area._bokeh_element_id;\n    const server_id = cell.output_area._bokeh_server_id;\n    // Clean up Bokeh references\n    if (id != null && id in Bokeh.index) {\n      Bokeh.index[id].model.document.clear();\n      delete Bokeh.index[id];\n    }\n\n    if (server_id !== undefined) {\n      // Clean up Bokeh references\n      const cmd_clean = \"from bokeh.io.state import curstate; print(curstate().uuid_to_server['\" + server_id + \"'].get_sessions()[0].document.roots[0]._id)\";\n      cell.notebook.kernel.execute(cmd_clean, {\n        iopub: {\n          output: function(msg) {\n            const id = msg.content.text.trim();\n            if (id in Bokeh.index) {\n              Bokeh.index[id].model.document.clear();\n              delete Bokeh.index[id];\n            }\n          }\n        }\n      });\n      // Destroy server and session\n      const cmd_destroy = \"import bokeh.io.notebook as ion; ion.destroy_server('\" + server_id + \"')\";\n      cell.notebook.kernel.execute(cmd_destroy);\n    }\n  }\n\n  /**\n   * Handle when a new output is added\n   */\n  function handleAddOutput(event, handle) {\n    const output_area = handle.output_area;\n    const output = handle.output;\n\n    // limit handleAddOutput to display_data with EXEC_MIME_TYPE content only\n    if ((output.output_type != \"display_data\") || (!Object.prototype.hasOwnProperty.call(output.data, EXEC_MIME_TYPE))) {\n      return\n    }\n\n    const toinsert = output_area.element.find(\".\" + CLASS_NAME.split(' ')[0]);\n\n    if (output.metadata[EXEC_MIME_TYPE][\"id\"] !== undefined) {\n      toinsert[toinsert.length - 1].firstChild.textContent = output.data[JS_MIME_TYPE];\n      // store reference to embed id on output_area\n      output_area._bokeh_element_id = output.metadata[EXEC_MIME_TYPE][\"id\"];\n    }\n    if (output.metadata[EXEC_MIME_TYPE][\"server_id\"] !== undefined) {\n      const bk_div = document.createElement(\"div\");\n      bk_div.innerHTML = output.data[HTML_MIME_TYPE];\n      const script_attrs = bk_div.children[0].attributes;\n      for (let i = 0; i < script_attrs.length; i++) {\n        toinsert[toinsert.length - 1].firstChild.setAttribute(script_attrs[i].name, script_attrs[i].value);\n        toinsert[toinsert.length - 1].firstChild.textContent = bk_div.children[0].textContent\n      }\n      // store reference to server id on output_area\n      output_area._bokeh_server_id = output.metadata[EXEC_MIME_TYPE][\"server_id\"];\n    }\n  }\n\n  function register_renderer(events, OutputArea) {\n\n    function append_mime(data, metadata, element) {\n      // create a DOM node to render to\n      const toinsert = this.create_output_subarea(\n        metadata,\n        CLASS_NAME,\n        EXEC_MIME_TYPE\n      );\n      this.keyboard_manager.register_events(toinsert);\n      // Render to node\n      const props = {data: data, metadata: metadata[EXEC_MIME_TYPE]};\n      render(props, toinsert[toinsert.length - 1]);\n      element.append(toinsert);\n      return toinsert\n    }\n\n    /* Handle when an output is cleared or removed */\n    events.on('clear_output.CodeCell', handleClearOutput);\n    events.on('delete.Cell', handleClearOutput);\n\n    /* Handle when a new output is added */\n    events.on('output_added.OutputArea', handleAddOutput);\n\n    /**\n     * Register the mime type and append_mime function with output_area\n     */\n    OutputArea.prototype.register_mime_type(EXEC_MIME_TYPE, append_mime, {\n      /* Is output safe? */\n      safe: true,\n      /* Index of renderer in `output_area.display_order` */\n      index: 0\n    });\n  }\n\n  // register the mime type if in Jupyter Notebook environment and previously unregistered\n  if (root.Jupyter !== undefined) {\n    const events = require('base/js/events');\n    const OutputArea = require('notebook/js/outputarea').OutputArea;\n\n    if (OutputArea.prototype.mime_types().indexOf(EXEC_MIME_TYPE) == -1) {\n      register_renderer(events, OutputArea);\n    }\n  }\n  if (typeof (root._bokeh_timeout) === \"undefined\" || force === true) {\n    root._bokeh_timeout = Date.now() + 5000;\n    root._bokeh_failed_load = false;\n  }\n\n  const NB_LOAD_WARNING = {'data': {'text/html':\n     \"<div style='background-color: #fdd'>\\n\"+\n     \"<p>\\n\"+\n     \"BokehJS does not appear to have successfully loaded. If loading BokehJS from CDN, this \\n\"+\n     \"may be due to a slow or bad network connection. Possible fixes:\\n\"+\n     \"</p>\\n\"+\n     \"<ul>\\n\"+\n     \"<li>re-rerun `output_notebook()` to attempt to load from CDN again, or</li>\\n\"+\n     \"<li>use INLINE resources instead, as so:</li>\\n\"+\n     \"</ul>\\n\"+\n     \"<code>\\n\"+\n     \"from bokeh.resources import INLINE\\n\"+\n     \"output_notebook(resources=INLINE)\\n\"+\n     \"</code>\\n\"+\n     \"</div>\"}};\n\n  function display_loaded() {\n    const el = document.getElementById(\"p1001\");\n    if (el != null) {\n      el.textContent = \"BokehJS is loading...\";\n    }\n    if (root.Bokeh !== undefined) {\n      if (el != null) {\n        el.textContent = \"BokehJS \" + root.Bokeh.version + \" successfully loaded.\";\n      }\n    } else if (Date.now() < root._bokeh_timeout) {\n      setTimeout(display_loaded, 100)\n    }\n  }\n\n  function run_callbacks() {\n    try {\n      root._bokeh_onload_callbacks.forEach(function(callback) {\n        if (callback != null)\n          callback();\n      });\n    } finally {\n      delete root._bokeh_onload_callbacks\n    }\n    console.debug(\"Bokeh: all callbacks have finished\");\n  }\n\n  function load_libs(css_urls, js_urls, callback) {\n    if (css_urls == null) css_urls = [];\n    if (js_urls == null) js_urls = [];\n\n    root._bokeh_onload_callbacks.push(callback);\n    if (root._bokeh_is_loading > 0) {\n      console.debug(\"Bokeh: BokehJS is being loaded, scheduling callback at\", now());\n      return null;\n    }\n    if (js_urls == null || js_urls.length === 0) {\n      run_callbacks();\n      return null;\n    }\n    console.debug(\"Bokeh: BokehJS not loaded, scheduling load and callback at\", now());\n    root._bokeh_is_loading = css_urls.length + js_urls.length;\n\n    function on_load() {\n      root._bokeh_is_loading--;\n      if (root._bokeh_is_loading === 0) {\n        console.debug(\"Bokeh: all BokehJS libraries/stylesheets loaded\");\n        run_callbacks()\n      }\n    }\n\n    function on_error(url) {\n      console.error(\"failed to load \" + url);\n    }\n\n    for (let i = 0; i < css_urls.length; i++) {\n      const url = css_urls[i];\n      const element = document.createElement(\"link\");\n      element.onload = on_load;\n      element.onerror = on_error.bind(null, url);\n      element.rel = \"stylesheet\";\n      element.type = \"text/css\";\n      element.href = url;\n      console.debug(\"Bokeh: injecting link tag for BokehJS stylesheet: \", url);\n      document.body.appendChild(element);\n    }\n\n    for (let i = 0; i < js_urls.length; i++) {\n      const url = js_urls[i];\n      const element = document.createElement('script');\n      element.onload = on_load;\n      element.onerror = on_error.bind(null, url);\n      element.async = false;\n      element.src = url;\n      console.debug(\"Bokeh: injecting script tag for BokehJS library: \", url);\n      document.head.appendChild(element);\n    }\n  };\n\n  function inject_raw_css(css) {\n    const element = document.createElement(\"style\");\n    element.appendChild(document.createTextNode(css));\n    document.body.appendChild(element);\n  }\n\n  const js_urls = [\"https://cdn.bokeh.org/bokeh/release/bokeh-3.0.2.min.js\", \"https://cdn.bokeh.org/bokeh/release/bokeh-gl-3.0.2.min.js\", \"https://cdn.bokeh.org/bokeh/release/bokeh-widgets-3.0.2.min.js\", \"https://cdn.bokeh.org/bokeh/release/bokeh-tables-3.0.2.min.js\", \"https://cdn.bokeh.org/bokeh/release/bokeh-mathjax-3.0.2.min.js\"];\n  const css_urls = [];\n\n  const inline_js = [    function(Bokeh) {\n      Bokeh.set_log_level(\"info\");\n    },\nfunction(Bokeh) {\n    }\n  ];\n\n  function run_inline_js() {\n    if (root.Bokeh !== undefined || force === true) {\n          for (let i = 0; i < inline_js.length; i++) {\n      inline_js[i].call(root, root.Bokeh);\n    }\nif (force === true) {\n        display_loaded();\n      }} else if (Date.now() < root._bokeh_timeout) {\n      setTimeout(run_inline_js, 100);\n    } else if (!root._bokeh_failed_load) {\n      console.log(\"Bokeh: BokehJS failed to load within specified timeout.\");\n      root._bokeh_failed_load = true;\n    } else if (force !== true) {\n      const cell = $(document.getElementById(\"p1001\")).parents('.cell').data().cell;\n      cell.output_area.append_execute_result(NB_LOAD_WARNING)\n    }\n  }\n\n  if (root._bokeh_is_loading === 0) {\n    console.debug(\"Bokeh: BokehJS loaded, going straight to plotting\");\n    run_inline_js();\n  } else {\n    load_libs(css_urls, js_urls, function() {\n      console.debug(\"Bokeh: BokehJS plotting callback run at\", now());\n      run_inline_js();\n    });\n  }\n}(window));",
      "application/vnd.bokehjs_load.v0+json": ""
     },
     "metadata": {},
     "output_type": "display_data"
    }
   ],
   "source": [
    "from bokeh.io import output_notebook, show, export_png\n",
    "from bokeh.plotting import figure\n",
    "from bokeh.models import NumeralTickFormatter\n",
    "\n",
    "output_notebook()\n",
    "\n",
    "from pathlib import Path\n",
    "from jsonlines import jsonlines\n",
    "from pprint import pprint\n",
    "from random import randint"
   ]
  },
  {
   "cell_type": "code",
   "execution_count": 2,
   "metadata": {},
   "outputs": [],
   "source": [
    "RANDOM_QUERY_LOG = \"logs/scripts/random_learned_kpwr-full_50iters_50instances.metrics.jsonl\"\n",
    "LEAST_CONFIDENCE_LOG = \"logs/scripts/lc_active_learned_kpwr-full_50iters_50instances.metrics.jsonl\"\n",
    "FIGURES_DIR = Path(\"figures\")\n",
    "FIGURES_DIR.mkdir(exist_ok=True)\n",
    "\n",
    "ITERATIONS = 50\n",
    "N_INSTANCES = 50"
   ]
  },
  {
   "cell_type": "code",
   "execution_count": 3,
   "metadata": {},
   "outputs": [
    {
     "name": "stdout",
     "output_type": "stream",
     "text": [
      "{'_date': '19-11-2022 13:46:14',\n",
      " '_iteration': 49,\n",
      " '_iteration_time': 11.571990966796875,\n",
      " '_labels_count': {'_all': 3769,\n",
      "                   'nam_liv_person': 2106,\n",
      "                   'nam_loc_gpe_city': 948,\n",
      "                   'nam_loc_gpe_country': 715},\n",
      " '_sc_loss': 81124.82250976562,\n",
      " '_spans_count': 3769,\n",
      " 'spans_sc_f': 0.001027749229188078,\n",
      " 'spans_sc_p': 0.0049261083743842365,\n",
      " 'spans_sc_per_type': {'nam_liv_person': {'f': 0.0, 'p': 0.0, 'r': 0.0},\n",
      "                       'nam_loc_gpe_city': {'f': 0.0, 'p': 0.0, 'r': 0.0},\n",
      "                       'nam_loc_gpe_country': {'f': 0.004576659038901602,\n",
      "                                               'p': 0.0125,\n",
      "                                               'r': 0.0028011204481792717}},\n",
      " 'spans_sc_r': 0.0005737234652897303,\n",
      " 'speed': 10728.932664579688,\n",
      " 'token_acc': 1.0,\n",
      " 'token_f': 1.0,\n",
      " 'token_p': 1.0,\n",
      " 'token_r': 1.0}\n"
     ]
    }
   ],
   "source": [
    "with jsonlines.open(RANDOM_QUERY_LOG) as reader_rand:\n",
    "    random_log_data = [j for j in reader_rand]\n",
    "rand_idx = randint(0, len(random_log_data) - 1)\n",
    "pprint(random_log_data[rand_idx])"
   ]
  },
  {
   "cell_type": "code",
   "execution_count": 4,
   "metadata": {},
   "outputs": [
    {
     "name": "stdout",
     "output_type": "stream",
     "text": [
      "{'_date': '19-11-2022 08:47:57',\n",
      " '_iteration': 39,\n",
      " '_iteration_time': 416.32866621017456,\n",
      " '_labels_count': {'_all': 3907,\n",
      "                   'nam_liv_person': 1914,\n",
      "                   'nam_loc_gpe_city': 608,\n",
      "                   'nam_loc_gpe_country': 1385},\n",
      " '_sc_loss': 81112.162109375,\n",
      " '_spans_count': 3907,\n",
      " 'spans_sc_f': 0.03076227097941642,\n",
      " 'spans_sc_p': 0.017708333333333333,\n",
      " 'spans_sc_per_type': {'nam_liv_person': {'f': 0.04174198849630238,\n",
      "                                          'p': 0.024727414330218068,\n",
      "                                          'r': 0.13382507903055849},\n",
      "                       'nam_loc_gpe_city': {'f': 0.029919447640966625,\n",
      "                                            'p': 0.017110891740704178,\n",
      "                                            'r': 0.11899313501144165},\n",
      "                       'nam_loc_gpe_country': {'f': 0.013506212857914639,\n",
      "                                               'p': 0.007473841554559043,\n",
      "                                               'r': 0.0700280112044818}},\n",
      " 'spans_sc_r': 0.11703958691910499,\n",
      " 'speed': 6594.339702617105,\n",
      " 'token_acc': 1.0,\n",
      " 'token_f': 1.0,\n",
      " 'token_p': 1.0,\n",
      " 'token_r': 1.0}\n"
     ]
    }
   ],
   "source": [
    "with jsonlines.open(LEAST_CONFIDENCE_LOG) as reader_lc:\n",
    "    least_confidence_log_data = [j for j in reader_lc]\n",
    "rand_idx = randint(0, len(least_confidence_log_data) - 1)\n",
    "pprint(least_confidence_log_data[rand_idx])"
   ]
  },
  {
   "cell_type": "code",
   "execution_count": 5,
   "metadata": {},
   "outputs": [],
   "source": [
    "random_iterations, random_entities_num, random_fscores, random_losses = [], [], [], []\n",
    "lc_iterations, lc_entities_num, lc_fscores, lc_losses = [], [], [], []\n",
    "assert len(random_log_data) == len(least_confidence_log_data)\n",
    "\n",
    "for rand_log_line, lc_log_line in zip(random_log_data, least_confidence_log_data):\n",
    "    random_iterations.append(rand_log_line[\"_iteration\"])\n",
    "    random_entities_num.append(rand_log_line[\"_spans_count\"])\n",
    "    random_fscores.append(rand_log_line[\"spans_sc_f\"])\n",
    "    random_losses.append(rand_log_line[\"_sc_loss\"])\n",
    "\n",
    "    lc_iterations.append(lc_log_line[\"_iteration\"])\n",
    "    lc_entities_num.append(lc_log_line[\"_spans_count\"])\n",
    "    lc_fscores.append(lc_log_line[\"spans_sc_f\"])\n",
    "    lc_losses.append(lc_log_line[\"_sc_loss\"])\n",
    "\n",
    "# # dummy data\n",
    "# from math import log\n",
    "# lc_iterations = random_iterations.copy()\n",
    "# lc_fscores = [log(it, 300)+0.01 for it in random_iterations]\n",
    "# lc_losses = [loss-300 for loss in random_losses]\n",
    "\n",
    "assert len(random_iterations) == len(lc_iterations)\n",
    "assert len(random_iterations) == len(random_fscores)\n",
    "assert len(lc_iterations) == len(lc_fscores)"
   ]
  },
  {
   "cell_type": "markdown",
   "metadata": {},
   "source": [
    "## SpanCategorizer F-score over iterations"
   ]
  },
  {
   "cell_type": "code",
   "execution_count": 6,
   "metadata": {},
   "outputs": [
    {
     "data": {
      "text/html": [
       "\n",
       "  <div id=\"b0ff2e26-a55a-4b1c-a26b-b614c7f7a448\" data-root-id=\"p1002\" style=\"display: contents;\"></div>\n"
      ]
     },
     "metadata": {},
     "output_type": "display_data"
    },
    {
     "data": {
      "application/javascript": "(function(root) {\n  function embed_document(root) {\n  const docs_json = {\"9f7f7e16-0e97-4849-a3c1-85f44abf1e84\":{\"version\":\"3.0.2\",\"title\":\"Bokeh Application\",\"defs\":[],\"roots\":[{\"type\":\"object\",\"name\":\"Figure\",\"id\":\"p1002\",\"attributes\":{\"width\":700,\"height\":400,\"x_range\":{\"type\":\"object\",\"name\":\"DataRange1d\",\"id\":\"p1003\"},\"y_range\":{\"type\":\"object\",\"name\":\"DataRange1d\",\"id\":\"p1004\"},\"x_scale\":{\"type\":\"object\",\"name\":\"LinearScale\",\"id\":\"p1016\"},\"y_scale\":{\"type\":\"object\",\"name\":\"LinearScale\",\"id\":\"p1018\"},\"title\":{\"type\":\"object\",\"name\":\"Title\",\"id\":\"p1005\",\"attributes\":{\"text\":\"SpanCategorizer performance over iterations\",\"align\":\"center\"}},\"renderers\":[{\"type\":\"object\",\"name\":\"GlyphRenderer\",\"id\":\"p1057\",\"attributes\":{\"data_source\":{\"type\":\"object\",\"name\":\"ColumnDataSource\",\"id\":\"p1051\",\"attributes\":{\"selected\":{\"type\":\"object\",\"name\":\"Selection\",\"id\":\"p1052\",\"attributes\":{\"indices\":[],\"line_indices\":[]}},\"selection_policy\":{\"type\":\"object\",\"name\":\"UnionRenderers\",\"id\":\"p1053\"},\"data\":{\"type\":\"map\",\"entries\":[[\"x\",[1,2,3,4,5,6,7,8,9,10,11,12,13,14,15,16,17,18,19,20,21,22,23,24,25,26,27,28,29,30,31,32,33,34,35,36,37,38,39,40,41,42,43,44,45,46,47,48,49,50]],[\"y\",[0.017342467444300437,0.03429084380610413,0.027169037549660387,0.02094279310724915,0.023444130938453423,0.02079014052061737,0.02452884894172224,0.020881545664926535,0.021449774968878677,0.032505060580279875,0.019461577857445057,0.03951715790506723,0.017482435322038678,0.02239055077673642,0.017879428469551487,0.02073416901338251,0.023922594407903088,0.018764250738234962,0.018659881255301103,0.015215504772924502,0.049899933288859236,0.02410861565791143,0.03310065300607971,0.04310818231740802,0.03933606184629377,0.03379748546708125,0.04065040650406503,0.03197631384159882,0.03408695652173913,0.024032825322391555,0.03708325904795864,0.03603867565191913,0.04305723672834169,0.039482117677220874,0.04312301407172038,0.021720393035683502,0.043603645172453576,0.032715376226826604,0.03135585018871576,0.02977187781930661,0.011915673693858845,0.028609986504723347,0.009025270758122745,0.03220125786163522,0.015462184873949581,0.012136974425661032,0.008946322067594435,0.006913580246913579,0.001027749229188078,0.008547008547008548]]]}}},\"view\":{\"type\":\"object\",\"name\":\"CDSView\",\"id\":\"p1058\",\"attributes\":{\"filter\":{\"type\":\"object\",\"name\":\"AllIndices\",\"id\":\"p1059\"}}},\"glyph\":{\"type\":\"object\",\"name\":\"Line\",\"id\":\"p1054\",\"attributes\":{\"x\":{\"type\":\"field\",\"field\":\"x\"},\"y\":{\"type\":\"field\",\"field\":\"y\"},\"line_color\":\"#F6C85F\",\"line_width\":2}},\"nonselection_glyph\":{\"type\":\"object\",\"name\":\"Line\",\"id\":\"p1055\",\"attributes\":{\"x\":{\"type\":\"field\",\"field\":\"x\"},\"y\":{\"type\":\"field\",\"field\":\"y\"},\"line_color\":\"#F6C85F\",\"line_alpha\":0.1,\"line_width\":2}},\"muted_glyph\":{\"type\":\"object\",\"name\":\"Line\",\"id\":\"p1056\",\"attributes\":{\"x\":{\"type\":\"field\",\"field\":\"x\"},\"y\":{\"type\":\"field\",\"field\":\"y\"},\"line_color\":\"#F6C85F\",\"line_alpha\":0.2,\"line_width\":2}}}},{\"type\":\"object\",\"name\":\"GlyphRenderer\",\"id\":\"p1080\",\"attributes\":{\"data_source\":{\"type\":\"object\",\"name\":\"ColumnDataSource\",\"id\":\"p1074\",\"attributes\":{\"selected\":{\"type\":\"object\",\"name\":\"Selection\",\"id\":\"p1075\",\"attributes\":{\"indices\":[],\"line_indices\":[]}},\"selection_policy\":{\"type\":\"object\",\"name\":\"UnionRenderers\",\"id\":\"p1076\"},\"data\":{\"type\":\"map\",\"entries\":[[\"x\",[1,2,3,4,5,6,7,8,9,10,11,12,13,14,15,16,17,18,19,20,21,22,23,24,25,26,27,28,29,30,31,32,33,34,35,36,37,38,39,40,41,42,43,44,45,46,47,48,49,50]],[\"y\",[0.017342467444300437,0.03601515489190996,0.027696359542925108,0.021513915460419447,0.022408191395096977,0.021843215404125364,0.025034990889164707,0.020519212790948534,0.02075221238938053,0.031111821426668795,0.018932527693856997,0.03770346256288842,0.016220148934349057,0.022534695186186046,0.017932440572726006,0.019751313013421916,0.02350555376319307,0.01854331925414649,0.01767665322032362,0.01456259821896281,0.048900327562002806,0.027383015597920276,0.028482217652882495,0.04083579811086728,0.03687159912287826,0.03369890329012961,0.03605677023398543,0.0315031503150315,0.03388933015620863,0.023630742049469966,0.033838060709461854,0.036202995366878564,0.040827077571447386,0.03649780614280016,0.041362942871673164,0.020925182601829306,0.04388770433546553,0.03216278306531013,0.03076227097941642,0.02608784265769897,0.018733850129198967,0.03643461288223813,0.022937241159604972,0.03400405552955857,0.020271727409963337,0.028967254408060455,0.018444266238973536,0.01423487544483986,0.004163197335553706,0.01676337846550613]]]}}},\"view\":{\"type\":\"object\",\"name\":\"CDSView\",\"id\":\"p1081\",\"attributes\":{\"filter\":{\"type\":\"object\",\"name\":\"AllIndices\",\"id\":\"p1082\"}}},\"glyph\":{\"type\":\"object\",\"name\":\"Line\",\"id\":\"p1077\",\"attributes\":{\"x\":{\"type\":\"field\",\"field\":\"x\"},\"y\":{\"type\":\"field\",\"field\":\"y\"},\"line_color\":\"#0B84A5\",\"line_width\":2}},\"nonselection_glyph\":{\"type\":\"object\",\"name\":\"Line\",\"id\":\"p1078\",\"attributes\":{\"x\":{\"type\":\"field\",\"field\":\"x\"},\"y\":{\"type\":\"field\",\"field\":\"y\"},\"line_color\":\"#0B84A5\",\"line_alpha\":0.1,\"line_width\":2}},\"muted_glyph\":{\"type\":\"object\",\"name\":\"Line\",\"id\":\"p1079\",\"attributes\":{\"x\":{\"type\":\"field\",\"field\":\"x\"},\"y\":{\"type\":\"field\",\"field\":\"y\"},\"line_color\":\"#0B84A5\",\"line_alpha\":0.2,\"line_width\":2}}}},{\"type\":\"object\",\"name\":\"GlyphRenderer\",\"id\":\"p1107\",\"attributes\":{\"data_source\":{\"type\":\"object\",\"name\":\"ColumnDataSource\",\"id\":\"p1101\",\"attributes\":{\"selected\":{\"type\":\"object\",\"name\":\"Selection\",\"id\":\"p1102\",\"attributes\":{\"indices\":[],\"line_indices\":[]}},\"selection_policy\":{\"type\":\"object\",\"name\":\"UnionRenderers\",\"id\":\"p1103\"},\"data\":{\"type\":\"map\",\"entries\":[[\"x\",[1,2,3,4,5,6,7,8,9,10,11,12,13,14,15,16,17,18,19,20,21,22,23,24,25,26,27,28,29,30,31,32,33,34,35,36,37,38,39,40,41,42,43,44,45,46,47,48,49,50]],[\"y\",[0.049899933288859236,0.049899933288859236,0.049899933288859236,0.049899933288859236,0.049899933288859236,0.049899933288859236,0.049899933288859236,0.049899933288859236,0.049899933288859236,0.049899933288859236,0.049899933288859236,0.049899933288859236,0.049899933288859236,0.049899933288859236,0.049899933288859236,0.049899933288859236,0.049899933288859236,0.049899933288859236,0.049899933288859236,0.049899933288859236,0.049899933288859236,0.049899933288859236,0.049899933288859236,0.049899933288859236,0.049899933288859236,0.049899933288859236,0.049899933288859236,0.049899933288859236,0.049899933288859236,0.049899933288859236,0.049899933288859236,0.049899933288859236,0.049899933288859236,0.049899933288859236,0.049899933288859236,0.049899933288859236,0.049899933288859236,0.049899933288859236,0.049899933288859236,0.049899933288859236,0.049899933288859236,0.049899933288859236,0.049899933288859236,0.049899933288859236,0.049899933288859236,0.049899933288859236,0.049899933288859236,0.049899933288859236,0.049899933288859236,0.049899933288859236]]]}}},\"view\":{\"type\":\"object\",\"name\":\"CDSView\",\"id\":\"p1108\",\"attributes\":{\"filter\":{\"type\":\"object\",\"name\":\"AllIndices\",\"id\":\"p1109\"}}},\"glyph\":{\"type\":\"object\",\"name\":\"Line\",\"id\":\"p1104\",\"attributes\":{\"x\":{\"type\":\"field\",\"field\":\"x\"},\"y\":{\"type\":\"field\",\"field\":\"y\"},\"line_alpha\":0.5,\"line_dash\":[6]}},\"nonselection_glyph\":{\"type\":\"object\",\"name\":\"Line\",\"id\":\"p1105\",\"attributes\":{\"x\":{\"type\":\"field\",\"field\":\"x\"},\"y\":{\"type\":\"field\",\"field\":\"y\"},\"line_alpha\":0.1,\"line_dash\":[6]}},\"muted_glyph\":{\"type\":\"object\",\"name\":\"Line\",\"id\":\"p1106\",\"attributes\":{\"x\":{\"type\":\"field\",\"field\":\"x\"},\"y\":{\"type\":\"field\",\"field\":\"y\"},\"line_alpha\":0.2,\"line_dash\":[6]}}}}],\"toolbar\":{\"type\":\"object\",\"name\":\"Toolbar\",\"id\":\"p1009\",\"attributes\":{\"tools\":[{\"type\":\"object\",\"name\":\"PanTool\",\"id\":\"p1034\"},{\"type\":\"object\",\"name\":\"WheelZoomTool\",\"id\":\"p1035\"},{\"type\":\"object\",\"name\":\"BoxZoomTool\",\"id\":\"p1036\",\"attributes\":{\"overlay\":{\"type\":\"object\",\"name\":\"BoxAnnotation\",\"id\":\"p1037\",\"attributes\":{\"syncable\":false,\"level\":\"overlay\",\"visible\":false,\"left_units\":\"canvas\",\"right_units\":\"canvas\",\"bottom_units\":\"canvas\",\"top_units\":\"canvas\",\"line_color\":\"black\",\"line_alpha\":1.0,\"line_width\":2,\"line_dash\":[4,4],\"fill_color\":\"lightgrey\",\"fill_alpha\":0.5}}}},{\"type\":\"object\",\"name\":\"SaveTool\",\"id\":\"p1038\"},{\"type\":\"object\",\"name\":\"ResetTool\",\"id\":\"p1039\"},{\"type\":\"object\",\"name\":\"HelpTool\",\"id\":\"p1040\"}]}},\"left\":[{\"type\":\"object\",\"name\":\"LinearAxis\",\"id\":\"p1027\",\"attributes\":{\"ticker\":{\"type\":\"object\",\"name\":\"BasicTicker\",\"id\":\"p1028\",\"attributes\":{\"mantissas\":[1,2,5]}},\"formatter\":{\"type\":\"object\",\"name\":\"NumeralTickFormatter\",\"id\":\"p1049\",\"attributes\":{\"format\":\"0.000\"}},\"axis_label\":\"F-score\",\"major_label_policy\":{\"type\":\"object\",\"name\":\"AllLabels\",\"id\":\"p1029\"}}}],\"right\":[{\"type\":\"object\",\"name\":\"Legend\",\"id\":\"p1072\",\"attributes\":{\"items\":[{\"type\":\"object\",\"name\":\"LegendItem\",\"id\":\"p1073\",\"attributes\":{\"label\":{\"type\":\"value\",\"value\":\"random\"},\"renderers\":[{\"id\":\"p1057\"}]}},{\"type\":\"object\",\"name\":\"LegendItem\",\"id\":\"p1100\",\"attributes\":{\"label\":{\"type\":\"value\",\"value\":\"least-confidence\"},\"renderers\":[{\"id\":\"p1080\"}]}}]}}],\"below\":[{\"type\":\"object\",\"name\":\"LinearAxis\",\"id\":\"p1020\",\"attributes\":{\"ticker\":{\"type\":\"object\",\"name\":\"BasicTicker\",\"id\":\"p1021\",\"attributes\":{\"mantissas\":[1,2,5]}},\"formatter\":{\"type\":\"object\",\"name\":\"BasicTickFormatter\",\"id\":\"p1023\"},\"axis_label\":\"Iteration\",\"major_label_policy\":{\"type\":\"object\",\"name\":\"AllLabels\",\"id\":\"p1022\"}}}],\"center\":[{\"type\":\"object\",\"name\":\"Grid\",\"id\":\"p1026\",\"attributes\":{\"axis\":{\"id\":\"p1020\"}}},{\"type\":\"object\",\"name\":\"Grid\",\"id\":\"p1033\",\"attributes\":{\"dimension\":1,\"axis\":{\"id\":\"p1027\"}}},{\"id\":\"p1072\"}]}}]}};\n  const render_items = [{\"docid\":\"9f7f7e16-0e97-4849-a3c1-85f44abf1e84\",\"roots\":{\"p1002\":\"b0ff2e26-a55a-4b1c-a26b-b614c7f7a448\"},\"root_ids\":[\"p1002\"]}];\n  root.Bokeh.embed.embed_items_notebook(docs_json, render_items);\n  }\n  if (root.Bokeh !== undefined) {\n    embed_document(root);\n  } else {\n    let attempts = 0;\n    const timer = setInterval(function(root) {\n      if (root.Bokeh !== undefined) {\n        clearInterval(timer);\n        embed_document(root);\n      } else {\n        attempts++;\n        if (attempts > 100) {\n          clearInterval(timer);\n          console.log(\"Bokeh: ERROR: Unable to run BokehJS code because BokehJS library is missing\");\n        }\n      }\n    }, 10, root)\n  }\n})(window);",
      "application/vnd.bokehjs_exec.v0+json": ""
     },
     "metadata": {
      "application/vnd.bokehjs_exec.v0+json": {
       "id": "p1002"
      }
     },
     "output_type": "display_data"
    },
    {
     "data": {
      "text/plain": [
       "'/home/jjamnicki/Documents/INZYNIERKA/figures/fscore_on_iters_rand_vs_lc_50it_50n.png'"
      ]
     },
     "execution_count": 6,
     "metadata": {},
     "output_type": "execute_result"
    }
   ],
   "source": [
    "p = figure(title=\"SpanCategorizer performance over iterations\",\n",
    "           x_axis_label=\"Iteration\",\n",
    "           y_axis_label=\"F-score\",\n",
    "           width=700,\n",
    "           height=400)\n",
    "p.title.align = \"center\"\n",
    "p.yaxis[0].formatter = NumeralTickFormatter(format=\"0.000\")\n",
    "\n",
    "p.line(random_iterations, random_fscores, legend_label=\"random\", color=\"#F6C85F\", line_width=2)\n",
    "p.line(lc_iterations, lc_fscores, legend_label=\"least-confidence\", color=\"#0B84A5\", line_width=2)\n",
    "\n",
    "max_rand_fscore = max(random_fscores)\n",
    "p.line(random_iterations, [max_rand_fscore]*len(random_iterations), color=\"black\", line_dash=\"dashed\", line_alpha=0.5)\n",
    "\n",
    "p.add_layout(p.legend[0], \"right\")\n",
    "\n",
    "show(p)\n",
    "\n",
    "out_path = FIGURES_DIR / f\"fscore_on_iters_rand_vs_lc_{ITERATIONS}it_{N_INSTANCES}n.png\"\n",
    "p.toolbar_location = None\n",
    "export_png(p, filename=out_path)"
   ]
  },
  {
   "cell_type": "markdown",
   "metadata": {},
   "source": [
    "## SpanCategorizer training loss over iterations"
   ]
  },
  {
   "cell_type": "code",
   "execution_count": 10,
   "metadata": {},
   "outputs": [
    {
     "data": {
      "text/html": [
       "\n",
       "  <div id=\"3e98ba80-ea60-4402-b91f-cd487d3818ca\" data-root-id=\"p3402\" style=\"display: contents;\"></div>\n"
      ]
     },
     "metadata": {},
     "output_type": "display_data"
    },
    {
     "data": {
      "application/javascript": "(function(root) {\n  function embed_document(root) {\n  const docs_json = {\"107c3677-67ca-445b-888e-e9223263aa70\":{\"version\":\"3.0.2\",\"title\":\"Bokeh Application\",\"defs\":[],\"roots\":[{\"type\":\"object\",\"name\":\"Figure\",\"id\":\"p3402\",\"attributes\":{\"width\":700,\"height\":400,\"x_range\":{\"type\":\"object\",\"name\":\"DataRange1d\",\"id\":\"p3403\"},\"y_range\":{\"type\":\"object\",\"name\":\"DataRange1d\",\"id\":\"p3404\"},\"x_scale\":{\"type\":\"object\",\"name\":\"LinearScale\",\"id\":\"p3416\"},\"y_scale\":{\"type\":\"object\",\"name\":\"LinearScale\",\"id\":\"p3418\"},\"title\":{\"type\":\"object\",\"name\":\"Title\",\"id\":\"p3405\",\"attributes\":{\"text\":\"SpanCategorizer training loss over number of iterations\",\"align\":\"center\"}},\"renderers\":[{\"type\":\"object\",\"name\":\"GlyphRenderer\",\"id\":\"p3457\",\"attributes\":{\"data_source\":{\"type\":\"object\",\"name\":\"ColumnDataSource\",\"id\":\"p3451\",\"attributes\":{\"selected\":{\"type\":\"object\",\"name\":\"Selection\",\"id\":\"p3452\",\"attributes\":{\"indices\":[],\"line_indices\":[]}},\"selection_policy\":{\"type\":\"object\",\"name\":\"UnionRenderers\",\"id\":\"p3453\"},\"data\":{\"type\":\"map\",\"entries\":[[\"x\",[1,2,3,4,5,6,7,8,9,10,11,12,13,14,15,16,17,18,19,20,21,22,23,24,25,26,27,28,29,30,31,32,33,34,35,36,37,38,39,40,41,42,43,44,45,46,47,48,49,50]],[\"y\",[3358.302978515625,3949.673828125,6484.0380859375,9726.6708984375,14651.44140625,14161.314453125,19466.1171875,23100.71875,24788.94921875,27648.8984375,34378.4921875,29321.09375,38879.59375,38004.734375,45009.140625,43909.25,42385.76171875,42965.765625,41106.13671875,55820.99609375,46829.37219238281,47699.732421875,60908.93505859375,54484.88916015625,58530.181640625,59337.5791015625,64122.3720703125,54849.0390625,66381.7568359375,66157.13671875,74117.09375,61407.3994140625,71442.1328125,70067.216796875,54016.9423828125,76210.69140625,76195.10546875,66889.130859375,78927.87109375,83866.794921875,71878.48071289062,79729.86608886719,83046.17138671875,95497.38073730469,84677.61108398438,76502.94799804688,75493.00402832031,79740.82788085938,81124.82250976562,74809.22827148438]]]}}},\"view\":{\"type\":\"object\",\"name\":\"CDSView\",\"id\":\"p3458\",\"attributes\":{\"filter\":{\"type\":\"object\",\"name\":\"AllIndices\",\"id\":\"p3459\"}}},\"glyph\":{\"type\":\"object\",\"name\":\"Line\",\"id\":\"p3454\",\"attributes\":{\"x\":{\"type\":\"field\",\"field\":\"x\"},\"y\":{\"type\":\"field\",\"field\":\"y\"},\"line_color\":\"#F6C85F\",\"line_width\":2}},\"nonselection_glyph\":{\"type\":\"object\",\"name\":\"Line\",\"id\":\"p3455\",\"attributes\":{\"x\":{\"type\":\"field\",\"field\":\"x\"},\"y\":{\"type\":\"field\",\"field\":\"y\"},\"line_color\":\"#F6C85F\",\"line_alpha\":0.1,\"line_width\":2}},\"muted_glyph\":{\"type\":\"object\",\"name\":\"Line\",\"id\":\"p3456\",\"attributes\":{\"x\":{\"type\":\"field\",\"field\":\"x\"},\"y\":{\"type\":\"field\",\"field\":\"y\"},\"line_color\":\"#F6C85F\",\"line_alpha\":0.2,\"line_width\":2}}}},{\"type\":\"object\",\"name\":\"GlyphRenderer\",\"id\":\"p3480\",\"attributes\":{\"data_source\":{\"type\":\"object\",\"name\":\"ColumnDataSource\",\"id\":\"p3474\",\"attributes\":{\"selected\":{\"type\":\"object\",\"name\":\"Selection\",\"id\":\"p3475\",\"attributes\":{\"indices\":[],\"line_indices\":[]}},\"selection_policy\":{\"type\":\"object\",\"name\":\"UnionRenderers\",\"id\":\"p3476\"},\"data\":{\"type\":\"map\",\"entries\":[[\"x\",[1,2,3,4,5,6,7,8,9,10,11,12,13,14,15,16,17,18,19,20,21,22,23,24,25,26,27,28,29,30,31,32,33,34,35,36,37,38,39,40,41,42,43,44,45,46,47,48,49,50]],[\"y\",[3358.302490234375,3901.61328125,6578.68212890625,9348.4140625,15973.46875,15336.134765625,19855.92578125,22023.984375,23876.40234375,26692.76171875,31176.884765625,26806.9453125,36303.421875,35753.53125,42789.9609375,42945.265625,41840.04296875,42154.11328125,41318.42578125,59855.0390625,50489.91589355469,48931.28234863281,62777.75244140625,56742.6201171875,59317.85791015625,61119.39111328125,64742.51953125,55668.5859375,68465.2490234375,67689.416015625,77402.0234375,63993.931640625,74622.0390625,74030.69140625,57027.30859375,78532.869140625,81705.939453125,72942.71484375,81112.162109375,83974.24609375,74065.45778083801,81455.01953125,87718.26745605469,97536.6064453125,87344.87060546875,79017.54345703125,79595.63269042969,84011.87060546875,84191.9873046875,78962.3017578125]]]}}},\"view\":{\"type\":\"object\",\"name\":\"CDSView\",\"id\":\"p3481\",\"attributes\":{\"filter\":{\"type\":\"object\",\"name\":\"AllIndices\",\"id\":\"p3482\"}}},\"glyph\":{\"type\":\"object\",\"name\":\"Line\",\"id\":\"p3477\",\"attributes\":{\"x\":{\"type\":\"field\",\"field\":\"x\"},\"y\":{\"type\":\"field\",\"field\":\"y\"},\"line_color\":\"#0B84A5\",\"line_width\":2}},\"nonselection_glyph\":{\"type\":\"object\",\"name\":\"Line\",\"id\":\"p3478\",\"attributes\":{\"x\":{\"type\":\"field\",\"field\":\"x\"},\"y\":{\"type\":\"field\",\"field\":\"y\"},\"line_color\":\"#0B84A5\",\"line_alpha\":0.1,\"line_width\":2}},\"muted_glyph\":{\"type\":\"object\",\"name\":\"Line\",\"id\":\"p3479\",\"attributes\":{\"x\":{\"type\":\"field\",\"field\":\"x\"},\"y\":{\"type\":\"field\",\"field\":\"y\"},\"line_color\":\"#0B84A5\",\"line_alpha\":0.2,\"line_width\":2}}}},{\"type\":\"object\",\"name\":\"GlyphRenderer\",\"id\":\"p3507\",\"attributes\":{\"data_source\":{\"type\":\"object\",\"name\":\"ColumnDataSource\",\"id\":\"p3501\",\"attributes\":{\"selected\":{\"type\":\"object\",\"name\":\"Selection\",\"id\":\"p3502\",\"attributes\":{\"indices\":[],\"line_indices\":[]}},\"selection_policy\":{\"type\":\"object\",\"name\":\"UnionRenderers\",\"id\":\"p3503\"},\"data\":{\"type\":\"map\",\"entries\":[[\"x\",[1,2,3,4,5,6,7,8,9,10,11,12,13,14,15,16,17,18,19,20,21,22,23,24,25,26,27,28,29,30,31,32,33,34,35,36,37,38,39,40,41,42,43,44,45,46,47,48,49,50]],[\"y\",[3358.302978515625,3358.302978515625,3358.302978515625,3358.302978515625,3358.302978515625,3358.302978515625,3358.302978515625,3358.302978515625,3358.302978515625,3358.302978515625,3358.302978515625,3358.302978515625,3358.302978515625,3358.302978515625,3358.302978515625,3358.302978515625,3358.302978515625,3358.302978515625,3358.302978515625,3358.302978515625,3358.302978515625,3358.302978515625,3358.302978515625,3358.302978515625,3358.302978515625,3358.302978515625,3358.302978515625,3358.302978515625,3358.302978515625,3358.302978515625,3358.302978515625,3358.302978515625,3358.302978515625,3358.302978515625,3358.302978515625,3358.302978515625,3358.302978515625,3358.302978515625,3358.302978515625,3358.302978515625,3358.302978515625,3358.302978515625,3358.302978515625,3358.302978515625,3358.302978515625,3358.302978515625,3358.302978515625,3358.302978515625,3358.302978515625,3358.302978515625]]]}}},\"view\":{\"type\":\"object\",\"name\":\"CDSView\",\"id\":\"p3508\",\"attributes\":{\"filter\":{\"type\":\"object\",\"name\":\"AllIndices\",\"id\":\"p3509\"}}},\"glyph\":{\"type\":\"object\",\"name\":\"Line\",\"id\":\"p3504\",\"attributes\":{\"x\":{\"type\":\"field\",\"field\":\"x\"},\"y\":{\"type\":\"field\",\"field\":\"y\"},\"line_alpha\":0.5,\"line_dash\":[6]}},\"nonselection_glyph\":{\"type\":\"object\",\"name\":\"Line\",\"id\":\"p3505\",\"attributes\":{\"x\":{\"type\":\"field\",\"field\":\"x\"},\"y\":{\"type\":\"field\",\"field\":\"y\"},\"line_alpha\":0.1,\"line_dash\":[6]}},\"muted_glyph\":{\"type\":\"object\",\"name\":\"Line\",\"id\":\"p3506\",\"attributes\":{\"x\":{\"type\":\"field\",\"field\":\"x\"},\"y\":{\"type\":\"field\",\"field\":\"y\"},\"line_alpha\":0.2,\"line_dash\":[6]}}}}],\"toolbar\":{\"type\":\"object\",\"name\":\"Toolbar\",\"id\":\"p3409\",\"attributes\":{\"tools\":[{\"type\":\"object\",\"name\":\"PanTool\",\"id\":\"p3434\"},{\"type\":\"object\",\"name\":\"WheelZoomTool\",\"id\":\"p3435\"},{\"type\":\"object\",\"name\":\"BoxZoomTool\",\"id\":\"p3436\",\"attributes\":{\"overlay\":{\"type\":\"object\",\"name\":\"BoxAnnotation\",\"id\":\"p3437\",\"attributes\":{\"syncable\":false,\"level\":\"overlay\",\"visible\":false,\"left_units\":\"canvas\",\"right_units\":\"canvas\",\"bottom_units\":\"canvas\",\"top_units\":\"canvas\",\"line_color\":\"black\",\"line_alpha\":1.0,\"line_width\":2,\"line_dash\":[4,4],\"fill_color\":\"lightgrey\",\"fill_alpha\":0.5}}}},{\"type\":\"object\",\"name\":\"SaveTool\",\"id\":\"p3438\"},{\"type\":\"object\",\"name\":\"ResetTool\",\"id\":\"p3439\"},{\"type\":\"object\",\"name\":\"HelpTool\",\"id\":\"p3440\"}]}},\"left\":[{\"type\":\"object\",\"name\":\"LinearAxis\",\"id\":\"p3427\",\"attributes\":{\"ticker\":{\"type\":\"object\",\"name\":\"BasicTicker\",\"id\":\"p3428\",\"attributes\":{\"mantissas\":[1,2,5]}},\"formatter\":{\"type\":\"object\",\"name\":\"NumeralTickFormatter\",\"id\":\"p3449\",\"attributes\":{\"format\":\"0\"}},\"axis_label\":\"Loss\",\"major_label_policy\":{\"type\":\"object\",\"name\":\"AllLabels\",\"id\":\"p3429\"}}}],\"right\":[{\"type\":\"object\",\"name\":\"Legend\",\"id\":\"p3472\",\"attributes\":{\"items\":[{\"type\":\"object\",\"name\":\"LegendItem\",\"id\":\"p3473\",\"attributes\":{\"label\":{\"type\":\"value\",\"value\":\"random\"},\"renderers\":[{\"id\":\"p3457\"}]}},{\"type\":\"object\",\"name\":\"LegendItem\",\"id\":\"p3500\",\"attributes\":{\"label\":{\"type\":\"value\",\"value\":\"least-confidence\"},\"renderers\":[{\"id\":\"p3480\"}]}}]}}],\"below\":[{\"type\":\"object\",\"name\":\"LinearAxis\",\"id\":\"p3420\",\"attributes\":{\"ticker\":{\"type\":\"object\",\"name\":\"BasicTicker\",\"id\":\"p3421\",\"attributes\":{\"mantissas\":[1,2,5]}},\"formatter\":{\"type\":\"object\",\"name\":\"BasicTickFormatter\",\"id\":\"p3423\"},\"axis_label\":\"Iteration\",\"major_label_policy\":{\"type\":\"object\",\"name\":\"AllLabels\",\"id\":\"p3422\"}}}],\"center\":[{\"type\":\"object\",\"name\":\"Grid\",\"id\":\"p3426\",\"attributes\":{\"axis\":{\"id\":\"p3420\"}}},{\"type\":\"object\",\"name\":\"Grid\",\"id\":\"p3433\",\"attributes\":{\"dimension\":1,\"axis\":{\"id\":\"p3427\"}}},{\"id\":\"p3472\"}]}}]}};\n  const render_items = [{\"docid\":\"107c3677-67ca-445b-888e-e9223263aa70\",\"roots\":{\"p3402\":\"3e98ba80-ea60-4402-b91f-cd487d3818ca\"},\"root_ids\":[\"p3402\"]}];\n  root.Bokeh.embed.embed_items_notebook(docs_json, render_items);\n  }\n  if (root.Bokeh !== undefined) {\n    embed_document(root);\n  } else {\n    let attempts = 0;\n    const timer = setInterval(function(root) {\n      if (root.Bokeh !== undefined) {\n        clearInterval(timer);\n        embed_document(root);\n      } else {\n        attempts++;\n        if (attempts > 100) {\n          clearInterval(timer);\n          console.log(\"Bokeh: ERROR: Unable to run BokehJS code because BokehJS library is missing\");\n        }\n      }\n    }, 10, root)\n  }\n})(window);",
      "application/vnd.bokehjs_exec.v0+json": ""
     },
     "metadata": {
      "application/vnd.bokehjs_exec.v0+json": {
       "id": "p3402"
      }
     },
     "output_type": "display_data"
    },
    {
     "data": {
      "text/plain": [
       "'/home/jjamnicki/Documents/INZYNIERKA/figures/loss_on_iters_rand_vs_lc_50it_50n.png'"
      ]
     },
     "execution_count": 10,
     "metadata": {},
     "output_type": "execute_result"
    }
   ],
   "source": [
    "p = figure(title=\"SpanCategorizer training loss over number of iterations\",\n",
    "           x_axis_label=\"Iteration\",\n",
    "           y_axis_label=\"Loss\",\n",
    "           width=700,\n",
    "           height=400)\n",
    "p.title.align = \"center\"\n",
    "p.yaxis[0].formatter = NumeralTickFormatter(format=\"0\")\n",
    "\n",
    "p.line(random_iterations, random_losses, legend_label=\"random\", color=\"#F6C85F\", line_width=2)\n",
    "p.line(lc_iterations, lc_losses, legend_label=\"least-confidence\", color=\"#0B84A5\", line_width=2)\n",
    "\n",
    "min_rand_loss = min(random_losses)\n",
    "p.line(random_iterations, [min_rand_loss]*len(random_iterations), color=\"black\", line_dash=\"dashed\", line_alpha=0.5)\n",
    "\n",
    "p.add_layout(p.legend[0], \"right\")\n",
    "\n",
    "show(p)\n",
    "\n",
    "out_path = FIGURES_DIR / f\"loss_on_iters_rand_vs_lc_{ITERATIONS}it_{N_INSTANCES}n.png\"\n",
    "p.toolbar_location = None\n",
    "export_png(p, filename=out_path)"
   ]
  },
  {
   "cell_type": "markdown",
   "metadata": {},
   "source": [
    "## SpanCategorizer F-score over number of entities"
   ]
  },
  {
   "cell_type": "code",
   "execution_count": 8,
   "metadata": {},
   "outputs": [
    {
     "data": {
      "text/html": [
       "\n",
       "  <div id=\"2c350dad-8e1c-416c-bb67-e3e783baa9b1\" data-root-id=\"p2158\" style=\"display: contents;\"></div>\n"
      ]
     },
     "metadata": {},
     "output_type": "display_data"
    },
    {
     "data": {
      "application/javascript": "(function(root) {\n  function embed_document(root) {\n  const docs_json = {\"668e22cd-d5e5-4137-ad76-a60248176e2b\":{\"version\":\"3.0.2\",\"title\":\"Bokeh Application\",\"defs\":[],\"roots\":[{\"type\":\"object\",\"name\":\"Figure\",\"id\":\"p2158\",\"attributes\":{\"width\":700,\"height\":400,\"x_range\":{\"type\":\"object\",\"name\":\"DataRange1d\",\"id\":\"p2159\"},\"y_range\":{\"type\":\"object\",\"name\":\"DataRange1d\",\"id\":\"p2160\"},\"x_scale\":{\"type\":\"object\",\"name\":\"LinearScale\",\"id\":\"p2172\"},\"y_scale\":{\"type\":\"object\",\"name\":\"LinearScale\",\"id\":\"p2174\"},\"title\":{\"type\":\"object\",\"name\":\"Title\",\"id\":\"p2161\",\"attributes\":{\"text\":\"SpanCategorizer performance over number of entities\",\"align\":\"center\"}},\"renderers\":[{\"type\":\"object\",\"name\":\"GlyphRenderer\",\"id\":\"p2213\",\"attributes\":{\"data_source\":{\"type\":\"object\",\"name\":\"ColumnDataSource\",\"id\":\"p2207\",\"attributes\":{\"selected\":{\"type\":\"object\",\"name\":\"Selection\",\"id\":\"p2208\",\"attributes\":{\"indices\":[],\"line_indices\":[]}},\"selection_policy\":{\"type\":\"object\",\"name\":\"UnionRenderers\",\"id\":\"p2209\"},\"data\":{\"type\":\"map\",\"entries\":[[\"x\",[97,186,257,331,427,499,565,634,718,795,867,947,1023,1107,1198,1272,1341,1419,1484,1550,1635,1706,1778,1854,1933,2007,2098,2168,2244,2336,2405,2475,2542,2637,2724,2795,2864,2938,3005,3088,3164,3233,3316,3410,3482,3553,3621,3694,3769,3844]],[\"y\",[0.017342467444300437,0.03429084380610413,0.027169037549660387,0.02094279310724915,0.023444130938453423,0.02079014052061737,0.02452884894172224,0.020881545664926535,0.021449774968878677,0.032505060580279875,0.019461577857445057,0.03951715790506723,0.017482435322038678,0.02239055077673642,0.017879428469551487,0.02073416901338251,0.023922594407903088,0.018764250738234962,0.018659881255301103,0.015215504772924502,0.049899933288859236,0.02410861565791143,0.03310065300607971,0.04310818231740802,0.03933606184629377,0.03379748546708125,0.04065040650406503,0.03197631384159882,0.03408695652173913,0.024032825322391555,0.03708325904795864,0.03603867565191913,0.04305723672834169,0.039482117677220874,0.04312301407172038,0.021720393035683502,0.043603645172453576,0.032715376226826604,0.03135585018871576,0.02977187781930661,0.011915673693858845,0.028609986504723347,0.009025270758122745,0.03220125786163522,0.015462184873949581,0.012136974425661032,0.008946322067594435,0.006913580246913579,0.001027749229188078,0.008547008547008548]]]}}},\"view\":{\"type\":\"object\",\"name\":\"CDSView\",\"id\":\"p2214\",\"attributes\":{\"filter\":{\"type\":\"object\",\"name\":\"AllIndices\",\"id\":\"p2215\"}}},\"glyph\":{\"type\":\"object\",\"name\":\"Line\",\"id\":\"p2210\",\"attributes\":{\"x\":{\"type\":\"field\",\"field\":\"x\"},\"y\":{\"type\":\"field\",\"field\":\"y\"},\"line_color\":\"#F6C85F\",\"line_width\":2}},\"nonselection_glyph\":{\"type\":\"object\",\"name\":\"Line\",\"id\":\"p2211\",\"attributes\":{\"x\":{\"type\":\"field\",\"field\":\"x\"},\"y\":{\"type\":\"field\",\"field\":\"y\"},\"line_color\":\"#F6C85F\",\"line_alpha\":0.1,\"line_width\":2}},\"muted_glyph\":{\"type\":\"object\",\"name\":\"Line\",\"id\":\"p2212\",\"attributes\":{\"x\":{\"type\":\"field\",\"field\":\"x\"},\"y\":{\"type\":\"field\",\"field\":\"y\"},\"line_color\":\"#F6C85F\",\"line_alpha\":0.2,\"line_width\":2}}}},{\"type\":\"object\",\"name\":\"GlyphRenderer\",\"id\":\"p2236\",\"attributes\":{\"data_source\":{\"type\":\"object\",\"name\":\"ColumnDataSource\",\"id\":\"p2230\",\"attributes\":{\"selected\":{\"type\":\"object\",\"name\":\"Selection\",\"id\":\"p2231\",\"attributes\":{\"indices\":[],\"line_indices\":[]}},\"selection_policy\":{\"type\":\"object\",\"name\":\"UnionRenderers\",\"id\":\"p2232\"},\"data\":{\"type\":\"map\",\"entries\":[[\"x\",[97,162,237,298,398,466,559,609,691,745,796,872,922,981,1068,1182,1276,1344,1421,1775,1839,1889,2015,2090,2190,2268,2373,2466,2527,2580,2767,2848,2905,2963,3036,3736,3787,3857,3907,3968,4018,4089,4139,4195,4245,4295,4349,4437,4487,4537]],[\"y\",[0.017342467444300437,0.03601515489190996,0.027696359542925108,0.021513915460419447,0.022408191395096977,0.021843215404125364,0.025034990889164707,0.020519212790948534,0.02075221238938053,0.031111821426668795,0.018932527693856997,0.03770346256288842,0.016220148934349057,0.022534695186186046,0.017932440572726006,0.019751313013421916,0.02350555376319307,0.01854331925414649,0.01767665322032362,0.01456259821896281,0.048900327562002806,0.027383015597920276,0.028482217652882495,0.04083579811086728,0.03687159912287826,0.03369890329012961,0.03605677023398543,0.0315031503150315,0.03388933015620863,0.023630742049469966,0.033838060709461854,0.036202995366878564,0.040827077571447386,0.03649780614280016,0.041362942871673164,0.020925182601829306,0.04388770433546553,0.03216278306531013,0.03076227097941642,0.02608784265769897,0.018733850129198967,0.03643461288223813,0.022937241159604972,0.03400405552955857,0.020271727409963337,0.028967254408060455,0.018444266238973536,0.01423487544483986,0.004163197335553706,0.01676337846550613]]]}}},\"view\":{\"type\":\"object\",\"name\":\"CDSView\",\"id\":\"p2237\",\"attributes\":{\"filter\":{\"type\":\"object\",\"name\":\"AllIndices\",\"id\":\"p2238\"}}},\"glyph\":{\"type\":\"object\",\"name\":\"Line\",\"id\":\"p2233\",\"attributes\":{\"x\":{\"type\":\"field\",\"field\":\"x\"},\"y\":{\"type\":\"field\",\"field\":\"y\"},\"line_color\":\"#0B84A5\",\"line_width\":2}},\"nonselection_glyph\":{\"type\":\"object\",\"name\":\"Line\",\"id\":\"p2234\",\"attributes\":{\"x\":{\"type\":\"field\",\"field\":\"x\"},\"y\":{\"type\":\"field\",\"field\":\"y\"},\"line_color\":\"#0B84A5\",\"line_alpha\":0.1,\"line_width\":2}},\"muted_glyph\":{\"type\":\"object\",\"name\":\"Line\",\"id\":\"p2235\",\"attributes\":{\"x\":{\"type\":\"field\",\"field\":\"x\"},\"y\":{\"type\":\"field\",\"field\":\"y\"},\"line_color\":\"#0B84A5\",\"line_alpha\":0.2,\"line_width\":2}}}},{\"type\":\"object\",\"name\":\"GlyphRenderer\",\"id\":\"p2263\",\"attributes\":{\"data_source\":{\"type\":\"object\",\"name\":\"ColumnDataSource\",\"id\":\"p2257\",\"attributes\":{\"selected\":{\"type\":\"object\",\"name\":\"Selection\",\"id\":\"p2258\",\"attributes\":{\"indices\":[],\"line_indices\":[]}},\"selection_policy\":{\"type\":\"object\",\"name\":\"UnionRenderers\",\"id\":\"p2259\"},\"data\":{\"type\":\"map\",\"entries\":[[\"x\",[97,186,257,331,427,499,565,634,718,795,867,947,1023,1107,1198,1272,1341,1419,1484,1550,1635,1706,1778,1854,1933,2007,2098,2168,2244,2336,2405,2475,2542,2637,2724,2795,2864,2938,3005,3088,3164,3233,3316,3410,3482,3553,3621,3694,3769,3844]],[\"y\",[0.049899933288859236,0.049899933288859236,0.049899933288859236,0.049899933288859236,0.049899933288859236,0.049899933288859236,0.049899933288859236,0.049899933288859236,0.049899933288859236,0.049899933288859236,0.049899933288859236,0.049899933288859236,0.049899933288859236,0.049899933288859236,0.049899933288859236,0.049899933288859236,0.049899933288859236,0.049899933288859236,0.049899933288859236,0.049899933288859236,0.049899933288859236,0.049899933288859236,0.049899933288859236,0.049899933288859236,0.049899933288859236,0.049899933288859236,0.049899933288859236,0.049899933288859236,0.049899933288859236,0.049899933288859236,0.049899933288859236,0.049899933288859236,0.049899933288859236,0.049899933288859236,0.049899933288859236,0.049899933288859236,0.049899933288859236,0.049899933288859236,0.049899933288859236,0.049899933288859236,0.049899933288859236,0.049899933288859236,0.049899933288859236,0.049899933288859236,0.049899933288859236,0.049899933288859236,0.049899933288859236,0.049899933288859236,0.049899933288859236,0.049899933288859236]]]}}},\"view\":{\"type\":\"object\",\"name\":\"CDSView\",\"id\":\"p2264\",\"attributes\":{\"filter\":{\"type\":\"object\",\"name\":\"AllIndices\",\"id\":\"p2265\"}}},\"glyph\":{\"type\":\"object\",\"name\":\"Line\",\"id\":\"p2260\",\"attributes\":{\"x\":{\"type\":\"field\",\"field\":\"x\"},\"y\":{\"type\":\"field\",\"field\":\"y\"},\"line_alpha\":0.5,\"line_dash\":[6]}},\"nonselection_glyph\":{\"type\":\"object\",\"name\":\"Line\",\"id\":\"p2261\",\"attributes\":{\"x\":{\"type\":\"field\",\"field\":\"x\"},\"y\":{\"type\":\"field\",\"field\":\"y\"},\"line_alpha\":0.1,\"line_dash\":[6]}},\"muted_glyph\":{\"type\":\"object\",\"name\":\"Line\",\"id\":\"p2262\",\"attributes\":{\"x\":{\"type\":\"field\",\"field\":\"x\"},\"y\":{\"type\":\"field\",\"field\":\"y\"},\"line_alpha\":0.2,\"line_dash\":[6]}}}}],\"toolbar\":{\"type\":\"object\",\"name\":\"Toolbar\",\"id\":\"p2165\",\"attributes\":{\"tools\":[{\"type\":\"object\",\"name\":\"PanTool\",\"id\":\"p2190\"},{\"type\":\"object\",\"name\":\"WheelZoomTool\",\"id\":\"p2191\"},{\"type\":\"object\",\"name\":\"BoxZoomTool\",\"id\":\"p2192\",\"attributes\":{\"overlay\":{\"type\":\"object\",\"name\":\"BoxAnnotation\",\"id\":\"p2193\",\"attributes\":{\"syncable\":false,\"level\":\"overlay\",\"visible\":false,\"left_units\":\"canvas\",\"right_units\":\"canvas\",\"bottom_units\":\"canvas\",\"top_units\":\"canvas\",\"line_color\":\"black\",\"line_alpha\":1.0,\"line_width\":2,\"line_dash\":[4,4],\"fill_color\":\"lightgrey\",\"fill_alpha\":0.5}}}},{\"type\":\"object\",\"name\":\"SaveTool\",\"id\":\"p2194\"},{\"type\":\"object\",\"name\":\"ResetTool\",\"id\":\"p2195\"},{\"type\":\"object\",\"name\":\"HelpTool\",\"id\":\"p2196\"}]}},\"left\":[{\"type\":\"object\",\"name\":\"LinearAxis\",\"id\":\"p2183\",\"attributes\":{\"ticker\":{\"type\":\"object\",\"name\":\"BasicTicker\",\"id\":\"p2184\",\"attributes\":{\"mantissas\":[1,2,5]}},\"formatter\":{\"type\":\"object\",\"name\":\"NumeralTickFormatter\",\"id\":\"p2205\",\"attributes\":{\"format\":\"0.000\"}},\"axis_label\":\"F-score\",\"major_label_policy\":{\"type\":\"object\",\"name\":\"AllLabels\",\"id\":\"p2185\"}}}],\"right\":[{\"type\":\"object\",\"name\":\"Legend\",\"id\":\"p2228\",\"attributes\":{\"items\":[{\"type\":\"object\",\"name\":\"LegendItem\",\"id\":\"p2229\",\"attributes\":{\"label\":{\"type\":\"value\",\"value\":\"random\"},\"renderers\":[{\"id\":\"p2213\"}]}},{\"type\":\"object\",\"name\":\"LegendItem\",\"id\":\"p2256\",\"attributes\":{\"label\":{\"type\":\"value\",\"value\":\"least-confidence\"},\"renderers\":[{\"id\":\"p2236\"}]}}]}}],\"below\":[{\"type\":\"object\",\"name\":\"LinearAxis\",\"id\":\"p2176\",\"attributes\":{\"ticker\":{\"type\":\"object\",\"name\":\"BasicTicker\",\"id\":\"p2177\",\"attributes\":{\"mantissas\":[1,2,5]}},\"formatter\":{\"type\":\"object\",\"name\":\"BasicTickFormatter\",\"id\":\"p2179\"},\"axis_label\":\"Entities\",\"major_label_policy\":{\"type\":\"object\",\"name\":\"AllLabels\",\"id\":\"p2178\"}}}],\"center\":[{\"type\":\"object\",\"name\":\"Grid\",\"id\":\"p2182\",\"attributes\":{\"axis\":{\"id\":\"p2176\"}}},{\"type\":\"object\",\"name\":\"Grid\",\"id\":\"p2189\",\"attributes\":{\"dimension\":1,\"axis\":{\"id\":\"p2183\"}}},{\"id\":\"p2228\"}]}}]}};\n  const render_items = [{\"docid\":\"668e22cd-d5e5-4137-ad76-a60248176e2b\",\"roots\":{\"p2158\":\"2c350dad-8e1c-416c-bb67-e3e783baa9b1\"},\"root_ids\":[\"p2158\"]}];\n  root.Bokeh.embed.embed_items_notebook(docs_json, render_items);\n  }\n  if (root.Bokeh !== undefined) {\n    embed_document(root);\n  } else {\n    let attempts = 0;\n    const timer = setInterval(function(root) {\n      if (root.Bokeh !== undefined) {\n        clearInterval(timer);\n        embed_document(root);\n      } else {\n        attempts++;\n        if (attempts > 100) {\n          clearInterval(timer);\n          console.log(\"Bokeh: ERROR: Unable to run BokehJS code because BokehJS library is missing\");\n        }\n      }\n    }, 10, root)\n  }\n})(window);",
      "application/vnd.bokehjs_exec.v0+json": ""
     },
     "metadata": {
      "application/vnd.bokehjs_exec.v0+json": {
       "id": "p2158"
      }
     },
     "output_type": "display_data"
    },
    {
     "data": {
      "text/plain": [
       "'/home/jjamnicki/Documents/INZYNIERKA/figures/fscore_on_ents_rand_vs_lc_50it_50n.png'"
      ]
     },
     "execution_count": 8,
     "metadata": {},
     "output_type": "execute_result"
    }
   ],
   "source": [
    "p = figure(title=\"SpanCategorizer performance over number of entities\",\n",
    "           x_axis_label=\"Entities\",\n",
    "           y_axis_label=\"F-score\",\n",
    "           width=700,\n",
    "           height=400)\n",
    "p.title.align = \"center\"\n",
    "p.yaxis[0].formatter = NumeralTickFormatter(format=\"0.000\")\n",
    "\n",
    "p.line(random_entities_num, random_fscores, legend_label=\"random\", color=\"#F6C85F\", line_width=2)\n",
    "p.line(lc_entities_num, lc_fscores, legend_label=\"least-confidence\", color=\"#0B84A5\", line_width=2)\n",
    "\n",
    "max_rand_fscore = max(random_fscores)\n",
    "p.line(random_entities_num, [max_rand_fscore]*len(random_entities_num), color=\"black\", line_dash=\"dashed\", line_alpha=0.5)\n",
    "\n",
    "p.add_layout(p.legend[0], \"right\")\n",
    "\n",
    "show(p)\n",
    "\n",
    "out_path = FIGURES_DIR / f\"fscore_on_ents_rand_vs_lc_{ITERATIONS}it_{N_INSTANCES}n.png\"\n",
    "p.toolbar_location = None\n",
    "export_png(p, filename=out_path)"
   ]
  },
  {
   "cell_type": "markdown",
   "metadata": {},
   "source": [
    "## SpanCategorizer training loss over number of entities"
   ]
  },
  {
   "cell_type": "code",
   "execution_count": 11,
   "metadata": {},
   "outputs": [
    {
     "data": {
      "text/html": [
       "\n",
       "  <div id=\"048493f7-1d3e-40d6-9c0a-2b2f5a17e980\" data-root-id=\"p4057\" style=\"display: contents;\"></div>\n"
      ]
     },
     "metadata": {},
     "output_type": "display_data"
    },
    {
     "data": {
      "application/javascript": "(function(root) {\n  function embed_document(root) {\n  const docs_json = {\"fc422a9a-e5db-4b4c-96eb-efe90db78159\":{\"version\":\"3.0.2\",\"title\":\"Bokeh Application\",\"defs\":[],\"roots\":[{\"type\":\"object\",\"name\":\"Figure\",\"id\":\"p4057\",\"attributes\":{\"width\":700,\"height\":400,\"x_range\":{\"type\":\"object\",\"name\":\"DataRange1d\",\"id\":\"p4058\"},\"y_range\":{\"type\":\"object\",\"name\":\"DataRange1d\",\"id\":\"p4059\"},\"x_scale\":{\"type\":\"object\",\"name\":\"LinearScale\",\"id\":\"p4071\"},\"y_scale\":{\"type\":\"object\",\"name\":\"LinearScale\",\"id\":\"p4073\"},\"title\":{\"type\":\"object\",\"name\":\"Title\",\"id\":\"p4060\",\"attributes\":{\"text\":\"SpanCategorizer training loss over number of entities\",\"align\":\"center\"}},\"renderers\":[{\"type\":\"object\",\"name\":\"GlyphRenderer\",\"id\":\"p4112\",\"attributes\":{\"data_source\":{\"type\":\"object\",\"name\":\"ColumnDataSource\",\"id\":\"p4106\",\"attributes\":{\"selected\":{\"type\":\"object\",\"name\":\"Selection\",\"id\":\"p4107\",\"attributes\":{\"indices\":[],\"line_indices\":[]}},\"selection_policy\":{\"type\":\"object\",\"name\":\"UnionRenderers\",\"id\":\"p4108\"},\"data\":{\"type\":\"map\",\"entries\":[[\"x\",[97,186,257,331,427,499,565,634,718,795,867,947,1023,1107,1198,1272,1341,1419,1484,1550,1635,1706,1778,1854,1933,2007,2098,2168,2244,2336,2405,2475,2542,2637,2724,2795,2864,2938,3005,3088,3164,3233,3316,3410,3482,3553,3621,3694,3769,3844]],[\"y\",[3358.302978515625,3949.673828125,6484.0380859375,9726.6708984375,14651.44140625,14161.314453125,19466.1171875,23100.71875,24788.94921875,27648.8984375,34378.4921875,29321.09375,38879.59375,38004.734375,45009.140625,43909.25,42385.76171875,42965.765625,41106.13671875,55820.99609375,46829.37219238281,47699.732421875,60908.93505859375,54484.88916015625,58530.181640625,59337.5791015625,64122.3720703125,54849.0390625,66381.7568359375,66157.13671875,74117.09375,61407.3994140625,71442.1328125,70067.216796875,54016.9423828125,76210.69140625,76195.10546875,66889.130859375,78927.87109375,83866.794921875,71878.48071289062,79729.86608886719,83046.17138671875,95497.38073730469,84677.61108398438,76502.94799804688,75493.00402832031,79740.82788085938,81124.82250976562,74809.22827148438]]]}}},\"view\":{\"type\":\"object\",\"name\":\"CDSView\",\"id\":\"p4113\",\"attributes\":{\"filter\":{\"type\":\"object\",\"name\":\"AllIndices\",\"id\":\"p4114\"}}},\"glyph\":{\"type\":\"object\",\"name\":\"Line\",\"id\":\"p4109\",\"attributes\":{\"x\":{\"type\":\"field\",\"field\":\"x\"},\"y\":{\"type\":\"field\",\"field\":\"y\"},\"line_color\":\"#F6C85F\",\"line_width\":2}},\"nonselection_glyph\":{\"type\":\"object\",\"name\":\"Line\",\"id\":\"p4110\",\"attributes\":{\"x\":{\"type\":\"field\",\"field\":\"x\"},\"y\":{\"type\":\"field\",\"field\":\"y\"},\"line_color\":\"#F6C85F\",\"line_alpha\":0.1,\"line_width\":2}},\"muted_glyph\":{\"type\":\"object\",\"name\":\"Line\",\"id\":\"p4111\",\"attributes\":{\"x\":{\"type\":\"field\",\"field\":\"x\"},\"y\":{\"type\":\"field\",\"field\":\"y\"},\"line_color\":\"#F6C85F\",\"line_alpha\":0.2,\"line_width\":2}}}},{\"type\":\"object\",\"name\":\"GlyphRenderer\",\"id\":\"p4135\",\"attributes\":{\"data_source\":{\"type\":\"object\",\"name\":\"ColumnDataSource\",\"id\":\"p4129\",\"attributes\":{\"selected\":{\"type\":\"object\",\"name\":\"Selection\",\"id\":\"p4130\",\"attributes\":{\"indices\":[],\"line_indices\":[]}},\"selection_policy\":{\"type\":\"object\",\"name\":\"UnionRenderers\",\"id\":\"p4131\"},\"data\":{\"type\":\"map\",\"entries\":[[\"x\",[97,162,237,298,398,466,559,609,691,745,796,872,922,981,1068,1182,1276,1344,1421,1775,1839,1889,2015,2090,2190,2268,2373,2466,2527,2580,2767,2848,2905,2963,3036,3736,3787,3857,3907,3968,4018,4089,4139,4195,4245,4295,4349,4437,4487,4537]],[\"y\",[3358.302490234375,3901.61328125,6578.68212890625,9348.4140625,15973.46875,15336.134765625,19855.92578125,22023.984375,23876.40234375,26692.76171875,31176.884765625,26806.9453125,36303.421875,35753.53125,42789.9609375,42945.265625,41840.04296875,42154.11328125,41318.42578125,59855.0390625,50489.91589355469,48931.28234863281,62777.75244140625,56742.6201171875,59317.85791015625,61119.39111328125,64742.51953125,55668.5859375,68465.2490234375,67689.416015625,77402.0234375,63993.931640625,74622.0390625,74030.69140625,57027.30859375,78532.869140625,81705.939453125,72942.71484375,81112.162109375,83974.24609375,74065.45778083801,81455.01953125,87718.26745605469,97536.6064453125,87344.87060546875,79017.54345703125,79595.63269042969,84011.87060546875,84191.9873046875,78962.3017578125]]]}}},\"view\":{\"type\":\"object\",\"name\":\"CDSView\",\"id\":\"p4136\",\"attributes\":{\"filter\":{\"type\":\"object\",\"name\":\"AllIndices\",\"id\":\"p4137\"}}},\"glyph\":{\"type\":\"object\",\"name\":\"Line\",\"id\":\"p4132\",\"attributes\":{\"x\":{\"type\":\"field\",\"field\":\"x\"},\"y\":{\"type\":\"field\",\"field\":\"y\"},\"line_color\":\"#0B84A5\",\"line_width\":2}},\"nonselection_glyph\":{\"type\":\"object\",\"name\":\"Line\",\"id\":\"p4133\",\"attributes\":{\"x\":{\"type\":\"field\",\"field\":\"x\"},\"y\":{\"type\":\"field\",\"field\":\"y\"},\"line_color\":\"#0B84A5\",\"line_alpha\":0.1,\"line_width\":2}},\"muted_glyph\":{\"type\":\"object\",\"name\":\"Line\",\"id\":\"p4134\",\"attributes\":{\"x\":{\"type\":\"field\",\"field\":\"x\"},\"y\":{\"type\":\"field\",\"field\":\"y\"},\"line_color\":\"#0B84A5\",\"line_alpha\":0.2,\"line_width\":2}}}},{\"type\":\"object\",\"name\":\"GlyphRenderer\",\"id\":\"p4162\",\"attributes\":{\"data_source\":{\"type\":\"object\",\"name\":\"ColumnDataSource\",\"id\":\"p4156\",\"attributes\":{\"selected\":{\"type\":\"object\",\"name\":\"Selection\",\"id\":\"p4157\",\"attributes\":{\"indices\":[],\"line_indices\":[]}},\"selection_policy\":{\"type\":\"object\",\"name\":\"UnionRenderers\",\"id\":\"p4158\"},\"data\":{\"type\":\"map\",\"entries\":[[\"x\",[97,186,257,331,427,499,565,634,718,795,867,947,1023,1107,1198,1272,1341,1419,1484,1550,1635,1706,1778,1854,1933,2007,2098,2168,2244,2336,2405,2475,2542,2637,2724,2795,2864,2938,3005,3088,3164,3233,3316,3410,3482,3553,3621,3694,3769,3844]],[\"y\",[0.049899933288859236,0.049899933288859236,0.049899933288859236,0.049899933288859236,0.049899933288859236,0.049899933288859236,0.049899933288859236,0.049899933288859236,0.049899933288859236,0.049899933288859236,0.049899933288859236,0.049899933288859236,0.049899933288859236,0.049899933288859236,0.049899933288859236,0.049899933288859236,0.049899933288859236,0.049899933288859236,0.049899933288859236,0.049899933288859236,0.049899933288859236,0.049899933288859236,0.049899933288859236,0.049899933288859236,0.049899933288859236,0.049899933288859236,0.049899933288859236,0.049899933288859236,0.049899933288859236,0.049899933288859236,0.049899933288859236,0.049899933288859236,0.049899933288859236,0.049899933288859236,0.049899933288859236,0.049899933288859236,0.049899933288859236,0.049899933288859236,0.049899933288859236,0.049899933288859236,0.049899933288859236,0.049899933288859236,0.049899933288859236,0.049899933288859236,0.049899933288859236,0.049899933288859236,0.049899933288859236,0.049899933288859236,0.049899933288859236,0.049899933288859236]]]}}},\"view\":{\"type\":\"object\",\"name\":\"CDSView\",\"id\":\"p4163\",\"attributes\":{\"filter\":{\"type\":\"object\",\"name\":\"AllIndices\",\"id\":\"p4164\"}}},\"glyph\":{\"type\":\"object\",\"name\":\"Line\",\"id\":\"p4159\",\"attributes\":{\"x\":{\"type\":\"field\",\"field\":\"x\"},\"y\":{\"type\":\"field\",\"field\":\"y\"},\"line_alpha\":0.5,\"line_dash\":[6]}},\"nonselection_glyph\":{\"type\":\"object\",\"name\":\"Line\",\"id\":\"p4160\",\"attributes\":{\"x\":{\"type\":\"field\",\"field\":\"x\"},\"y\":{\"type\":\"field\",\"field\":\"y\"},\"line_alpha\":0.1,\"line_dash\":[6]}},\"muted_glyph\":{\"type\":\"object\",\"name\":\"Line\",\"id\":\"p4161\",\"attributes\":{\"x\":{\"type\":\"field\",\"field\":\"x\"},\"y\":{\"type\":\"field\",\"field\":\"y\"},\"line_alpha\":0.2,\"line_dash\":[6]}}}}],\"toolbar\":{\"type\":\"object\",\"name\":\"Toolbar\",\"id\":\"p4064\",\"attributes\":{\"tools\":[{\"type\":\"object\",\"name\":\"PanTool\",\"id\":\"p4089\"},{\"type\":\"object\",\"name\":\"WheelZoomTool\",\"id\":\"p4090\"},{\"type\":\"object\",\"name\":\"BoxZoomTool\",\"id\":\"p4091\",\"attributes\":{\"overlay\":{\"type\":\"object\",\"name\":\"BoxAnnotation\",\"id\":\"p4092\",\"attributes\":{\"syncable\":false,\"level\":\"overlay\",\"visible\":false,\"left_units\":\"canvas\",\"right_units\":\"canvas\",\"bottom_units\":\"canvas\",\"top_units\":\"canvas\",\"line_color\":\"black\",\"line_alpha\":1.0,\"line_width\":2,\"line_dash\":[4,4],\"fill_color\":\"lightgrey\",\"fill_alpha\":0.5}}}},{\"type\":\"object\",\"name\":\"SaveTool\",\"id\":\"p4093\"},{\"type\":\"object\",\"name\":\"ResetTool\",\"id\":\"p4094\"},{\"type\":\"object\",\"name\":\"HelpTool\",\"id\":\"p4095\"}]}},\"left\":[{\"type\":\"object\",\"name\":\"LinearAxis\",\"id\":\"p4082\",\"attributes\":{\"ticker\":{\"type\":\"object\",\"name\":\"BasicTicker\",\"id\":\"p4083\",\"attributes\":{\"mantissas\":[1,2,5]}},\"formatter\":{\"type\":\"object\",\"name\":\"NumeralTickFormatter\",\"id\":\"p4104\",\"attributes\":{\"format\":\"0\"}},\"axis_label\":\"Loss\",\"major_label_policy\":{\"type\":\"object\",\"name\":\"AllLabels\",\"id\":\"p4084\"}}}],\"right\":[{\"type\":\"object\",\"name\":\"Legend\",\"id\":\"p4127\",\"attributes\":{\"items\":[{\"type\":\"object\",\"name\":\"LegendItem\",\"id\":\"p4128\",\"attributes\":{\"label\":{\"type\":\"value\",\"value\":\"random\"},\"renderers\":[{\"id\":\"p4112\"}]}},{\"type\":\"object\",\"name\":\"LegendItem\",\"id\":\"p4155\",\"attributes\":{\"label\":{\"type\":\"value\",\"value\":\"least-confidence\"},\"renderers\":[{\"id\":\"p4135\"}]}}]}}],\"below\":[{\"type\":\"object\",\"name\":\"LinearAxis\",\"id\":\"p4075\",\"attributes\":{\"ticker\":{\"type\":\"object\",\"name\":\"BasicTicker\",\"id\":\"p4076\",\"attributes\":{\"mantissas\":[1,2,5]}},\"formatter\":{\"type\":\"object\",\"name\":\"BasicTickFormatter\",\"id\":\"p4078\"},\"axis_label\":\"Entities\",\"major_label_policy\":{\"type\":\"object\",\"name\":\"AllLabels\",\"id\":\"p4077\"}}}],\"center\":[{\"type\":\"object\",\"name\":\"Grid\",\"id\":\"p4081\",\"attributes\":{\"axis\":{\"id\":\"p4075\"}}},{\"type\":\"object\",\"name\":\"Grid\",\"id\":\"p4088\",\"attributes\":{\"dimension\":1,\"axis\":{\"id\":\"p4082\"}}},{\"id\":\"p4127\"}]}}]}};\n  const render_items = [{\"docid\":\"fc422a9a-e5db-4b4c-96eb-efe90db78159\",\"roots\":{\"p4057\":\"048493f7-1d3e-40d6-9c0a-2b2f5a17e980\"},\"root_ids\":[\"p4057\"]}];\n  root.Bokeh.embed.embed_items_notebook(docs_json, render_items);\n  }\n  if (root.Bokeh !== undefined) {\n    embed_document(root);\n  } else {\n    let attempts = 0;\n    const timer = setInterval(function(root) {\n      if (root.Bokeh !== undefined) {\n        clearInterval(timer);\n        embed_document(root);\n      } else {\n        attempts++;\n        if (attempts > 100) {\n          clearInterval(timer);\n          console.log(\"Bokeh: ERROR: Unable to run BokehJS code because BokehJS library is missing\");\n        }\n      }\n    }, 10, root)\n  }\n})(window);",
      "application/vnd.bokehjs_exec.v0+json": ""
     },
     "metadata": {
      "application/vnd.bokehjs_exec.v0+json": {
       "id": "p4057"
      }
     },
     "output_type": "display_data"
    },
    {
     "data": {
      "text/plain": [
       "'/home/jjamnicki/Documents/INZYNIERKA/figures/loss_on_ents_rand_vs_lc_50it_50n.png'"
      ]
     },
     "execution_count": 11,
     "metadata": {},
     "output_type": "execute_result"
    }
   ],
   "source": [
    "p = figure(title=\"SpanCategorizer training loss over number of entities\",\n",
    "           x_axis_label=\"Entities\",\n",
    "           y_axis_label=\"Loss\",\n",
    "           width=700,\n",
    "           height=400)\n",
    "p.title.align = \"center\"\n",
    "p.yaxis[0].formatter = NumeralTickFormatter(format=\"0\")\n",
    "\n",
    "p.line(random_entities_num, random_losses, legend_label=\"random\", color=\"#F6C85F\", line_width=2)\n",
    "p.line(lc_entities_num, lc_losses, legend_label=\"least-confidence\", color=\"#0B84A5\", line_width=2)\n",
    "\n",
    "max_rand_fscore = max(random_fscores)\n",
    "p.line(random_entities_num, [max_rand_fscore]*len(random_entities_num), color=\"black\", line_dash=\"dashed\", line_alpha=0.5)\n",
    "\n",
    "p.add_layout(p.legend[0], \"right\")\n",
    "\n",
    "show(p)\n",
    "\n",
    "out_path = FIGURES_DIR / f\"loss_on_ents_rand_vs_lc_{ITERATIONS}it_{N_INSTANCES}n.png\"\n",
    "p.toolbar_location = None\n",
    "export_png(p, filename=out_path)"
   ]
  },
  {
   "cell_type": "code",
   "execution_count": null,
   "metadata": {},
   "outputs": [],
   "source": []
  }
 ],
 "metadata": {
  "kernelspec": {
   "display_name": "Python 3.8.0 ('bachelor_tp_visuals')",
   "language": "python",
   "name": "python3"
  },
  "language_info": {
   "codemirror_mode": {
    "name": "ipython",
    "version": 3
   },
   "file_extension": ".py",
   "mimetype": "text/x-python",
   "name": "python",
   "nbconvert_exporter": "python",
   "pygments_lexer": "ipython3",
   "version": "3.8.0"
  },
  "orig_nbformat": 4,
  "vscode": {
   "interpreter": {
    "hash": "f990454114ec40012f61138adc3fdd606994f0e49c1ee311f2e2638563ceaf32"
   }
  }
 },
 "nbformat": 4,
 "nbformat_minor": 2
}

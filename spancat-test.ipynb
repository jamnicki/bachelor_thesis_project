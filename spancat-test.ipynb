{
 "cells": [
  {
   "cell_type": "code",
   "execution_count": 7,
   "metadata": {},
   "outputs": [],
   "source": [
    "%load_ext autoreload\n",
    "%autoreload"
   ]
  },
  {
   "cell_type": "code",
   "execution_count": 2,
   "metadata": {},
   "outputs": [],
   "source": [
    "from spacy.cli.train import train\n",
    "from spacy.cli.evaluate import evaluate\n",
    "from spacy.tokens import DocBin\n",
    "\n",
    "import argilla as rg\n",
    "\n",
    "from pathlib import Path\n",
    "from pprint import pprint"
   ]
  },
  {
   "cell_type": "code",
   "execution_count": 3,
   "metadata": {},
   "outputs": [],
   "source": [
    "DATA_DIR = Path(\"data\")\n",
    "TRAIN_DB = DATA_DIR / Path(\"inzynierka-kpwr-train-3.spacy\")\n",
    "TEST_DB = DATA_DIR / Path(\"inzynierka-kpwr-test-3.spacy\")\n",
    "\n",
    "CONFIG_DIR = Path(\"config\") / Path(\"spacy\")\n",
    "CONFIG = CONFIG_DIR / Path(\"config.cfg\")\n",
    "\n",
    "MODELS_DIR = Path(\"models\")\n",
    "MODELS_DIR.mkdir(exist_ok=True)\n",
    "\n",
    "MODEL_OUT = MODELS_DIR / Path(\"spancat-kpwr-3.spacy\")\n",
    "MODEL_LAST = MODEL_OUT / Path(\"model-last\")"
   ]
  },
  {
   "cell_type": "code",
   "execution_count": 4,
   "metadata": {},
   "outputs": [
    {
     "name": "stdout",
     "output_type": "stream",
     "text": [
      "\u001b[38;5;4mℹ Saving to output directory: models/spancat-kpwr-3.spacy\u001b[0m\n",
      "\u001b[38;5;4mℹ Using CPU\u001b[0m\n",
      "\u001b[1m\n",
      "=========================== Initializing pipeline ===========================\u001b[0m\n",
      "\u001b[38;5;2m✔ Initialized pipeline\u001b[0m\n",
      "\u001b[1m\n",
      "============================= Training pipeline =============================\u001b[0m\n",
      "\u001b[38;5;4mℹ Pipeline: ['tok2vec', 'spancat']\u001b[0m\n",
      "\u001b[38;5;4mℹ Initial learn rate: 0.001\u001b[0m\n",
      "E    #       LOSS TOK2VEC  LOSS SPANCAT  SPANS_SC_F  SPANS_SC_P  SPANS_SC_R  SCORE \n",
      "---  ------  ------------  ------------  ----------  ----------  ----------  ------\n",
      "  0       0         18.80        395.65        2.00        1.03       37.58    0.02\n",
      "  2     200         25.83       1847.57       40.17       68.12       28.48    0.40\n",
      "  5     400          4.46        763.00       57.03       76.53       45.45    0.57\n",
      "  9     600          2.79        350.84       53.50       83.33       39.39    0.53\n",
      " 13     800          0.65        258.09       59.64       74.55       49.70    0.60\n",
      " 19    1000          0.77        200.41       56.03       78.26       43.64    0.56\n",
      " 26    1200          0.51        195.87       55.09       73.00       44.24    0.55\n",
      " 34    1400          0.42        214.34       55.78       81.40       42.42    0.56\n",
      " 45    1600          0.24        233.03       56.20       70.64       46.67    0.56\n",
      " 58    1800          0.42        270.20       50.77       69.47       40.00    0.51\n",
      " 73    2000          0.64        270.97       51.96       62.93       44.24    0.52\n",
      " 92    2200          0.49        220.98       52.78       61.79       46.06    0.53\n",
      "115    2400          0.37        216.37       52.90       65.77       44.24    0.53\n",
      "\u001b[38;5;2m✔ Saved pipeline to output directory\u001b[0m\n",
      "models/spancat-kpwr-3.spacy/model-last\n"
     ]
    }
   ],
   "source": [
    "train(CONFIG,\n",
    "    output_path=MODEL_OUT,\n",
    "    overrides={\n",
    "        \"paths.train\": str(TRAIN_DB),\n",
    "        \"paths.dev\": str(TEST_DB)\n",
    "    }\n",
    ")"
   ]
  },
  {
   "cell_type": "code",
   "execution_count": 5,
   "metadata": {},
   "outputs": [],
   "source": [
    "results = evaluate(MODEL_LAST,\n",
    "    data_path=TEST_DB\n",
    ")"
   ]
  },
  {
   "cell_type": "code",
   "execution_count": 6,
   "metadata": {},
   "outputs": [
    {
     "name": "stdout",
     "output_type": "stream",
     "text": [
      "{'spans_sc_f': 0.5289855072463768,\n",
      " 'spans_sc_p': 0.6576576576576577,\n",
      " 'spans_sc_per_type': {'nam_liv_person': {'f': 0.5465838509316769,\n",
      "                                          'p': 0.7586206896551724,\n",
      "                                          'r': 0.42718446601941745},\n",
      "                       'nam_loc_gpe_city': {'f': 0.4307692307692308,\n",
      "                                            'p': 0.5,\n",
      "                                            'r': 0.3783783783783784},\n",
      "                       'nam_loc_gpe_country': {'f': 0.6, 'p': 0.6, 'r': 0.6}},\n",
      " 'spans_sc_r': 0.44242424242424244,\n",
      " 'speed': 8617.884329577864,\n",
      " 'token_acc': 1.0,\n",
      " 'token_f': 1.0,\n",
      " 'token_p': 1.0,\n",
      " 'token_r': 1.0}\n"
     ]
    }
   ],
   "source": [
    "pprint(results)"
   ]
  },
  {
   "cell_type": "code",
   "execution_count": null,
   "metadata": {},
   "outputs": [],
   "source": [
    "seed_docbin = DocBin()\n",
    "query_history = set()"
   ]
  }
 ],
 "metadata": {
  "kernelspec": {
   "display_name": "Python 3.8.13 ('inzynierka')",
   "language": "python",
   "name": "python3"
  },
  "language_info": {
   "codemirror_mode": {
    "name": "ipython",
    "version": 3
   },
   "file_extension": ".py",
   "mimetype": "text/x-python",
   "name": "python",
   "nbconvert_exporter": "python",
   "pygments_lexer": "ipython3",
   "version": "3.8.13"
  },
  "orig_nbformat": 4,
  "vscode": {
   "interpreter": {
    "hash": "f93f2a12df6eac11490746e2731e653b567b740467f1f6260fc82eafdd8ce6df"
   }
  }
 },
 "nbformat": 4,
 "nbformat_minor": 2
}
